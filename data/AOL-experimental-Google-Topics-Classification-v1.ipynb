{
 "cells": [
  {
   "cell_type": "markdown",
   "id": "0caecbc0",
   "metadata": {},
   "source": [
    "# AOL Experimental Dataset (Google Topics v1)"
   ]
  },
  {
   "cell_type": "code",
   "execution_count": 1,
   "id": "aae8cfae",
   "metadata": {},
   "outputs": [],
   "source": [
    "import pandas, random"
   ]
  },
  {
   "cell_type": "markdown",
   "id": "c36e982c",
   "metadata": {},
   "source": [
    "## AOL reduced dataset with Google Topics Classification v1"
   ]
  },
  {
   "cell_type": "code",
   "execution_count": 2,
   "id": "f51ad31a",
   "metadata": {},
   "outputs": [
    {
     "name": "stdout",
     "output_type": "stream",
     "text": [
      "CPU times: user 4.13 s, sys: 357 ms, total: 4.49 s\n",
      "Wall time: 4.51 s\n"
     ]
    }
   ],
   "source": [
    "%%time\n",
    "aol_reduced_google = pandas.read_csv('AOL-reduced-Google-Topics-Classification-v1.csv', low_memory=False, on_bad_lines='warn', index_col=0)"
   ]
  },
  {
   "cell_type": "code",
   "execution_count": 3,
   "id": "2a6caf33",
   "metadata": {},
   "outputs": [
    {
     "name": "stdout",
     "output_type": "stream",
     "text": [
      "CPU times: user 2.01 s, sys: 6.19 ms, total: 2.02 s\n",
      "Wall time: 2.01 s\n"
     ]
    }
   ],
   "source": [
    "%%time\n",
    "aol_reduced_google['QueryTime'] = pandas.to_datetime(aol_reduced_google['QueryTime'])"
   ]
  },
  {
   "cell_type": "code",
   "execution_count": 4,
   "id": "90751ff4",
   "metadata": {},
   "outputs": [
    {
     "data": {
      "text/html": [
       "<div>\n",
       "<style scoped>\n",
       "    .dataframe tbody tr th:only-of-type {\n",
       "        vertical-align: middle;\n",
       "    }\n",
       "\n",
       "    .dataframe tbody tr th {\n",
       "        vertical-align: top;\n",
       "    }\n",
       "\n",
       "    .dataframe thead th {\n",
       "        text-align: right;\n",
       "    }\n",
       "</style>\n",
       "<table border=\"1\" class=\"dataframe\">\n",
       "  <thead>\n",
       "    <tr style=\"text-align: right;\">\n",
       "      <th></th>\n",
       "      <th>RandID</th>\n",
       "      <th>QueryTime</th>\n",
       "      <th>Domain</th>\n",
       "      <th>topics</th>\n",
       "    </tr>\n",
       "  </thead>\n",
       "  <tbody>\n",
       "    <tr>\n",
       "      <th>0</th>\n",
       "      <td>0</td>\n",
       "      <td>2006-04-20 17:37:26</td>\n",
       "      <td>imdb.com</td>\n",
       "      <td>'12','45'</td>\n",
       "    </tr>\n",
       "    <tr>\n",
       "      <th>1</th>\n",
       "      <td>13</td>\n",
       "      <td>2006-03-10 11:51:57</td>\n",
       "      <td>imdb.com</td>\n",
       "      <td>'12','45'</td>\n",
       "    </tr>\n",
       "    <tr>\n",
       "      <th>2</th>\n",
       "      <td>13</td>\n",
       "      <td>2006-03-25 05:10:47</td>\n",
       "      <td>imdb.com</td>\n",
       "      <td>'12','45'</td>\n",
       "    </tr>\n",
       "    <tr>\n",
       "      <th>3</th>\n",
       "      <td>20</td>\n",
       "      <td>2006-04-07 21:13:02</td>\n",
       "      <td>imdb.com</td>\n",
       "      <td>'12','45'</td>\n",
       "    </tr>\n",
       "    <tr>\n",
       "      <th>4</th>\n",
       "      <td>21</td>\n",
       "      <td>2006-05-15 21:18:53</td>\n",
       "      <td>imdb.com</td>\n",
       "      <td>'12','45'</td>\n",
       "    </tr>\n",
       "    <tr>\n",
       "      <th>...</th>\n",
       "      <td>...</td>\n",
       "      <td>...</td>\n",
       "      <td>...</td>\n",
       "      <td>...</td>\n",
       "    </tr>\n",
       "    <tr>\n",
       "      <th>2495271</th>\n",
       "      <td>515243</td>\n",
       "      <td>2006-05-24 21:46:51</td>\n",
       "      <td>computrabajo.com.pe</td>\n",
       "      <td>'236'</td>\n",
       "    </tr>\n",
       "    <tr>\n",
       "      <th>2495272</th>\n",
       "      <td>515761</td>\n",
       "      <td>2006-04-18 19:49:49</td>\n",
       "      <td>atv.com.tr</td>\n",
       "      <td>'1','48'</td>\n",
       "    </tr>\n",
       "    <tr>\n",
       "      <th>2495273</th>\n",
       "      <td>515761</td>\n",
       "      <td>2006-04-18 19:49:49</td>\n",
       "      <td>atv.com.tr</td>\n",
       "      <td>'1','48'</td>\n",
       "    </tr>\n",
       "    <tr>\n",
       "      <th>2495274</th>\n",
       "      <td>515761</td>\n",
       "      <td>2006-04-18 19:54:33</td>\n",
       "      <td>atv.com.tr</td>\n",
       "      <td>'1','48'</td>\n",
       "    </tr>\n",
       "    <tr>\n",
       "      <th>2495275</th>\n",
       "      <td>519040</td>\n",
       "      <td>2006-04-25 21:36:13</td>\n",
       "      <td>google.gr</td>\n",
       "      <td>'219','223'</td>\n",
       "    </tr>\n",
       "  </tbody>\n",
       "</table>\n",
       "<p>2495276 rows × 4 columns</p>\n",
       "</div>"
      ],
      "text/plain": [
       "         RandID           QueryTime               Domain       topics\n",
       "0             0 2006-04-20 17:37:26             imdb.com    '12','45'\n",
       "1            13 2006-03-10 11:51:57             imdb.com    '12','45'\n",
       "2            13 2006-03-25 05:10:47             imdb.com    '12','45'\n",
       "3            20 2006-04-07 21:13:02             imdb.com    '12','45'\n",
       "4            21 2006-05-15 21:18:53             imdb.com    '12','45'\n",
       "...         ...                 ...                  ...          ...\n",
       "2495271  515243 2006-05-24 21:46:51  computrabajo.com.pe        '236'\n",
       "2495272  515761 2006-04-18 19:49:49           atv.com.tr     '1','48'\n",
       "2495273  515761 2006-04-18 19:49:49           atv.com.tr     '1','48'\n",
       "2495274  515761 2006-04-18 19:54:33           atv.com.tr     '1','48'\n",
       "2495275  519040 2006-04-25 21:36:13            google.gr  '219','223'\n",
       "\n",
       "[2495276 rows x 4 columns]"
      ]
     },
     "metadata": {},
     "output_type": "display_data"
    }
   ],
   "source": [
    "display(aol_reduced_google)"
   ]
  },
  {
   "cell_type": "markdown",
   "id": "58fd0d3a",
   "metadata": {},
   "source": [
    "### Drop singletons"
   ]
  },
  {
   "cell_type": "code",
   "execution_count": 5,
   "id": "9caca76d",
   "metadata": {},
   "outputs": [
    {
     "name": "stdout",
     "output_type": "stream",
     "text": [
      "CPU times: user 1.01 s, sys: 23.1 ms, total: 1.03 s\n",
      "Wall time: 1.03 s\n"
     ]
    }
   ],
   "source": [
    "%%time\n",
    "singletons = (aol_reduced_google[['RandID','Domain']].groupby('RandID').count() == 1).index[(aol_reduced_google[['RandID','Domain']].groupby('RandID').count() == 1)['Domain'].to_list()]"
   ]
  },
  {
   "cell_type": "code",
   "execution_count": 6,
   "id": "c80be499",
   "metadata": {},
   "outputs": [
    {
     "name": "stdout",
     "output_type": "stream",
     "text": [
      "CPU times: user 7min 34s, sys: 135 ms, total: 7min 34s\n",
      "Wall time: 7min 34s\n"
     ]
    }
   ],
   "source": [
    "%%time\n",
    "rows_to_drop = []\n",
    "for i in singletons:\n",
    "    rows_to_drop.append(aol_reduced_google[aol_reduced_google['RandID'] == i].index.to_list()[0])"
   ]
  },
  {
   "cell_type": "code",
   "execution_count": 7,
   "id": "85e6bc65",
   "metadata": {},
   "outputs": [
    {
     "data": {
      "text/plain": [
       "94047"
      ]
     },
     "metadata": {},
     "output_type": "display_data"
    }
   ],
   "source": [
    "display(len(rows_to_drop))"
   ]
  },
  {
   "cell_type": "code",
   "execution_count": 8,
   "id": "8df96e71",
   "metadata": {},
   "outputs": [],
   "source": [
    "aol_reduced_google = aol_reduced_google.drop(rows_to_drop)"
   ]
  },
  {
   "cell_type": "code",
   "execution_count": 9,
   "id": "52d57fe1",
   "metadata": {},
   "outputs": [],
   "source": [
    "aol_reduced_google = aol_reduced_google.reset_index(drop=True)"
   ]
  },
  {
   "cell_type": "code",
   "execution_count": 10,
   "id": "3fbfdd4e",
   "metadata": {},
   "outputs": [
    {
     "data": {
      "text/html": [
       "<div>\n",
       "<style scoped>\n",
       "    .dataframe tbody tr th:only-of-type {\n",
       "        vertical-align: middle;\n",
       "    }\n",
       "\n",
       "    .dataframe tbody tr th {\n",
       "        vertical-align: top;\n",
       "    }\n",
       "\n",
       "    .dataframe thead th {\n",
       "        text-align: right;\n",
       "    }\n",
       "</style>\n",
       "<table border=\"1\" class=\"dataframe\">\n",
       "  <thead>\n",
       "    <tr style=\"text-align: right;\">\n",
       "      <th></th>\n",
       "      <th>RandID</th>\n",
       "      <th>QueryTime</th>\n",
       "      <th>Domain</th>\n",
       "      <th>topics</th>\n",
       "    </tr>\n",
       "  </thead>\n",
       "  <tbody>\n",
       "    <tr>\n",
       "      <th>0</th>\n",
       "      <td>13</td>\n",
       "      <td>2006-03-10 11:51:57</td>\n",
       "      <td>imdb.com</td>\n",
       "      <td>'12','45'</td>\n",
       "    </tr>\n",
       "    <tr>\n",
       "      <th>1</th>\n",
       "      <td>13</td>\n",
       "      <td>2006-03-25 05:10:47</td>\n",
       "      <td>imdb.com</td>\n",
       "      <td>'12','45'</td>\n",
       "    </tr>\n",
       "    <tr>\n",
       "      <th>2</th>\n",
       "      <td>20</td>\n",
       "      <td>2006-04-07 21:13:02</td>\n",
       "      <td>imdb.com</td>\n",
       "      <td>'12','45'</td>\n",
       "    </tr>\n",
       "    <tr>\n",
       "      <th>3</th>\n",
       "      <td>21</td>\n",
       "      <td>2006-05-15 21:18:53</td>\n",
       "      <td>imdb.com</td>\n",
       "      <td>'12','45'</td>\n",
       "    </tr>\n",
       "    <tr>\n",
       "      <th>4</th>\n",
       "      <td>33</td>\n",
       "      <td>2006-05-20 02:17:44</td>\n",
       "      <td>imdb.com</td>\n",
       "      <td>'12','45'</td>\n",
       "    </tr>\n",
       "    <tr>\n",
       "      <th>...</th>\n",
       "      <td>...</td>\n",
       "      <td>...</td>\n",
       "      <td>...</td>\n",
       "      <td>...</td>\n",
       "    </tr>\n",
       "    <tr>\n",
       "      <th>2401224</th>\n",
       "      <td>515243</td>\n",
       "      <td>2006-05-24 21:46:51</td>\n",
       "      <td>computrabajo.com.pe</td>\n",
       "      <td>'236'</td>\n",
       "    </tr>\n",
       "    <tr>\n",
       "      <th>2401225</th>\n",
       "      <td>515761</td>\n",
       "      <td>2006-04-18 19:49:49</td>\n",
       "      <td>atv.com.tr</td>\n",
       "      <td>'1','48'</td>\n",
       "    </tr>\n",
       "    <tr>\n",
       "      <th>2401226</th>\n",
       "      <td>515761</td>\n",
       "      <td>2006-04-18 19:49:49</td>\n",
       "      <td>atv.com.tr</td>\n",
       "      <td>'1','48'</td>\n",
       "    </tr>\n",
       "    <tr>\n",
       "      <th>2401227</th>\n",
       "      <td>515761</td>\n",
       "      <td>2006-04-18 19:54:33</td>\n",
       "      <td>atv.com.tr</td>\n",
       "      <td>'1','48'</td>\n",
       "    </tr>\n",
       "    <tr>\n",
       "      <th>2401228</th>\n",
       "      <td>519040</td>\n",
       "      <td>2006-04-25 21:36:13</td>\n",
       "      <td>google.gr</td>\n",
       "      <td>'219','223'</td>\n",
       "    </tr>\n",
       "  </tbody>\n",
       "</table>\n",
       "<p>2401229 rows × 4 columns</p>\n",
       "</div>"
      ],
      "text/plain": [
       "         RandID           QueryTime               Domain       topics\n",
       "0            13 2006-03-10 11:51:57             imdb.com    '12','45'\n",
       "1            13 2006-03-25 05:10:47             imdb.com    '12','45'\n",
       "2            20 2006-04-07 21:13:02             imdb.com    '12','45'\n",
       "3            21 2006-05-15 21:18:53             imdb.com    '12','45'\n",
       "4            33 2006-05-20 02:17:44             imdb.com    '12','45'\n",
       "...         ...                 ...                  ...          ...\n",
       "2401224  515243 2006-05-24 21:46:51  computrabajo.com.pe        '236'\n",
       "2401225  515761 2006-04-18 19:49:49           atv.com.tr     '1','48'\n",
       "2401226  515761 2006-04-18 19:49:49           atv.com.tr     '1','48'\n",
       "2401227  515761 2006-04-18 19:54:33           atv.com.tr     '1','48'\n",
       "2401228  519040 2006-04-25 21:36:13            google.gr  '219','223'\n",
       "\n",
       "[2401229 rows x 4 columns]"
      ]
     },
     "metadata": {},
     "output_type": "display_data"
    }
   ],
   "source": [
    "display(aol_reduced_google)"
   ]
  },
  {
   "cell_type": "markdown",
   "id": "02a5aee8",
   "metadata": {},
   "source": [
    "### Drop outlier"
   ]
  },
  {
   "cell_type": "code",
   "execution_count": 11,
   "id": "df79bed5",
   "metadata": {},
   "outputs": [
    {
     "data": {
      "text/plain": [
       "RandID\n",
       "83937     18938\n",
       "211028      930\n",
       "443325      851\n",
       "97578       771\n",
       "146607      736\n",
       "          ...  \n",
       "280676        2\n",
       "280813        2\n",
       "280985        2\n",
       "281645        2\n",
       "468776        2\n",
       "Name: count, Length: 230927, dtype: int64"
      ]
     },
     "metadata": {},
     "output_type": "display_data"
    },
    {
     "name": "stdout",
     "output_type": "stream",
     "text": [
      "CPU times: user 150 ms, sys: 8 ms, total: 158 ms\n",
      "Wall time: 173 ms\n"
     ]
    }
   ],
   "source": [
    "%%time\n",
    "display(aol_reduced_google['RandID'].value_counts())"
   ]
  },
  {
   "cell_type": "code",
   "execution_count": 12,
   "id": "ee18e1ae",
   "metadata": {},
   "outputs": [],
   "source": [
    "aol_reduced_google = aol_reduced_google.drop(aol_reduced_google[aol_reduced_google['RandID'] == 83937].index.to_list())"
   ]
  },
  {
   "cell_type": "code",
   "execution_count": 13,
   "id": "85c6b29c",
   "metadata": {},
   "outputs": [],
   "source": [
    "aol_reduced_google = aol_reduced_google.reset_index(drop=True)"
   ]
  },
  {
   "cell_type": "code",
   "execution_count": 14,
   "id": "5b649c73",
   "metadata": {},
   "outputs": [
    {
     "data": {
      "text/html": [
       "<div>\n",
       "<style scoped>\n",
       "    .dataframe tbody tr th:only-of-type {\n",
       "        vertical-align: middle;\n",
       "    }\n",
       "\n",
       "    .dataframe tbody tr th {\n",
       "        vertical-align: top;\n",
       "    }\n",
       "\n",
       "    .dataframe thead th {\n",
       "        text-align: right;\n",
       "    }\n",
       "</style>\n",
       "<table border=\"1\" class=\"dataframe\">\n",
       "  <thead>\n",
       "    <tr style=\"text-align: right;\">\n",
       "      <th></th>\n",
       "      <th>RandID</th>\n",
       "      <th>QueryTime</th>\n",
       "      <th>Domain</th>\n",
       "      <th>topics</th>\n",
       "    </tr>\n",
       "  </thead>\n",
       "  <tbody>\n",
       "    <tr>\n",
       "      <th>0</th>\n",
       "      <td>13</td>\n",
       "      <td>2006-03-10 11:51:57</td>\n",
       "      <td>imdb.com</td>\n",
       "      <td>'12','45'</td>\n",
       "    </tr>\n",
       "    <tr>\n",
       "      <th>1</th>\n",
       "      <td>13</td>\n",
       "      <td>2006-03-25 05:10:47</td>\n",
       "      <td>imdb.com</td>\n",
       "      <td>'12','45'</td>\n",
       "    </tr>\n",
       "    <tr>\n",
       "      <th>2</th>\n",
       "      <td>20</td>\n",
       "      <td>2006-04-07 21:13:02</td>\n",
       "      <td>imdb.com</td>\n",
       "      <td>'12','45'</td>\n",
       "    </tr>\n",
       "    <tr>\n",
       "      <th>3</th>\n",
       "      <td>21</td>\n",
       "      <td>2006-05-15 21:18:53</td>\n",
       "      <td>imdb.com</td>\n",
       "      <td>'12','45'</td>\n",
       "    </tr>\n",
       "    <tr>\n",
       "      <th>4</th>\n",
       "      <td>33</td>\n",
       "      <td>2006-05-20 02:17:44</td>\n",
       "      <td>imdb.com</td>\n",
       "      <td>'12','45'</td>\n",
       "    </tr>\n",
       "    <tr>\n",
       "      <th>...</th>\n",
       "      <td>...</td>\n",
       "      <td>...</td>\n",
       "      <td>...</td>\n",
       "      <td>...</td>\n",
       "    </tr>\n",
       "    <tr>\n",
       "      <th>2382286</th>\n",
       "      <td>515243</td>\n",
       "      <td>2006-05-24 21:46:51</td>\n",
       "      <td>computrabajo.com.pe</td>\n",
       "      <td>'236'</td>\n",
       "    </tr>\n",
       "    <tr>\n",
       "      <th>2382287</th>\n",
       "      <td>515761</td>\n",
       "      <td>2006-04-18 19:49:49</td>\n",
       "      <td>atv.com.tr</td>\n",
       "      <td>'1','48'</td>\n",
       "    </tr>\n",
       "    <tr>\n",
       "      <th>2382288</th>\n",
       "      <td>515761</td>\n",
       "      <td>2006-04-18 19:49:49</td>\n",
       "      <td>atv.com.tr</td>\n",
       "      <td>'1','48'</td>\n",
       "    </tr>\n",
       "    <tr>\n",
       "      <th>2382289</th>\n",
       "      <td>515761</td>\n",
       "      <td>2006-04-18 19:54:33</td>\n",
       "      <td>atv.com.tr</td>\n",
       "      <td>'1','48'</td>\n",
       "    </tr>\n",
       "    <tr>\n",
       "      <th>2382290</th>\n",
       "      <td>519040</td>\n",
       "      <td>2006-04-25 21:36:13</td>\n",
       "      <td>google.gr</td>\n",
       "      <td>'219','223'</td>\n",
       "    </tr>\n",
       "  </tbody>\n",
       "</table>\n",
       "<p>2382291 rows × 4 columns</p>\n",
       "</div>"
      ],
      "text/plain": [
       "         RandID           QueryTime               Domain       topics\n",
       "0            13 2006-03-10 11:51:57             imdb.com    '12','45'\n",
       "1            13 2006-03-25 05:10:47             imdb.com    '12','45'\n",
       "2            20 2006-04-07 21:13:02             imdb.com    '12','45'\n",
       "3            21 2006-05-15 21:18:53             imdb.com    '12','45'\n",
       "4            33 2006-05-20 02:17:44             imdb.com    '12','45'\n",
       "...         ...                 ...                  ...          ...\n",
       "2382286  515243 2006-05-24 21:46:51  computrabajo.com.pe        '236'\n",
       "2382287  515761 2006-04-18 19:49:49           atv.com.tr     '1','48'\n",
       "2382288  515761 2006-04-18 19:49:49           atv.com.tr     '1','48'\n",
       "2382289  515761 2006-04-18 19:54:33           atv.com.tr     '1','48'\n",
       "2382290  519040 2006-04-25 21:36:13            google.gr  '219','223'\n",
       "\n",
       "[2382291 rows x 4 columns]"
      ]
     },
     "metadata": {},
     "output_type": "display_data"
    }
   ],
   "source": [
    "display(aol_reduced_google)"
   ]
  },
  {
   "cell_type": "markdown",
   "id": "3807af48",
   "metadata": {},
   "source": [
    "### Define browsing histories and lists of topics"
   ]
  },
  {
   "cell_type": "code",
   "execution_count": 15,
   "id": "f680c50b",
   "metadata": {},
   "outputs": [
    {
     "name": "stdout",
     "output_type": "stream",
     "text": [
      "CPU times: user 4min 44s, sys: 4.68 s, total: 4min 49s\n",
      "Wall time: 4min 45s\n"
     ]
    }
   ],
   "source": [
    "%%time\n",
    "d = {'RandID': [], 'BrowsingHistory': [], 'AllTopics': []}\n",
    "for k, v in aol_reduced_google.groupby('RandID').__iter__():\n",
    "    temp_history = []\n",
    "    temp_topics = []\n",
    "    for tup in v.itertuples():\n",
    "        temp_history.append(tuple([tup.Domain, tup.QueryTime]))\n",
    "        temp_topics.extend(tup.topics.split(\",\"))\n",
    "    d['BrowsingHistory'].append(str(temp_history))\n",
    "    d['AllTopics'].append(temp_topics)\n",
    "    d['RandID'].append(k)"
   ]
  },
  {
   "cell_type": "code",
   "execution_count": 16,
   "id": "b40852d6",
   "metadata": {},
   "outputs": [
    {
     "data": {
      "text/plain": [
       "169"
      ]
     },
     "metadata": {},
     "output_type": "display_data"
    },
    {
     "name": "stdout",
     "output_type": "stream",
     "text": [
      "CPU times: user 398 ms, sys: 16 ms, total: 414 ms\n",
      "Wall time: 433 ms\n"
     ]
    }
   ],
   "source": [
    "%%time\n",
    "aol_reduced_google_seen_topics = []\n",
    "for case in d['AllTopics']:\n",
    "    aol_reduced_google_seen_topics.extend(case)\n",
    "aol_reduced_google_seen_topics = list(set(aol_reduced_google_seen_topics))\n",
    "display(len(aol_reduced_google_seen_topics))"
   ]
  },
  {
   "cell_type": "code",
   "execution_count": 17,
   "id": "a54e3c01",
   "metadata": {},
   "outputs": [],
   "source": [
    "aol_reduced_google_generalization = pandas.DataFrame(data=d, columns=['RandID', 'BrowsingHistory', 'AllTopics'])"
   ]
  },
  {
   "cell_type": "code",
   "execution_count": 18,
   "id": "16d8eb18",
   "metadata": {
    "scrolled": false
   },
   "outputs": [
    {
     "data": {
      "text/html": [
       "<div>\n",
       "<style scoped>\n",
       "    .dataframe tbody tr th:only-of-type {\n",
       "        vertical-align: middle;\n",
       "    }\n",
       "\n",
       "    .dataframe tbody tr th {\n",
       "        vertical-align: top;\n",
       "    }\n",
       "\n",
       "    .dataframe thead th {\n",
       "        text-align: right;\n",
       "    }\n",
       "</style>\n",
       "<table border=\"1\" class=\"dataframe\">\n",
       "  <thead>\n",
       "    <tr style=\"text-align: right;\">\n",
       "      <th></th>\n",
       "      <th>RandID</th>\n",
       "      <th>BrowsingHistory</th>\n",
       "      <th>AllTopics</th>\n",
       "    </tr>\n",
       "  </thead>\n",
       "  <tbody>\n",
       "    <tr>\n",
       "      <th>0</th>\n",
       "      <td>3</td>\n",
       "      <td>[('amazon.com', Timestamp('2006-05-23 15:31:14...</td>\n",
       "      <td>['289', '179', '289']</td>\n",
       "    </tr>\n",
       "    <tr>\n",
       "      <th>1</th>\n",
       "      <td>4</td>\n",
       "      <td>[('microsoft.com', Timestamp('2006-03-29 22:32...</td>\n",
       "      <td>['129', '140', '145', '275', '129', '140', '14...</td>\n",
       "    </tr>\n",
       "    <tr>\n",
       "      <th>2</th>\n",
       "      <td>7</td>\n",
       "      <td>[('wikipedia.org', Timestamp('2006-03-20 10:15...</td>\n",
       "      <td>['275', '100', '254', '275', '100', '254', '275']</td>\n",
       "    </tr>\n",
       "    <tr>\n",
       "      <th>3</th>\n",
       "      <td>10</td>\n",
       "      <td>[('wikipedia.org', Timestamp('2006-03-06 21:22...</td>\n",
       "      <td>['275', '275', '289', '289', '275']</td>\n",
       "    </tr>\n",
       "    <tr>\n",
       "      <th>4</th>\n",
       "      <td>12</td>\n",
       "      <td>[('priceline.com', Timestamp('2006-04-04 21:17...</td>\n",
       "      <td>['332', '344', '219', '219', '219', '219', '21...</td>\n",
       "    </tr>\n",
       "    <tr>\n",
       "      <th>...</th>\n",
       "      <td>...</td>\n",
       "      <td>...</td>\n",
       "      <td>...</td>\n",
       "    </tr>\n",
       "    <tr>\n",
       "      <th>230921</th>\n",
       "      <td>521685</td>\n",
       "      <td>[('bbc.co.uk', Timestamp('2006-03-15 10:43:00'...</td>\n",
       "      <td>['243', '23', '289', '23', '289', '129', '183']</td>\n",
       "    </tr>\n",
       "    <tr>\n",
       "      <th>230922</th>\n",
       "      <td>521686</td>\n",
       "      <td>[('google.com', Timestamp('2006-03-04 10:02:30...</td>\n",
       "      <td>['219', '219', '219', '219', '219', '219', '21...</td>\n",
       "    </tr>\n",
       "    <tr>\n",
       "      <th>230923</th>\n",
       "      <td>521687</td>\n",
       "      <td>[('1001freefonts.com', Timestamp('2006-04-08 1...</td>\n",
       "      <td>['142', '142']</td>\n",
       "    </tr>\n",
       "    <tr>\n",
       "      <th>230924</th>\n",
       "      <td>521689</td>\n",
       "      <td>[('imdb.com', Timestamp('2006-03-29 00:35:14')...</td>\n",
       "      <td>['12', '45', '275', '219', '215', '217']</td>\n",
       "    </tr>\n",
       "    <tr>\n",
       "      <th>230925</th>\n",
       "      <td>521691</td>\n",
       "      <td>[('imdb.com', Timestamp('2006-03-15 15:01:34')...</td>\n",
       "      <td>['12', '45', '12', '45', '12', '45', '12', '45...</td>\n",
       "    </tr>\n",
       "  </tbody>\n",
       "</table>\n",
       "<p>230926 rows × 3 columns</p>\n",
       "</div>"
      ],
      "text/plain": [
       "        RandID                                    BrowsingHistory   \n",
       "0            3  [('amazon.com', Timestamp('2006-05-23 15:31:14...  \\\n",
       "1            4  [('microsoft.com', Timestamp('2006-03-29 22:32...   \n",
       "2            7  [('wikipedia.org', Timestamp('2006-03-20 10:15...   \n",
       "3           10  [('wikipedia.org', Timestamp('2006-03-06 21:22...   \n",
       "4           12  [('priceline.com', Timestamp('2006-04-04 21:17...   \n",
       "...        ...                                                ...   \n",
       "230921  521685  [('bbc.co.uk', Timestamp('2006-03-15 10:43:00'...   \n",
       "230922  521686  [('google.com', Timestamp('2006-03-04 10:02:30...   \n",
       "230923  521687  [('1001freefonts.com', Timestamp('2006-04-08 1...   \n",
       "230924  521689  [('imdb.com', Timestamp('2006-03-29 00:35:14')...   \n",
       "230925  521691  [('imdb.com', Timestamp('2006-03-15 15:01:34')...   \n",
       "\n",
       "                                                AllTopics  \n",
       "0                                   ['289', '179', '289']  \n",
       "1       ['129', '140', '145', '275', '129', '140', '14...  \n",
       "2       ['275', '100', '254', '275', '100', '254', '275']  \n",
       "3                     ['275', '275', '289', '289', '275']  \n",
       "4       ['332', '344', '219', '219', '219', '219', '21...  \n",
       "...                                                   ...  \n",
       "230921    ['243', '23', '289', '23', '289', '129', '183']  \n",
       "230922  ['219', '219', '219', '219', '219', '219', '21...  \n",
       "230923                                     ['142', '142']  \n",
       "230924           ['12', '45', '275', '219', '215', '217']  \n",
       "230925  ['12', '45', '12', '45', '12', '45', '12', '45...  \n",
       "\n",
       "[230926 rows x 3 columns]"
      ]
     },
     "metadata": {},
     "output_type": "display_data"
    }
   ],
   "source": [
    "display(aol_reduced_google_generalization)"
   ]
  },
  {
   "cell_type": "code",
   "execution_count": 19,
   "id": "98bed505",
   "metadata": {},
   "outputs": [],
   "source": [
    "aol_reduced_google_generalization['TopicsSet'] = aol_reduced_google_generalization['AllTopics']"
   ]
  },
  {
   "cell_type": "code",
   "execution_count": 20,
   "id": "0aad7d27",
   "metadata": {},
   "outputs": [
    {
     "name": "stdout",
     "output_type": "stream",
     "text": [
      "CPU times: user 34 s, sys: 136 ms, total: 34.1 s\n",
      "Wall time: 34.2 s\n"
     ]
    }
   ],
   "source": [
    "%%time\n",
    "for row in aol_reduced_google_generalization.itertuples():\n",
    "    aol_reduced_google_generalization.at[row.Index, 'TopicsSet'] = sorted(set(aol_reduced_google_generalization.at[row.Index, 'TopicsSet']))"
   ]
  },
  {
   "cell_type": "code",
   "execution_count": 21,
   "id": "54edf9b0",
   "metadata": {
    "scrolled": false
   },
   "outputs": [
    {
     "data": {
      "text/html": [
       "<div>\n",
       "<style scoped>\n",
       "    .dataframe tbody tr th:only-of-type {\n",
       "        vertical-align: middle;\n",
       "    }\n",
       "\n",
       "    .dataframe tbody tr th {\n",
       "        vertical-align: top;\n",
       "    }\n",
       "\n",
       "    .dataframe thead th {\n",
       "        text-align: right;\n",
       "    }\n",
       "</style>\n",
       "<table border=\"1\" class=\"dataframe\">\n",
       "  <thead>\n",
       "    <tr style=\"text-align: right;\">\n",
       "      <th></th>\n",
       "      <th>RandID</th>\n",
       "      <th>BrowsingHistory</th>\n",
       "      <th>AllTopics</th>\n",
       "      <th>TopicsSet</th>\n",
       "    </tr>\n",
       "  </thead>\n",
       "  <tbody>\n",
       "    <tr>\n",
       "      <th>0</th>\n",
       "      <td>3</td>\n",
       "      <td>[('amazon.com', Timestamp('2006-05-23 15:31:14...</td>\n",
       "      <td>['289', '179', '289']</td>\n",
       "      <td>['179', '289']</td>\n",
       "    </tr>\n",
       "    <tr>\n",
       "      <th>1</th>\n",
       "      <td>4</td>\n",
       "      <td>[('microsoft.com', Timestamp('2006-03-29 22:32...</td>\n",
       "      <td>['129', '140', '145', '275', '129', '140', '14...</td>\n",
       "      <td>['129', '140', '145', '275']</td>\n",
       "    </tr>\n",
       "    <tr>\n",
       "      <th>2</th>\n",
       "      <td>7</td>\n",
       "      <td>[('wikipedia.org', Timestamp('2006-03-20 10:15...</td>\n",
       "      <td>['275', '100', '254', '275', '100', '254', '275']</td>\n",
       "      <td>['100', '254', '275']</td>\n",
       "    </tr>\n",
       "    <tr>\n",
       "      <th>3</th>\n",
       "      <td>10</td>\n",
       "      <td>[('wikipedia.org', Timestamp('2006-03-06 21:22...</td>\n",
       "      <td>['275', '275', '289', '289', '275']</td>\n",
       "      <td>['275', '289']</td>\n",
       "    </tr>\n",
       "    <tr>\n",
       "      <th>4</th>\n",
       "      <td>12</td>\n",
       "      <td>[('priceline.com', Timestamp('2006-04-04 21:17...</td>\n",
       "      <td>['332', '344', '219', '219', '219', '219', '21...</td>\n",
       "      <td>['219', '248', '332', '344']</td>\n",
       "    </tr>\n",
       "    <tr>\n",
       "      <th>...</th>\n",
       "      <td>...</td>\n",
       "      <td>...</td>\n",
       "      <td>...</td>\n",
       "      <td>...</td>\n",
       "    </tr>\n",
       "    <tr>\n",
       "      <th>230921</th>\n",
       "      <td>521685</td>\n",
       "      <td>[('bbc.co.uk', Timestamp('2006-03-15 10:43:00'...</td>\n",
       "      <td>['243', '23', '289', '23', '289', '129', '183']</td>\n",
       "      <td>['129', '183', '23', '243', '289']</td>\n",
       "    </tr>\n",
       "    <tr>\n",
       "      <th>230922</th>\n",
       "      <td>521686</td>\n",
       "      <td>[('google.com', Timestamp('2006-03-04 10:02:30...</td>\n",
       "      <td>['219', '219', '219', '219', '219', '219', '21...</td>\n",
       "      <td>['219', '275']</td>\n",
       "    </tr>\n",
       "    <tr>\n",
       "      <th>230923</th>\n",
       "      <td>521687</td>\n",
       "      <td>[('1001freefonts.com', Timestamp('2006-04-08 1...</td>\n",
       "      <td>['142', '142']</td>\n",
       "      <td>['142']</td>\n",
       "    </tr>\n",
       "    <tr>\n",
       "      <th>230924</th>\n",
       "      <td>521689</td>\n",
       "      <td>[('imdb.com', Timestamp('2006-03-29 00:35:14')...</td>\n",
       "      <td>['12', '45', '275', '219', '215', '217']</td>\n",
       "      <td>['12', '215', '217', '219', '275', '45']</td>\n",
       "    </tr>\n",
       "    <tr>\n",
       "      <th>230925</th>\n",
       "      <td>521691</td>\n",
       "      <td>[('imdb.com', Timestamp('2006-03-15 15:01:34')...</td>\n",
       "      <td>['12', '45', '12', '45', '12', '45', '12', '45...</td>\n",
       "      <td>['1', '100', '103', '12', '129', '140', '145',...</td>\n",
       "    </tr>\n",
       "  </tbody>\n",
       "</table>\n",
       "<p>230926 rows × 4 columns</p>\n",
       "</div>"
      ],
      "text/plain": [
       "        RandID                                    BrowsingHistory   \n",
       "0            3  [('amazon.com', Timestamp('2006-05-23 15:31:14...  \\\n",
       "1            4  [('microsoft.com', Timestamp('2006-03-29 22:32...   \n",
       "2            7  [('wikipedia.org', Timestamp('2006-03-20 10:15...   \n",
       "3           10  [('wikipedia.org', Timestamp('2006-03-06 21:22...   \n",
       "4           12  [('priceline.com', Timestamp('2006-04-04 21:17...   \n",
       "...        ...                                                ...   \n",
       "230921  521685  [('bbc.co.uk', Timestamp('2006-03-15 10:43:00'...   \n",
       "230922  521686  [('google.com', Timestamp('2006-03-04 10:02:30...   \n",
       "230923  521687  [('1001freefonts.com', Timestamp('2006-04-08 1...   \n",
       "230924  521689  [('imdb.com', Timestamp('2006-03-29 00:35:14')...   \n",
       "230925  521691  [('imdb.com', Timestamp('2006-03-15 15:01:34')...   \n",
       "\n",
       "                                                AllTopics   \n",
       "0                                   ['289', '179', '289']  \\\n",
       "1       ['129', '140', '145', '275', '129', '140', '14...   \n",
       "2       ['275', '100', '254', '275', '100', '254', '275']   \n",
       "3                     ['275', '275', '289', '289', '275']   \n",
       "4       ['332', '344', '219', '219', '219', '219', '21...   \n",
       "...                                                   ...   \n",
       "230921    ['243', '23', '289', '23', '289', '129', '183']   \n",
       "230922  ['219', '219', '219', '219', '219', '219', '21...   \n",
       "230923                                     ['142', '142']   \n",
       "230924           ['12', '45', '275', '219', '215', '217']   \n",
       "230925  ['12', '45', '12', '45', '12', '45', '12', '45...   \n",
       "\n",
       "                                                TopicsSet  \n",
       "0                                          ['179', '289']  \n",
       "1                            ['129', '140', '145', '275']  \n",
       "2                                   ['100', '254', '275']  \n",
       "3                                          ['275', '289']  \n",
       "4                            ['219', '248', '332', '344']  \n",
       "...                                                   ...  \n",
       "230921                 ['129', '183', '23', '243', '289']  \n",
       "230922                                     ['219', '275']  \n",
       "230923                                            ['142']  \n",
       "230924           ['12', '215', '217', '219', '275', '45']  \n",
       "230925  ['1', '100', '103', '12', '129', '140', '145',...  \n",
       "\n",
       "[230926 rows x 4 columns]"
      ]
     },
     "metadata": {},
     "output_type": "display_data"
    }
   ],
   "source": [
    "display(aol_reduced_google_generalization)"
   ]
  },
  {
   "cell_type": "code",
   "execution_count": 22,
   "id": "5150b59a",
   "metadata": {},
   "outputs": [],
   "source": [
    "aol_reduced_google_generalization['sTopics'] = aol_reduced_google_generalization['AllTopics']"
   ]
  },
  {
   "cell_type": "code",
   "execution_count": 23,
   "id": "b141bf26",
   "metadata": {},
   "outputs": [
    {
     "name": "stdout",
     "output_type": "stream",
     "text": [
      "CPU times: user 27.8 s, sys: 673 ms, total: 28.5 s\n",
      "Wall time: 28.6 s\n"
     ]
    }
   ],
   "source": [
    "%%time\n",
    "random.SystemRandom()\n",
    "S = 5\n",
    "\n",
    "aol_reduced_google_topics_by_users = {i : {t : 0 for t in aol_reduced_google_seen_topics} for i in aol_reduced_google_generalization['RandID'].unique()}\n",
    "\n",
    "for row in aol_reduced_google_generalization.itertuples():\n",
    "    for topic in row.AllTopics:\n",
    "        aol_reduced_google_topics_by_users[row.RandID][topic] = aol_reduced_google_topics_by_users[row.RandID][topic] + 1\n",
    "\n",
    "temp_top_S = {i : dict() for i in aol_reduced_google_generalization['RandID'].unique()}\n",
    "\n",
    "for k,v in aol_reduced_google_topics_by_users.items():\n",
    "    temp_dict = dict()\n",
    "    for t,c in v.items():\n",
    "        if c != 0:\n",
    "            temp_dict[t] = c\n",
    "    temp_dict = dict(sorted(temp_dict.items(), key=lambda item: item[1]))\n",
    "    \n",
    "    if len(temp_dict) <= S:\n",
    "        temp_set = list({t for t in aol_reduced_google_seen_topics} - {k for k in temp_dict.keys()})\n",
    "        \n",
    "        while len(temp_dict) < S:\n",
    "            topic = random.choice(temp_set)\n",
    "            temp_set.remove(topic)\n",
    "            temp_dict[topic] = 0\n",
    "        \n",
    "        temp_top_S[k].update(dict(sorted(temp_dict.items())))\n",
    "    \n",
    "    else:\n",
    "        t,c = temp_dict.popitem()\n",
    "        max_c = c\n",
    "        final = dict()\n",
    "        temp = {t : c}\n",
    "        \n",
    "        while len(final) + len(temp) < S:\n",
    "            t,c = temp_dict.popitem()\n",
    "            max_c = max(max_c, c)\n",
    "            \n",
    "            if max_c == c:\n",
    "                temp[t] = c\n",
    "            else:\n",
    "                final.update(temp)\n",
    "                temp.clear()\n",
    "                temp[t] = c\n",
    "        \n",
    "        t,c = temp_dict.popitem()\n",
    "        while (max_c == c) and (len(temp_dict) > 0):\n",
    "            temp[t] = c\n",
    "            t,c = temp_dict.popitem()\n",
    "        \n",
    "        temp_set = list({k for k in temp.keys()})\n",
    "        \n",
    "        while len(final) < S:\n",
    "            topic = random.choice(temp_set)\n",
    "            temp_set.remove(topic)\n",
    "            final[topic] = temp[topic]\n",
    "        \n",
    "        temp_top_S[k].update(dict(sorted(final.items())))"
   ]
  },
  {
   "cell_type": "code",
   "execution_count": 24,
   "id": "8020e296",
   "metadata": {},
   "outputs": [
    {
     "name": "stdout",
     "output_type": "stream",
     "text": [
      "CPU times: user 12.6 s, sys: 3.97 ms, total: 12.6 s\n",
      "Wall time: 12.7 s\n"
     ]
    }
   ],
   "source": [
    "%%time\n",
    "for row in aol_reduced_google_generalization.itertuples():\n",
    "    aol_reduced_google_generalization.at[row.Index, 'sTopics'] = temp_top_S[row.RandID]"
   ]
  },
  {
   "cell_type": "code",
   "execution_count": 25,
   "id": "df4dce17",
   "metadata": {},
   "outputs": [
    {
     "data": {
      "text/html": [
       "<div>\n",
       "<style scoped>\n",
       "    .dataframe tbody tr th:only-of-type {\n",
       "        vertical-align: middle;\n",
       "    }\n",
       "\n",
       "    .dataframe tbody tr th {\n",
       "        vertical-align: top;\n",
       "    }\n",
       "\n",
       "    .dataframe thead th {\n",
       "        text-align: right;\n",
       "    }\n",
       "</style>\n",
       "<table border=\"1\" class=\"dataframe\">\n",
       "  <thead>\n",
       "    <tr style=\"text-align: right;\">\n",
       "      <th></th>\n",
       "      <th>RandID</th>\n",
       "      <th>BrowsingHistory</th>\n",
       "      <th>AllTopics</th>\n",
       "      <th>TopicsSet</th>\n",
       "      <th>sTopics</th>\n",
       "    </tr>\n",
       "  </thead>\n",
       "  <tbody>\n",
       "    <tr>\n",
       "      <th>0</th>\n",
       "      <td>3</td>\n",
       "      <td>[('amazon.com', Timestamp('2006-05-23 15:31:14...</td>\n",
       "      <td>['289', '179', '289']</td>\n",
       "      <td>['179', '289']</td>\n",
       "      <td>{''179'': 1, ''247'': 0, ''248'': 0, ''289'': ...</td>\n",
       "    </tr>\n",
       "    <tr>\n",
       "      <th>1</th>\n",
       "      <td>4</td>\n",
       "      <td>[('microsoft.com', Timestamp('2006-03-29 22:32...</td>\n",
       "      <td>['129', '140', '145', '275', '129', '140', '14...</td>\n",
       "      <td>['129', '140', '145', '275']</td>\n",
       "      <td>{''129'': 2, ''140'': 2, ''145'': 2, ''275'': ...</td>\n",
       "    </tr>\n",
       "    <tr>\n",
       "      <th>2</th>\n",
       "      <td>7</td>\n",
       "      <td>[('wikipedia.org', Timestamp('2006-03-20 10:15...</td>\n",
       "      <td>['275', '100', '254', '275', '100', '254', '275']</td>\n",
       "      <td>['100', '254', '275']</td>\n",
       "      <td>{''100'': 2, ''234'': 0, ''254'': 2, ''275'': ...</td>\n",
       "    </tr>\n",
       "    <tr>\n",
       "      <th>3</th>\n",
       "      <td>10</td>\n",
       "      <td>[('wikipedia.org', Timestamp('2006-03-06 21:22...</td>\n",
       "      <td>['275', '275', '289', '289', '275']</td>\n",
       "      <td>['275', '289']</td>\n",
       "      <td>{''151'': 0, ''172'': 0, ''275'': 3, ''289'': ...</td>\n",
       "    </tr>\n",
       "    <tr>\n",
       "      <th>4</th>\n",
       "      <td>12</td>\n",
       "      <td>[('priceline.com', Timestamp('2006-04-04 21:17...</td>\n",
       "      <td>['332', '344', '219', '219', '219', '219', '21...</td>\n",
       "      <td>['219', '248', '332', '344']</td>\n",
       "      <td>{''219'': 6, ''234'': 0, ''248'': 1, ''332'': ...</td>\n",
       "    </tr>\n",
       "    <tr>\n",
       "      <th>...</th>\n",
       "      <td>...</td>\n",
       "      <td>...</td>\n",
       "      <td>...</td>\n",
       "      <td>...</td>\n",
       "      <td>...</td>\n",
       "    </tr>\n",
       "    <tr>\n",
       "      <th>230921</th>\n",
       "      <td>521685</td>\n",
       "      <td>[('bbc.co.uk', Timestamp('2006-03-15 10:43:00'...</td>\n",
       "      <td>['243', '23', '289', '23', '289', '129', '183']</td>\n",
       "      <td>['129', '183', '23', '243', '289']</td>\n",
       "      <td>{''129'': 1, ''183'': 1, ''23'': 2, ''243'': 1...</td>\n",
       "    </tr>\n",
       "    <tr>\n",
       "      <th>230922</th>\n",
       "      <td>521686</td>\n",
       "      <td>[('google.com', Timestamp('2006-03-04 10:02:30...</td>\n",
       "      <td>['219', '219', '219', '219', '219', '219', '21...</td>\n",
       "      <td>['219', '275']</td>\n",
       "      <td>{''108'': 0, ''219'': 10, ''275'': 2, ''279'':...</td>\n",
       "    </tr>\n",
       "    <tr>\n",
       "      <th>230923</th>\n",
       "      <td>521687</td>\n",
       "      <td>[('1001freefonts.com', Timestamp('2006-04-08 1...</td>\n",
       "      <td>['142', '142']</td>\n",
       "      <td>['142']</td>\n",
       "      <td>{''142'': 2, ''166'': 0, ''241'': 0, ''299'': ...</td>\n",
       "    </tr>\n",
       "    <tr>\n",
       "      <th>230924</th>\n",
       "      <td>521689</td>\n",
       "      <td>[('imdb.com', Timestamp('2006-03-29 00:35:14')...</td>\n",
       "      <td>['12', '45', '275', '219', '215', '217']</td>\n",
       "      <td>['12', '215', '217', '219', '275', '45']</td>\n",
       "      <td>{''12'': 1, ''215'': 1, ''217'': 1, ''219'': 1...</td>\n",
       "    </tr>\n",
       "    <tr>\n",
       "      <th>230925</th>\n",
       "      <td>521691</td>\n",
       "      <td>[('imdb.com', Timestamp('2006-03-15 15:01:34')...</td>\n",
       "      <td>['12', '45', '12', '45', '12', '45', '12', '45...</td>\n",
       "      <td>['1', '100', '103', '12', '129', '140', '145',...</td>\n",
       "      <td>{''1'': 8, ''23'': 9, ''243'': 13, ''275'': 16...</td>\n",
       "    </tr>\n",
       "  </tbody>\n",
       "</table>\n",
       "<p>230926 rows × 5 columns</p>\n",
       "</div>"
      ],
      "text/plain": [
       "        RandID                                    BrowsingHistory   \n",
       "0            3  [('amazon.com', Timestamp('2006-05-23 15:31:14...  \\\n",
       "1            4  [('microsoft.com', Timestamp('2006-03-29 22:32...   \n",
       "2            7  [('wikipedia.org', Timestamp('2006-03-20 10:15...   \n",
       "3           10  [('wikipedia.org', Timestamp('2006-03-06 21:22...   \n",
       "4           12  [('priceline.com', Timestamp('2006-04-04 21:17...   \n",
       "...        ...                                                ...   \n",
       "230921  521685  [('bbc.co.uk', Timestamp('2006-03-15 10:43:00'...   \n",
       "230922  521686  [('google.com', Timestamp('2006-03-04 10:02:30...   \n",
       "230923  521687  [('1001freefonts.com', Timestamp('2006-04-08 1...   \n",
       "230924  521689  [('imdb.com', Timestamp('2006-03-29 00:35:14')...   \n",
       "230925  521691  [('imdb.com', Timestamp('2006-03-15 15:01:34')...   \n",
       "\n",
       "                                                AllTopics   \n",
       "0                                   ['289', '179', '289']  \\\n",
       "1       ['129', '140', '145', '275', '129', '140', '14...   \n",
       "2       ['275', '100', '254', '275', '100', '254', '275']   \n",
       "3                     ['275', '275', '289', '289', '275']   \n",
       "4       ['332', '344', '219', '219', '219', '219', '21...   \n",
       "...                                                   ...   \n",
       "230921    ['243', '23', '289', '23', '289', '129', '183']   \n",
       "230922  ['219', '219', '219', '219', '219', '219', '21...   \n",
       "230923                                     ['142', '142']   \n",
       "230924           ['12', '45', '275', '219', '215', '217']   \n",
       "230925  ['12', '45', '12', '45', '12', '45', '12', '45...   \n",
       "\n",
       "                                                TopicsSet   \n",
       "0                                          ['179', '289']  \\\n",
       "1                            ['129', '140', '145', '275']   \n",
       "2                                   ['100', '254', '275']   \n",
       "3                                          ['275', '289']   \n",
       "4                            ['219', '248', '332', '344']   \n",
       "...                                                   ...   \n",
       "230921                 ['129', '183', '23', '243', '289']   \n",
       "230922                                     ['219', '275']   \n",
       "230923                                            ['142']   \n",
       "230924           ['12', '215', '217', '219', '275', '45']   \n",
       "230925  ['1', '100', '103', '12', '129', '140', '145',...   \n",
       "\n",
       "                                                  sTopics  \n",
       "0       {''179'': 1, ''247'': 0, ''248'': 0, ''289'': ...  \n",
       "1       {''129'': 2, ''140'': 2, ''145'': 2, ''275'': ...  \n",
       "2       {''100'': 2, ''234'': 0, ''254'': 2, ''275'': ...  \n",
       "3       {''151'': 0, ''172'': 0, ''275'': 3, ''289'': ...  \n",
       "4       {''219'': 6, ''234'': 0, ''248'': 1, ''332'': ...  \n",
       "...                                                   ...  \n",
       "230921  {''129'': 1, ''183'': 1, ''23'': 2, ''243'': 1...  \n",
       "230922  {''108'': 0, ''219'': 10, ''275'': 2, ''279'':...  \n",
       "230923  {''142'': 2, ''166'': 0, ''241'': 0, ''299'': ...  \n",
       "230924  {''12'': 1, ''215'': 1, ''217'': 1, ''219'': 1...  \n",
       "230925  {''1'': 8, ''23'': 9, ''243'': 13, ''275'': 16...  \n",
       "\n",
       "[230926 rows x 5 columns]"
      ]
     },
     "metadata": {},
     "output_type": "display_data"
    }
   ],
   "source": [
    "display(aol_reduced_google_generalization)"
   ]
  },
  {
   "cell_type": "code",
   "execution_count": 26,
   "id": "70eccce3",
   "metadata": {},
   "outputs": [
    {
     "name": "stdout",
     "output_type": "stream",
     "text": [
      "CPU times: user 1.54 s, sys: 34 µs, total: 1.54 s\n",
      "Wall time: 1.55 s\n"
     ]
    }
   ],
   "source": [
    "%%time\n",
    "for row in aol_reduced_google_generalization.itertuples():\n",
    "    for k,v in row.sTopics.items():\n",
    "        if ((v == 0) and (k in row.AllTopics)) or ((v > 0) and (k not in row.AllTopics)):\n",
    "            print(\"Error!\")"
   ]
  },
  {
   "cell_type": "code",
   "execution_count": 27,
   "id": "986d751c",
   "metadata": {},
   "outputs": [
    {
     "name": "stdout",
     "output_type": "stream",
     "text": [
      "CPU times: user 12.8 s, sys: 45 µs, total: 12.8 s\n",
      "Wall time: 12.9 s\n"
     ]
    }
   ],
   "source": [
    "%%time\n",
    "for row in aol_reduced_google_generalization.itertuples():\n",
    "    aol_reduced_google_generalization.at[row.Index, 'sTopics'] = list(temp_top_S[row.RandID].keys())"
   ]
  },
  {
   "cell_type": "code",
   "execution_count": 28,
   "id": "2889cfbe",
   "metadata": {
    "scrolled": false
   },
   "outputs": [
    {
     "data": {
      "text/html": [
       "<div>\n",
       "<style scoped>\n",
       "    .dataframe tbody tr th:only-of-type {\n",
       "        vertical-align: middle;\n",
       "    }\n",
       "\n",
       "    .dataframe tbody tr th {\n",
       "        vertical-align: top;\n",
       "    }\n",
       "\n",
       "    .dataframe thead th {\n",
       "        text-align: right;\n",
       "    }\n",
       "</style>\n",
       "<table border=\"1\" class=\"dataframe\">\n",
       "  <thead>\n",
       "    <tr style=\"text-align: right;\">\n",
       "      <th></th>\n",
       "      <th>RandID</th>\n",
       "      <th>BrowsingHistory</th>\n",
       "      <th>AllTopics</th>\n",
       "      <th>TopicsSet</th>\n",
       "      <th>sTopics</th>\n",
       "    </tr>\n",
       "  </thead>\n",
       "  <tbody>\n",
       "    <tr>\n",
       "      <th>0</th>\n",
       "      <td>3</td>\n",
       "      <td>[('amazon.com', Timestamp('2006-05-23 15:31:14...</td>\n",
       "      <td>['289', '179', '289']</td>\n",
       "      <td>['179', '289']</td>\n",
       "      <td>['179', '247', '248', '289', '3']</td>\n",
       "    </tr>\n",
       "    <tr>\n",
       "      <th>1</th>\n",
       "      <td>4</td>\n",
       "      <td>[('microsoft.com', Timestamp('2006-03-29 22:32...</td>\n",
       "      <td>['129', '140', '145', '275', '129', '140', '14...</td>\n",
       "      <td>['129', '140', '145', '275']</td>\n",
       "      <td>['129', '140', '145', '275', '58']</td>\n",
       "    </tr>\n",
       "    <tr>\n",
       "      <th>2</th>\n",
       "      <td>7</td>\n",
       "      <td>[('wikipedia.org', Timestamp('2006-03-20 10:15...</td>\n",
       "      <td>['275', '100', '254', '275', '100', '254', '275']</td>\n",
       "      <td>['100', '254', '275']</td>\n",
       "      <td>['100', '234', '254', '275', '322']</td>\n",
       "    </tr>\n",
       "    <tr>\n",
       "      <th>3</th>\n",
       "      <td>10</td>\n",
       "      <td>[('wikipedia.org', Timestamp('2006-03-06 21:22...</td>\n",
       "      <td>['275', '275', '289', '289', '275']</td>\n",
       "      <td>['275', '289']</td>\n",
       "      <td>['151', '172', '275', '289', '344']</td>\n",
       "    </tr>\n",
       "    <tr>\n",
       "      <th>4</th>\n",
       "      <td>12</td>\n",
       "      <td>[('priceline.com', Timestamp('2006-04-04 21:17...</td>\n",
       "      <td>['332', '344', '219', '219', '219', '219', '21...</td>\n",
       "      <td>['219', '248', '332', '344']</td>\n",
       "      <td>['219', '234', '248', '332', '344']</td>\n",
       "    </tr>\n",
       "    <tr>\n",
       "      <th>...</th>\n",
       "      <td>...</td>\n",
       "      <td>...</td>\n",
       "      <td>...</td>\n",
       "      <td>...</td>\n",
       "      <td>...</td>\n",
       "    </tr>\n",
       "    <tr>\n",
       "      <th>230921</th>\n",
       "      <td>521685</td>\n",
       "      <td>[('bbc.co.uk', Timestamp('2006-03-15 10:43:00'...</td>\n",
       "      <td>['243', '23', '289', '23', '289', '129', '183']</td>\n",
       "      <td>['129', '183', '23', '243', '289']</td>\n",
       "      <td>['129', '183', '23', '243', '289']</td>\n",
       "    </tr>\n",
       "    <tr>\n",
       "      <th>230922</th>\n",
       "      <td>521686</td>\n",
       "      <td>[('google.com', Timestamp('2006-03-04 10:02:30...</td>\n",
       "      <td>['219', '219', '219', '219', '219', '219', '21...</td>\n",
       "      <td>['219', '275']</td>\n",
       "      <td>['108', '219', '275', '279', '292']</td>\n",
       "    </tr>\n",
       "    <tr>\n",
       "      <th>230923</th>\n",
       "      <td>521687</td>\n",
       "      <td>[('1001freefonts.com', Timestamp('2006-04-08 1...</td>\n",
       "      <td>['142', '142']</td>\n",
       "      <td>['142']</td>\n",
       "      <td>['142', '166', '241', '299', '315']</td>\n",
       "    </tr>\n",
       "    <tr>\n",
       "      <th>230924</th>\n",
       "      <td>521689</td>\n",
       "      <td>[('imdb.com', Timestamp('2006-03-29 00:35:14')...</td>\n",
       "      <td>['12', '45', '275', '219', '215', '217']</td>\n",
       "      <td>['12', '215', '217', '219', '275', '45']</td>\n",
       "      <td>['12', '215', '217', '219', '45']</td>\n",
       "    </tr>\n",
       "    <tr>\n",
       "      <th>230925</th>\n",
       "      <td>521691</td>\n",
       "      <td>[('imdb.com', Timestamp('2006-03-15 15:01:34')...</td>\n",
       "      <td>['12', '45', '12', '45', '12', '45', '12', '45...</td>\n",
       "      <td>['1', '100', '103', '12', '129', '140', '145',...</td>\n",
       "      <td>['1', '23', '243', '275', '289']</td>\n",
       "    </tr>\n",
       "  </tbody>\n",
       "</table>\n",
       "<p>230926 rows × 5 columns</p>\n",
       "</div>"
      ],
      "text/plain": [
       "        RandID                                    BrowsingHistory   \n",
       "0            3  [('amazon.com', Timestamp('2006-05-23 15:31:14...  \\\n",
       "1            4  [('microsoft.com', Timestamp('2006-03-29 22:32...   \n",
       "2            7  [('wikipedia.org', Timestamp('2006-03-20 10:15...   \n",
       "3           10  [('wikipedia.org', Timestamp('2006-03-06 21:22...   \n",
       "4           12  [('priceline.com', Timestamp('2006-04-04 21:17...   \n",
       "...        ...                                                ...   \n",
       "230921  521685  [('bbc.co.uk', Timestamp('2006-03-15 10:43:00'...   \n",
       "230922  521686  [('google.com', Timestamp('2006-03-04 10:02:30...   \n",
       "230923  521687  [('1001freefonts.com', Timestamp('2006-04-08 1...   \n",
       "230924  521689  [('imdb.com', Timestamp('2006-03-29 00:35:14')...   \n",
       "230925  521691  [('imdb.com', Timestamp('2006-03-15 15:01:34')...   \n",
       "\n",
       "                                                AllTopics   \n",
       "0                                   ['289', '179', '289']  \\\n",
       "1       ['129', '140', '145', '275', '129', '140', '14...   \n",
       "2       ['275', '100', '254', '275', '100', '254', '275']   \n",
       "3                     ['275', '275', '289', '289', '275']   \n",
       "4       ['332', '344', '219', '219', '219', '219', '21...   \n",
       "...                                                   ...   \n",
       "230921    ['243', '23', '289', '23', '289', '129', '183']   \n",
       "230922  ['219', '219', '219', '219', '219', '219', '21...   \n",
       "230923                                     ['142', '142']   \n",
       "230924           ['12', '45', '275', '219', '215', '217']   \n",
       "230925  ['12', '45', '12', '45', '12', '45', '12', '45...   \n",
       "\n",
       "                                                TopicsSet   \n",
       "0                                          ['179', '289']  \\\n",
       "1                            ['129', '140', '145', '275']   \n",
       "2                                   ['100', '254', '275']   \n",
       "3                                          ['275', '289']   \n",
       "4                            ['219', '248', '332', '344']   \n",
       "...                                                   ...   \n",
       "230921                 ['129', '183', '23', '243', '289']   \n",
       "230922                                     ['219', '275']   \n",
       "230923                                            ['142']   \n",
       "230924           ['12', '215', '217', '219', '275', '45']   \n",
       "230925  ['1', '100', '103', '12', '129', '140', '145',...   \n",
       "\n",
       "                                    sTopics  \n",
       "0         ['179', '247', '248', '289', '3']  \n",
       "1        ['129', '140', '145', '275', '58']  \n",
       "2       ['100', '234', '254', '275', '322']  \n",
       "3       ['151', '172', '275', '289', '344']  \n",
       "4       ['219', '234', '248', '332', '344']  \n",
       "...                                     ...  \n",
       "230921   ['129', '183', '23', '243', '289']  \n",
       "230922  ['108', '219', '275', '279', '292']  \n",
       "230923  ['142', '166', '241', '299', '315']  \n",
       "230924    ['12', '215', '217', '219', '45']  \n",
       "230925     ['1', '23', '243', '275', '289']  \n",
       "\n",
       "[230926 rows x 5 columns]"
      ]
     },
     "metadata": {},
     "output_type": "display_data"
    }
   ],
   "source": [
    "display(aol_reduced_google_generalization)"
   ]
  },
  {
   "cell_type": "markdown",
   "id": "1d515224",
   "metadata": {},
   "source": [
    "### Statistics"
   ]
  },
  {
   "cell_type": "markdown",
   "id": "93fcf7a5",
   "metadata": {},
   "source": [
    "`RandID` statistics."
   ]
  },
  {
   "cell_type": "code",
   "execution_count": 29,
   "id": "7f9d96fd",
   "metadata": {},
   "outputs": [
    {
     "data": {
      "text/plain": [
       "count    230926.0\n",
       "mean          1.0\n",
       "std           0.0\n",
       "min           1.0\n",
       "25%           1.0\n",
       "50%           1.0\n",
       "75%           1.0\n",
       "80%           1.0\n",
       "85%           1.0\n",
       "90%           1.0\n",
       "95%           1.0\n",
       "96%           1.0\n",
       "97%           1.0\n",
       "98%           1.0\n",
       "99%           1.0\n",
       "max           1.0\n",
       "Name: count, dtype: float64"
      ]
     },
     "metadata": {},
     "output_type": "display_data"
    }
   ],
   "source": [
    "display(aol_reduced_google_generalization['RandID'].value_counts().describe([.25,.50,.75,.80,.85,.90,.95,.96,.97,.98,.99]))"
   ]
  },
  {
   "cell_type": "markdown",
   "id": "ad3bd61c",
   "metadata": {},
   "source": [
    "Number of `RandID`s per count of records, e.g. 1 `RandID` has 150802 records and 70406 `RandID`s have 1 record."
   ]
  },
  {
   "cell_type": "markdown",
   "id": "0c1e617c",
   "metadata": {},
   "source": [
    "### Save to file"
   ]
  },
  {
   "cell_type": "code",
   "execution_count": 30,
   "id": "48a9b498",
   "metadata": {},
   "outputs": [],
   "source": [
    "aol_reduced_google_generalization.to_csv('AOL-experimental-Google-Topics-Classification-v1.csv')"
   ]
  }
 ],
 "metadata": {
  "kernelspec": {
   "display_name": "Python 3 (ipykernel)",
   "language": "python",
   "name": "python3"
  },
  "language_info": {
   "codemirror_mode": {
    "name": "ipython",
    "version": 3
   },
   "file_extension": ".py",
   "mimetype": "text/x-python",
   "name": "python",
   "nbconvert_exporter": "python",
   "pygments_lexer": "ipython3",
   "version": "3.11.8"
  }
 },
 "nbformat": 4,
 "nbformat_minor": 5
}
