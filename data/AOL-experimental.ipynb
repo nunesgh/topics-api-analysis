{
 "cells": [
  {
   "cell_type": "markdown",
   "id": "88001fb7",
   "metadata": {},
   "source": [
    "# AOL Experimental Dataset"
   ]
  },
  {
   "cell_type": "code",
   "execution_count": 1,
   "id": "287b23c7",
   "metadata": {},
   "outputs": [],
   "source": [
    "import pandas, random"
   ]
  },
  {
   "cell_type": "markdown",
   "id": "ee576827",
   "metadata": {},
   "source": [
    "## AOL treated dataset"
   ]
  },
  {
   "cell_type": "code",
   "execution_count": 2,
   "id": "ac96fb78",
   "metadata": {},
   "outputs": [
    {
     "name": "stdout",
     "output_type": "stream",
     "text": [
      "CPU times: user 32.6 s, sys: 1.67 s, total: 34.3 s\n",
      "Wall time: 34.3 s\n"
     ]
    }
   ],
   "source": [
    "%%time\n",
    "aol_treated = pandas.read_csv('AOL-treated.csv', low_memory=False, on_bad_lines='warn', index_col=0)"
   ]
  },
  {
   "cell_type": "code",
   "execution_count": 3,
   "id": "013706c3",
   "metadata": {},
   "outputs": [
    {
     "name": "stdout",
     "output_type": "stream",
     "text": [
      "CPU times: user 26.7 s, sys: 257 ms, total: 27 s\n",
      "Wall time: 26.9 s\n"
     ]
    }
   ],
   "source": [
    "%%time\n",
    "aol_treated['QueryTime'] = pandas.to_datetime(aol_treated['QueryTime'])"
   ]
  },
  {
   "cell_type": "code",
   "execution_count": 4,
   "id": "64230cdd",
   "metadata": {},
   "outputs": [
    {
     "data": {
      "text/html": [
       "<div>\n",
       "<style scoped>\n",
       "    .dataframe tbody tr th:only-of-type {\n",
       "        vertical-align: middle;\n",
       "    }\n",
       "\n",
       "    .dataframe tbody tr th {\n",
       "        vertical-align: top;\n",
       "    }\n",
       "\n",
       "    .dataframe thead th {\n",
       "        text-align: right;\n",
       "    }\n",
       "</style>\n",
       "<table border=\"1\" class=\"dataframe\">\n",
       "  <thead>\n",
       "    <tr style=\"text-align: right;\">\n",
       "      <th></th>\n",
       "      <th>RandID</th>\n",
       "      <th>QueryTime</th>\n",
       "      <th>Domain</th>\n",
       "    </tr>\n",
       "  </thead>\n",
       "  <tbody>\n",
       "    <tr>\n",
       "      <th>0</th>\n",
       "      <td>0</td>\n",
       "      <td>2006-03-06 13:59:48</td>\n",
       "      <td>about.com</td>\n",
       "    </tr>\n",
       "    <tr>\n",
       "      <th>1</th>\n",
       "      <td>0</td>\n",
       "      <td>2006-03-09 17:02:21</td>\n",
       "      <td>unclefed.com</td>\n",
       "    </tr>\n",
       "    <tr>\n",
       "      <th>2</th>\n",
       "      <td>0</td>\n",
       "      <td>2006-03-09 17:07:54</td>\n",
       "      <td>swanklaw.com</td>\n",
       "    </tr>\n",
       "    <tr>\n",
       "      <th>3</th>\n",
       "      <td>0</td>\n",
       "      <td>2006-03-09 17:09:53</td>\n",
       "      <td>state.or.us</td>\n",
       "    </tr>\n",
       "    <tr>\n",
       "      <th>4</th>\n",
       "      <td>0</td>\n",
       "      <td>2006-03-21 18:54:26</td>\n",
       "      <td>city-data.com</td>\n",
       "    </tr>\n",
       "    <tr>\n",
       "      <th>...</th>\n",
       "      <td>...</td>\n",
       "      <td>...</td>\n",
       "      <td>...</td>\n",
       "    </tr>\n",
       "    <tr>\n",
       "      <th>19426288</th>\n",
       "      <td>521691</td>\n",
       "      <td>2006-05-29 19:49:16</td>\n",
       "      <td>sing365.com</td>\n",
       "    </tr>\n",
       "    <tr>\n",
       "      <th>19426289</th>\n",
       "      <td>521691</td>\n",
       "      <td>2006-05-29 20:03:50</td>\n",
       "      <td>azlyrics.com</td>\n",
       "    </tr>\n",
       "    <tr>\n",
       "      <th>19426290</th>\n",
       "      <td>521691</td>\n",
       "      <td>2006-05-29 20:07:23</td>\n",
       "      <td>azlyrics.com</td>\n",
       "    </tr>\n",
       "    <tr>\n",
       "      <th>19426291</th>\n",
       "      <td>521691</td>\n",
       "      <td>2006-05-29 20:35:09</td>\n",
       "      <td>sing365.com</td>\n",
       "    </tr>\n",
       "    <tr>\n",
       "      <th>19426292</th>\n",
       "      <td>521691</td>\n",
       "      <td>2006-05-29 20:36:54</td>\n",
       "      <td>azlyrics.com</td>\n",
       "    </tr>\n",
       "  </tbody>\n",
       "</table>\n",
       "<p>19426293 rows × 3 columns</p>\n",
       "</div>"
      ],
      "text/plain": [
       "          RandID           QueryTime         Domain\n",
       "0              0 2006-03-06 13:59:48      about.com\n",
       "1              0 2006-03-09 17:02:21   unclefed.com\n",
       "2              0 2006-03-09 17:07:54   swanklaw.com\n",
       "3              0 2006-03-09 17:09:53    state.or.us\n",
       "4              0 2006-03-21 18:54:26  city-data.com\n",
       "...          ...                 ...            ...\n",
       "19426288  521691 2006-05-29 19:49:16    sing365.com\n",
       "19426289  521691 2006-05-29 20:03:50   azlyrics.com\n",
       "19426290  521691 2006-05-29 20:07:23   azlyrics.com\n",
       "19426291  521691 2006-05-29 20:35:09    sing365.com\n",
       "19426292  521691 2006-05-29 20:36:54   azlyrics.com\n",
       "\n",
       "[19426293 rows x 3 columns]"
      ]
     },
     "metadata": {},
     "output_type": "display_data"
    }
   ],
   "source": [
    "display(aol_treated)"
   ]
  },
  {
   "cell_type": "markdown",
   "id": "a28882f3",
   "metadata": {},
   "source": [
    "### Drop singletons"
   ]
  },
  {
   "cell_type": "code",
   "execution_count": 5,
   "id": "89a76739",
   "metadata": {},
   "outputs": [
    {
     "name": "stdout",
     "output_type": "stream",
     "text": [
      "CPU times: user 6.3 s, sys: 284 ms, total: 6.58 s\n",
      "Wall time: 6.56 s\n"
     ]
    }
   ],
   "source": [
    "%%time\n",
    "singletons = (aol_treated[['RandID','Domain']].groupby('RandID').count() == 1).index[(aol_treated[['RandID','Domain']].groupby('RandID').count() == 1)['Domain'].to_list()]"
   ]
  },
  {
   "cell_type": "code",
   "execution_count": 6,
   "id": "e81d1477",
   "metadata": {
    "scrolled": true
   },
   "outputs": [
    {
     "name": "stdout",
     "output_type": "stream",
     "text": [
      "CPU times: user 32min 40s, sys: 895 ms, total: 32min 41s\n",
      "Wall time: 32min 41s\n"
     ]
    }
   ],
   "source": [
    "%%time\n",
    "rows_to_drop = []\n",
    "for i in singletons:\n",
    "    rows_to_drop.append(aol_treated[aol_treated['RandID'] == i].index.to_list()[0])"
   ]
  },
  {
   "cell_type": "code",
   "execution_count": 7,
   "id": "c2508ed4",
   "metadata": {},
   "outputs": [
    {
     "data": {
      "text/plain": [
       "70406"
      ]
     },
     "metadata": {},
     "output_type": "display_data"
    }
   ],
   "source": [
    "display(len(rows_to_drop))"
   ]
  },
  {
   "cell_type": "code",
   "execution_count": 8,
   "id": "b02b682b",
   "metadata": {},
   "outputs": [],
   "source": [
    "aol_treated = aol_treated.drop(rows_to_drop)"
   ]
  },
  {
   "cell_type": "code",
   "execution_count": 9,
   "id": "d1e06768",
   "metadata": {},
   "outputs": [],
   "source": [
    "aol_treated = aol_treated.reset_index(drop=True)"
   ]
  },
  {
   "cell_type": "code",
   "execution_count": 10,
   "id": "aa1f03b7",
   "metadata": {},
   "outputs": [
    {
     "data": {
      "text/html": [
       "<div>\n",
       "<style scoped>\n",
       "    .dataframe tbody tr th:only-of-type {\n",
       "        vertical-align: middle;\n",
       "    }\n",
       "\n",
       "    .dataframe tbody tr th {\n",
       "        vertical-align: top;\n",
       "    }\n",
       "\n",
       "    .dataframe thead th {\n",
       "        text-align: right;\n",
       "    }\n",
       "</style>\n",
       "<table border=\"1\" class=\"dataframe\">\n",
       "  <thead>\n",
       "    <tr style=\"text-align: right;\">\n",
       "      <th></th>\n",
       "      <th>RandID</th>\n",
       "      <th>QueryTime</th>\n",
       "      <th>Domain</th>\n",
       "    </tr>\n",
       "  </thead>\n",
       "  <tbody>\n",
       "    <tr>\n",
       "      <th>0</th>\n",
       "      <td>0</td>\n",
       "      <td>2006-03-06 13:59:48</td>\n",
       "      <td>about.com</td>\n",
       "    </tr>\n",
       "    <tr>\n",
       "      <th>1</th>\n",
       "      <td>0</td>\n",
       "      <td>2006-03-09 17:02:21</td>\n",
       "      <td>unclefed.com</td>\n",
       "    </tr>\n",
       "    <tr>\n",
       "      <th>2</th>\n",
       "      <td>0</td>\n",
       "      <td>2006-03-09 17:07:54</td>\n",
       "      <td>swanklaw.com</td>\n",
       "    </tr>\n",
       "    <tr>\n",
       "      <th>3</th>\n",
       "      <td>0</td>\n",
       "      <td>2006-03-09 17:09:53</td>\n",
       "      <td>state.or.us</td>\n",
       "    </tr>\n",
       "    <tr>\n",
       "      <th>4</th>\n",
       "      <td>0</td>\n",
       "      <td>2006-03-21 18:54:26</td>\n",
       "      <td>city-data.com</td>\n",
       "    </tr>\n",
       "    <tr>\n",
       "      <th>...</th>\n",
       "      <td>...</td>\n",
       "      <td>...</td>\n",
       "      <td>...</td>\n",
       "    </tr>\n",
       "    <tr>\n",
       "      <th>19355882</th>\n",
       "      <td>521691</td>\n",
       "      <td>2006-05-29 19:49:16</td>\n",
       "      <td>sing365.com</td>\n",
       "    </tr>\n",
       "    <tr>\n",
       "      <th>19355883</th>\n",
       "      <td>521691</td>\n",
       "      <td>2006-05-29 20:03:50</td>\n",
       "      <td>azlyrics.com</td>\n",
       "    </tr>\n",
       "    <tr>\n",
       "      <th>19355884</th>\n",
       "      <td>521691</td>\n",
       "      <td>2006-05-29 20:07:23</td>\n",
       "      <td>azlyrics.com</td>\n",
       "    </tr>\n",
       "    <tr>\n",
       "      <th>19355885</th>\n",
       "      <td>521691</td>\n",
       "      <td>2006-05-29 20:35:09</td>\n",
       "      <td>sing365.com</td>\n",
       "    </tr>\n",
       "    <tr>\n",
       "      <th>19355886</th>\n",
       "      <td>521691</td>\n",
       "      <td>2006-05-29 20:36:54</td>\n",
       "      <td>azlyrics.com</td>\n",
       "    </tr>\n",
       "  </tbody>\n",
       "</table>\n",
       "<p>19355887 rows × 3 columns</p>\n",
       "</div>"
      ],
      "text/plain": [
       "          RandID           QueryTime         Domain\n",
       "0              0 2006-03-06 13:59:48      about.com\n",
       "1              0 2006-03-09 17:02:21   unclefed.com\n",
       "2              0 2006-03-09 17:07:54   swanklaw.com\n",
       "3              0 2006-03-09 17:09:53    state.or.us\n",
       "4              0 2006-03-21 18:54:26  city-data.com\n",
       "...          ...                 ...            ...\n",
       "19355882  521691 2006-05-29 19:49:16    sing365.com\n",
       "19355883  521691 2006-05-29 20:03:50   azlyrics.com\n",
       "19355884  521691 2006-05-29 20:07:23   azlyrics.com\n",
       "19355885  521691 2006-05-29 20:35:09    sing365.com\n",
       "19355886  521691 2006-05-29 20:36:54   azlyrics.com\n",
       "\n",
       "[19355887 rows x 3 columns]"
      ]
     },
     "metadata": {},
     "output_type": "display_data"
    }
   ],
   "source": [
    "display(aol_treated)"
   ]
  },
  {
   "cell_type": "markdown",
   "id": "8ba88dc3",
   "metadata": {},
   "source": [
    "### Drop outlier"
   ]
  },
  {
   "cell_type": "code",
   "execution_count": 11,
   "id": "bc7b7fd1",
   "metadata": {},
   "outputs": [
    {
     "data": {
      "text/plain": [
       "RandID\n",
       "83937     150802\n",
       "183239      6227\n",
       "125488      5741\n",
       "475224      4272\n",
       "443325      3775\n",
       "           ...  \n",
       "134002         2\n",
       "235997         2\n",
       "478236         2\n",
       "320889         2\n",
       "385208         2\n",
       "Name: count, Length: 451201, dtype: int64"
      ]
     },
     "metadata": {},
     "output_type": "display_data"
    },
    {
     "name": "stdout",
     "output_type": "stream",
     "text": [
      "CPU times: user 392 ms, sys: 100 ms, total: 492 ms\n",
      "Wall time: 506 ms\n"
     ]
    }
   ],
   "source": [
    "%%time\n",
    "display(aol_treated['RandID'].value_counts())"
   ]
  },
  {
   "cell_type": "code",
   "execution_count": 12,
   "id": "dd374c42",
   "metadata": {},
   "outputs": [],
   "source": [
    "aol_treated = aol_treated.drop(aol_treated[aol_treated['RandID'] == 83937].index.to_list())"
   ]
  },
  {
   "cell_type": "code",
   "execution_count": 13,
   "id": "a18282fe",
   "metadata": {},
   "outputs": [],
   "source": [
    "aol_treated = aol_treated.reset_index(drop=True)"
   ]
  },
  {
   "cell_type": "code",
   "execution_count": 14,
   "id": "16455d57",
   "metadata": {},
   "outputs": [
    {
     "data": {
      "text/html": [
       "<div>\n",
       "<style scoped>\n",
       "    .dataframe tbody tr th:only-of-type {\n",
       "        vertical-align: middle;\n",
       "    }\n",
       "\n",
       "    .dataframe tbody tr th {\n",
       "        vertical-align: top;\n",
       "    }\n",
       "\n",
       "    .dataframe thead th {\n",
       "        text-align: right;\n",
       "    }\n",
       "</style>\n",
       "<table border=\"1\" class=\"dataframe\">\n",
       "  <thead>\n",
       "    <tr style=\"text-align: right;\">\n",
       "      <th></th>\n",
       "      <th>RandID</th>\n",
       "      <th>QueryTime</th>\n",
       "      <th>Domain</th>\n",
       "    </tr>\n",
       "  </thead>\n",
       "  <tbody>\n",
       "    <tr>\n",
       "      <th>0</th>\n",
       "      <td>0</td>\n",
       "      <td>2006-03-06 13:59:48</td>\n",
       "      <td>about.com</td>\n",
       "    </tr>\n",
       "    <tr>\n",
       "      <th>1</th>\n",
       "      <td>0</td>\n",
       "      <td>2006-03-09 17:02:21</td>\n",
       "      <td>unclefed.com</td>\n",
       "    </tr>\n",
       "    <tr>\n",
       "      <th>2</th>\n",
       "      <td>0</td>\n",
       "      <td>2006-03-09 17:07:54</td>\n",
       "      <td>swanklaw.com</td>\n",
       "    </tr>\n",
       "    <tr>\n",
       "      <th>3</th>\n",
       "      <td>0</td>\n",
       "      <td>2006-03-09 17:09:53</td>\n",
       "      <td>state.or.us</td>\n",
       "    </tr>\n",
       "    <tr>\n",
       "      <th>4</th>\n",
       "      <td>0</td>\n",
       "      <td>2006-03-21 18:54:26</td>\n",
       "      <td>city-data.com</td>\n",
       "    </tr>\n",
       "    <tr>\n",
       "      <th>...</th>\n",
       "      <td>...</td>\n",
       "      <td>...</td>\n",
       "      <td>...</td>\n",
       "    </tr>\n",
       "    <tr>\n",
       "      <th>19205080</th>\n",
       "      <td>521691</td>\n",
       "      <td>2006-05-29 19:49:16</td>\n",
       "      <td>sing365.com</td>\n",
       "    </tr>\n",
       "    <tr>\n",
       "      <th>19205081</th>\n",
       "      <td>521691</td>\n",
       "      <td>2006-05-29 20:03:50</td>\n",
       "      <td>azlyrics.com</td>\n",
       "    </tr>\n",
       "    <tr>\n",
       "      <th>19205082</th>\n",
       "      <td>521691</td>\n",
       "      <td>2006-05-29 20:07:23</td>\n",
       "      <td>azlyrics.com</td>\n",
       "    </tr>\n",
       "    <tr>\n",
       "      <th>19205083</th>\n",
       "      <td>521691</td>\n",
       "      <td>2006-05-29 20:35:09</td>\n",
       "      <td>sing365.com</td>\n",
       "    </tr>\n",
       "    <tr>\n",
       "      <th>19205084</th>\n",
       "      <td>521691</td>\n",
       "      <td>2006-05-29 20:36:54</td>\n",
       "      <td>azlyrics.com</td>\n",
       "    </tr>\n",
       "  </tbody>\n",
       "</table>\n",
       "<p>19205085 rows × 3 columns</p>\n",
       "</div>"
      ],
      "text/plain": [
       "          RandID           QueryTime         Domain\n",
       "0              0 2006-03-06 13:59:48      about.com\n",
       "1              0 2006-03-09 17:02:21   unclefed.com\n",
       "2              0 2006-03-09 17:07:54   swanklaw.com\n",
       "3              0 2006-03-09 17:09:53    state.or.us\n",
       "4              0 2006-03-21 18:54:26  city-data.com\n",
       "...          ...                 ...            ...\n",
       "19205080  521691 2006-05-29 19:49:16    sing365.com\n",
       "19205081  521691 2006-05-29 20:03:50   azlyrics.com\n",
       "19205082  521691 2006-05-29 20:07:23   azlyrics.com\n",
       "19205083  521691 2006-05-29 20:35:09    sing365.com\n",
       "19205084  521691 2006-05-29 20:36:54   azlyrics.com\n",
       "\n",
       "[19205085 rows x 3 columns]"
      ]
     },
     "metadata": {},
     "output_type": "display_data"
    }
   ],
   "source": [
    "display(aol_treated)"
   ]
  },
  {
   "cell_type": "markdown",
   "id": "6205fc76",
   "metadata": {},
   "source": [
    "### Define browsing histories"
   ]
  },
  {
   "cell_type": "code",
   "execution_count": 15,
   "id": "5ac5cc7a",
   "metadata": {
    "scrolled": true
   },
   "outputs": [
    {
     "name": "stdout",
     "output_type": "stream",
     "text": [
      "CPU times: user 9min 43s, sys: 3.63 s, total: 9min 46s\n",
      "Wall time: 9min 47s\n"
     ]
    }
   ],
   "source": [
    "%%time\n",
    "d = {'RandID': [], 'BrowsingHistory': []}\n",
    "for k, v in aol_treated.groupby('RandID').__iter__():\n",
    "    temp = []\n",
    "    for tup in v.itertuples():\n",
    "        temp.append(tuple([tup.Domain, tup.QueryTime]))\n",
    "    d['BrowsingHistory'].append(str(temp))\n",
    "    d['RandID'].append(k)"
   ]
  },
  {
   "cell_type": "code",
   "execution_count": 16,
   "id": "c464fb39",
   "metadata": {},
   "outputs": [],
   "source": [
    "aol_treated_browsing_history = pandas.DataFrame(data=d, columns=['RandID', 'BrowsingHistory'])"
   ]
  },
  {
   "cell_type": "code",
   "execution_count": 17,
   "id": "0dbd42af",
   "metadata": {},
   "outputs": [
    {
     "data": {
      "text/html": [
       "<div>\n",
       "<style scoped>\n",
       "    .dataframe tbody tr th:only-of-type {\n",
       "        vertical-align: middle;\n",
       "    }\n",
       "\n",
       "    .dataframe tbody tr th {\n",
       "        vertical-align: top;\n",
       "    }\n",
       "\n",
       "    .dataframe thead th {\n",
       "        text-align: right;\n",
       "    }\n",
       "</style>\n",
       "<table border=\"1\" class=\"dataframe\">\n",
       "  <thead>\n",
       "    <tr style=\"text-align: right;\">\n",
       "      <th></th>\n",
       "      <th>RandID</th>\n",
       "      <th>BrowsingHistory</th>\n",
       "    </tr>\n",
       "  </thead>\n",
       "  <tbody>\n",
       "    <tr>\n",
       "      <th>0</th>\n",
       "      <td>0</td>\n",
       "      <td>[('about.com', Timestamp('2006-03-06 13:59:48'...</td>\n",
       "    </tr>\n",
       "    <tr>\n",
       "      <th>1</th>\n",
       "      <td>2</td>\n",
       "      <td>[('jr.com', Timestamp('2006-03-01 21:59:34')),...</td>\n",
       "    </tr>\n",
       "    <tr>\n",
       "      <th>2</th>\n",
       "      <td>3</td>\n",
       "      <td>[('webdate.com', Timestamp('2006-05-19 00:39:4...</td>\n",
       "    </tr>\n",
       "    <tr>\n",
       "      <th>3</th>\n",
       "      <td>4</td>\n",
       "      <td>[('microsoft.com', Timestamp('2006-03-29 22:32...</td>\n",
       "    </tr>\n",
       "    <tr>\n",
       "      <th>4</th>\n",
       "      <td>5</td>\n",
       "      <td>[('about.com', Timestamp('2006-05-30 21:58:47'...</td>\n",
       "    </tr>\n",
       "    <tr>\n",
       "      <th>...</th>\n",
       "      <td>...</td>\n",
       "      <td>...</td>\n",
       "    </tr>\n",
       "    <tr>\n",
       "      <th>451195</th>\n",
       "      <td>521687</td>\n",
       "      <td>[('1001freefonts.com', Timestamp('2006-04-08 1...</td>\n",
       "    </tr>\n",
       "    <tr>\n",
       "      <th>451196</th>\n",
       "      <td>521688</td>\n",
       "      <td>[('pluggedincleveland.com', Timestamp('2006-04...</td>\n",
       "    </tr>\n",
       "    <tr>\n",
       "      <th>451197</th>\n",
       "      <td>521689</td>\n",
       "      <td>[('arab2.com', Timestamp('2006-03-08 03:17:38'...</td>\n",
       "    </tr>\n",
       "    <tr>\n",
       "      <th>451198</th>\n",
       "      <td>521690</td>\n",
       "      <td>[('washingtonpost.com', Timestamp('2006-05-11 ...</td>\n",
       "    </tr>\n",
       "    <tr>\n",
       "      <th>451199</th>\n",
       "      <td>521691</td>\n",
       "      <td>[('mpg.de', Timestamp('2006-03-01 10:51:31')),...</td>\n",
       "    </tr>\n",
       "  </tbody>\n",
       "</table>\n",
       "<p>451200 rows × 2 columns</p>\n",
       "</div>"
      ],
      "text/plain": [
       "        RandID                                    BrowsingHistory\n",
       "0            0  [('about.com', Timestamp('2006-03-06 13:59:48'...\n",
       "1            2  [('jr.com', Timestamp('2006-03-01 21:59:34')),...\n",
       "2            3  [('webdate.com', Timestamp('2006-05-19 00:39:4...\n",
       "3            4  [('microsoft.com', Timestamp('2006-03-29 22:32...\n",
       "4            5  [('about.com', Timestamp('2006-05-30 21:58:47'...\n",
       "...        ...                                                ...\n",
       "451195  521687  [('1001freefonts.com', Timestamp('2006-04-08 1...\n",
       "451196  521688  [('pluggedincleveland.com', Timestamp('2006-04...\n",
       "451197  521689  [('arab2.com', Timestamp('2006-03-08 03:17:38'...\n",
       "451198  521690  [('washingtonpost.com', Timestamp('2006-05-11 ...\n",
       "451199  521691  [('mpg.de', Timestamp('2006-03-01 10:51:31')),...\n",
       "\n",
       "[451200 rows x 2 columns]"
      ]
     },
     "metadata": {},
     "output_type": "display_data"
    }
   ],
   "source": [
    "display(aol_treated_browsing_history)"
   ]
  },
  {
   "cell_type": "markdown",
   "id": "a5ce2c92",
   "metadata": {},
   "source": [
    "### Statistics"
   ]
  },
  {
   "cell_type": "markdown",
   "id": "7ae7f5f2",
   "metadata": {},
   "source": [
    "`RandID` statistics."
   ]
  },
  {
   "cell_type": "code",
   "execution_count": 18,
   "id": "7835a72b",
   "metadata": {},
   "outputs": [
    {
     "data": {
      "text/plain": [
       "count    451200.0\n",
       "mean          1.0\n",
       "std           0.0\n",
       "min           1.0\n",
       "25%           1.0\n",
       "50%           1.0\n",
       "75%           1.0\n",
       "80%           1.0\n",
       "85%           1.0\n",
       "90%           1.0\n",
       "95%           1.0\n",
       "96%           1.0\n",
       "97%           1.0\n",
       "98%           1.0\n",
       "99%           1.0\n",
       "max           1.0\n",
       "Name: count, dtype: float64"
      ]
     },
     "metadata": {},
     "output_type": "display_data"
    }
   ],
   "source": [
    "display(aol_treated_browsing_history['RandID'].value_counts().describe([.25,.50,.75,.80,.85,.90,.95,.96,.97,.98,.99]))"
   ]
  },
  {
   "cell_type": "markdown",
   "id": "0b6ac9b3",
   "metadata": {},
   "source": [
    "Number of `RandID`s per count of records, e.g. 1 `RandID` has 150802 records and 70406 `RandID`s have 1 record."
   ]
  },
  {
   "cell_type": "markdown",
   "id": "aa1a4a3d",
   "metadata": {},
   "source": [
    "### Save to file"
   ]
  },
  {
   "cell_type": "code",
   "execution_count": 19,
   "id": "1ab7017f",
   "metadata": {},
   "outputs": [],
   "source": [
    "aol_treated_browsing_history.to_csv('AOL-experimental.csv')"
   ]
  }
 ],
 "metadata": {
  "kernelspec": {
   "display_name": "Python 3 (ipykernel)",
   "language": "python",
   "name": "python3"
  },
  "language_info": {
   "codemirror_mode": {
    "name": "ipython",
    "version": 3
   },
   "file_extension": ".py",
   "mimetype": "text/x-python",
   "name": "python",
   "nbconvert_exporter": "python",
   "pygments_lexer": "ipython3",
   "version": "3.11.8"
  }
 },
 "nbformat": 4,
 "nbformat_minor": 5
}
