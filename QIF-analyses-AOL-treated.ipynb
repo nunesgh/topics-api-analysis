{
 "cells": [
  {
   "cell_type": "markdown",
   "id": "e29e41ed",
   "metadata": {},
   "source": [
    "# QIF Analyses (AOL treated dataset)"
   ]
  },
  {
   "cell_type": "code",
   "execution_count": 1,
   "id": "cd452df5",
   "metadata": {},
   "outputs": [],
   "source": [
    "import pandas, random\n",
    "from bvmlib.bvm import BVM"
   ]
  },
  {
   "cell_type": "markdown",
   "id": "ee576827",
   "metadata": {},
   "source": [
    "## AOL treated dataset"
   ]
  },
  {
   "cell_type": "code",
   "execution_count": 2,
   "id": "ac96fb78",
   "metadata": {},
   "outputs": [
    {
     "name": "stdout",
     "output_type": "stream",
     "text": [
      "CPU times: user 14.3 s, sys: 1.37 s, total: 15.7 s\n",
      "Wall time: 15.7 s\n"
     ]
    }
   ],
   "source": [
    "%%time\n",
    "aol_treated = pandas.read_csv('AOL-treated.csv', low_memory=False, on_bad_lines='warn', index_col=0)"
   ]
  },
  {
   "cell_type": "code",
   "execution_count": 3,
   "id": "013706c3",
   "metadata": {},
   "outputs": [
    {
     "name": "stdout",
     "output_type": "stream",
     "text": [
      "CPU times: user 12.6 s, sys: 321 ms, total: 12.9 s\n",
      "Wall time: 12.8 s\n"
     ]
    }
   ],
   "source": [
    "%%time\n",
    "aol_treated['QueryTime'] = pandas.to_datetime(aol_treated['QueryTime'])"
   ]
  },
  {
   "cell_type": "code",
   "execution_count": 4,
   "id": "64230cdd",
   "metadata": {},
   "outputs": [
    {
     "data": {
      "text/html": [
       "<div>\n",
       "<style scoped>\n",
       "    .dataframe tbody tr th:only-of-type {\n",
       "        vertical-align: middle;\n",
       "    }\n",
       "\n",
       "    .dataframe tbody tr th {\n",
       "        vertical-align: top;\n",
       "    }\n",
       "\n",
       "    .dataframe thead th {\n",
       "        text-align: right;\n",
       "    }\n",
       "</style>\n",
       "<table border=\"1\" class=\"dataframe\">\n",
       "  <thead>\n",
       "    <tr style=\"text-align: right;\">\n",
       "      <th></th>\n",
       "      <th>RandID</th>\n",
       "      <th>QueryTime</th>\n",
       "      <th>Domain</th>\n",
       "    </tr>\n",
       "  </thead>\n",
       "  <tbody>\n",
       "    <tr>\n",
       "      <th>0</th>\n",
       "      <td>0</td>\n",
       "      <td>2006-03-06 13:59:48</td>\n",
       "      <td>about.com</td>\n",
       "    </tr>\n",
       "    <tr>\n",
       "      <th>1</th>\n",
       "      <td>0</td>\n",
       "      <td>2006-03-09 17:02:21</td>\n",
       "      <td>unclefed.com</td>\n",
       "    </tr>\n",
       "    <tr>\n",
       "      <th>2</th>\n",
       "      <td>0</td>\n",
       "      <td>2006-03-09 17:07:54</td>\n",
       "      <td>swanklaw.com</td>\n",
       "    </tr>\n",
       "    <tr>\n",
       "      <th>3</th>\n",
       "      <td>0</td>\n",
       "      <td>2006-03-09 17:09:53</td>\n",
       "      <td>state.or.us</td>\n",
       "    </tr>\n",
       "    <tr>\n",
       "      <th>4</th>\n",
       "      <td>0</td>\n",
       "      <td>2006-03-21 18:54:26</td>\n",
       "      <td>city-data.com</td>\n",
       "    </tr>\n",
       "    <tr>\n",
       "      <th>...</th>\n",
       "      <td>...</td>\n",
       "      <td>...</td>\n",
       "      <td>...</td>\n",
       "    </tr>\n",
       "    <tr>\n",
       "      <th>19426288</th>\n",
       "      <td>521691</td>\n",
       "      <td>2006-05-29 19:49:16</td>\n",
       "      <td>sing365.com</td>\n",
       "    </tr>\n",
       "    <tr>\n",
       "      <th>19426289</th>\n",
       "      <td>521691</td>\n",
       "      <td>2006-05-29 20:03:50</td>\n",
       "      <td>azlyrics.com</td>\n",
       "    </tr>\n",
       "    <tr>\n",
       "      <th>19426290</th>\n",
       "      <td>521691</td>\n",
       "      <td>2006-05-29 20:07:23</td>\n",
       "      <td>azlyrics.com</td>\n",
       "    </tr>\n",
       "    <tr>\n",
       "      <th>19426291</th>\n",
       "      <td>521691</td>\n",
       "      <td>2006-05-29 20:35:09</td>\n",
       "      <td>sing365.com</td>\n",
       "    </tr>\n",
       "    <tr>\n",
       "      <th>19426292</th>\n",
       "      <td>521691</td>\n",
       "      <td>2006-05-29 20:36:54</td>\n",
       "      <td>azlyrics.com</td>\n",
       "    </tr>\n",
       "  </tbody>\n",
       "</table>\n",
       "<p>19426293 rows × 3 columns</p>\n",
       "</div>"
      ],
      "text/plain": [
       "          RandID           QueryTime         Domain\n",
       "0              0 2006-03-06 13:59:48      about.com\n",
       "1              0 2006-03-09 17:02:21   unclefed.com\n",
       "2              0 2006-03-09 17:07:54   swanklaw.com\n",
       "3              0 2006-03-09 17:09:53    state.or.us\n",
       "4              0 2006-03-21 18:54:26  city-data.com\n",
       "...          ...                 ...            ...\n",
       "19426288  521691 2006-05-29 19:49:16    sing365.com\n",
       "19426289  521691 2006-05-29 20:03:50   azlyrics.com\n",
       "19426290  521691 2006-05-29 20:07:23   azlyrics.com\n",
       "19426291  521691 2006-05-29 20:35:09    sing365.com\n",
       "19426292  521691 2006-05-29 20:36:54   azlyrics.com\n",
       "\n",
       "[19426293 rows x 3 columns]"
      ]
     },
     "metadata": {},
     "output_type": "display_data"
    }
   ],
   "source": [
    "display(aol_treated)"
   ]
  },
  {
   "cell_type": "markdown",
   "id": "a28882f3",
   "metadata": {},
   "source": [
    "## Drop singletons"
   ]
  },
  {
   "cell_type": "code",
   "execution_count": 5,
   "id": "89a76739",
   "metadata": {},
   "outputs": [
    {
     "name": "stdout",
     "output_type": "stream",
     "text": [
      "CPU times: user 3.35 s, sys: 312 ms, total: 3.66 s\n",
      "Wall time: 3.65 s\n"
     ]
    }
   ],
   "source": [
    "%%time\n",
    "singletons = (aol_treated[['RandID','Domain']].groupby('RandID').count() == 1).index[(aol_treated[['RandID','Domain']].groupby('RandID').count() == 1)['Domain'].to_list()]"
   ]
  },
  {
   "cell_type": "code",
   "execution_count": 6,
   "id": "e81d1477",
   "metadata": {},
   "outputs": [
    {
     "name": "stdout",
     "output_type": "stream",
     "text": [
      "CPU times: user 20min 34s, sys: 512 ms, total: 20min 35s\n",
      "Wall time: 20min 34s\n"
     ]
    }
   ],
   "source": [
    "%%time\n",
    "rows_to_drop = []\n",
    "for i in singletons:\n",
    "    rows_to_drop.append(aol_treated[aol_treated['RandID'] == i].index.to_list()[0])"
   ]
  },
  {
   "cell_type": "code",
   "execution_count": 7,
   "id": "c2508ed4",
   "metadata": {},
   "outputs": [
    {
     "data": {
      "text/plain": [
       "70406"
      ]
     },
     "metadata": {},
     "output_type": "display_data"
    }
   ],
   "source": [
    "display(len(rows_to_drop))"
   ]
  },
  {
   "cell_type": "code",
   "execution_count": 8,
   "id": "b02b682b",
   "metadata": {},
   "outputs": [],
   "source": [
    "aol_treated = aol_treated.drop(rows_to_drop)"
   ]
  },
  {
   "cell_type": "code",
   "execution_count": 9,
   "id": "d1e06768",
   "metadata": {},
   "outputs": [],
   "source": [
    "aol_treated = aol_treated.reset_index(drop=True)"
   ]
  },
  {
   "cell_type": "code",
   "execution_count": 10,
   "id": "aa1f03b7",
   "metadata": {},
   "outputs": [
    {
     "data": {
      "text/html": [
       "<div>\n",
       "<style scoped>\n",
       "    .dataframe tbody tr th:only-of-type {\n",
       "        vertical-align: middle;\n",
       "    }\n",
       "\n",
       "    .dataframe tbody tr th {\n",
       "        vertical-align: top;\n",
       "    }\n",
       "\n",
       "    .dataframe thead th {\n",
       "        text-align: right;\n",
       "    }\n",
       "</style>\n",
       "<table border=\"1\" class=\"dataframe\">\n",
       "  <thead>\n",
       "    <tr style=\"text-align: right;\">\n",
       "      <th></th>\n",
       "      <th>RandID</th>\n",
       "      <th>QueryTime</th>\n",
       "      <th>Domain</th>\n",
       "    </tr>\n",
       "  </thead>\n",
       "  <tbody>\n",
       "    <tr>\n",
       "      <th>0</th>\n",
       "      <td>0</td>\n",
       "      <td>2006-03-06 13:59:48</td>\n",
       "      <td>about.com</td>\n",
       "    </tr>\n",
       "    <tr>\n",
       "      <th>1</th>\n",
       "      <td>0</td>\n",
       "      <td>2006-03-09 17:02:21</td>\n",
       "      <td>unclefed.com</td>\n",
       "    </tr>\n",
       "    <tr>\n",
       "      <th>2</th>\n",
       "      <td>0</td>\n",
       "      <td>2006-03-09 17:07:54</td>\n",
       "      <td>swanklaw.com</td>\n",
       "    </tr>\n",
       "    <tr>\n",
       "      <th>3</th>\n",
       "      <td>0</td>\n",
       "      <td>2006-03-09 17:09:53</td>\n",
       "      <td>state.or.us</td>\n",
       "    </tr>\n",
       "    <tr>\n",
       "      <th>4</th>\n",
       "      <td>0</td>\n",
       "      <td>2006-03-21 18:54:26</td>\n",
       "      <td>city-data.com</td>\n",
       "    </tr>\n",
       "    <tr>\n",
       "      <th>...</th>\n",
       "      <td>...</td>\n",
       "      <td>...</td>\n",
       "      <td>...</td>\n",
       "    </tr>\n",
       "    <tr>\n",
       "      <th>19355882</th>\n",
       "      <td>521691</td>\n",
       "      <td>2006-05-29 19:49:16</td>\n",
       "      <td>sing365.com</td>\n",
       "    </tr>\n",
       "    <tr>\n",
       "      <th>19355883</th>\n",
       "      <td>521691</td>\n",
       "      <td>2006-05-29 20:03:50</td>\n",
       "      <td>azlyrics.com</td>\n",
       "    </tr>\n",
       "    <tr>\n",
       "      <th>19355884</th>\n",
       "      <td>521691</td>\n",
       "      <td>2006-05-29 20:07:23</td>\n",
       "      <td>azlyrics.com</td>\n",
       "    </tr>\n",
       "    <tr>\n",
       "      <th>19355885</th>\n",
       "      <td>521691</td>\n",
       "      <td>2006-05-29 20:35:09</td>\n",
       "      <td>sing365.com</td>\n",
       "    </tr>\n",
       "    <tr>\n",
       "      <th>19355886</th>\n",
       "      <td>521691</td>\n",
       "      <td>2006-05-29 20:36:54</td>\n",
       "      <td>azlyrics.com</td>\n",
       "    </tr>\n",
       "  </tbody>\n",
       "</table>\n",
       "<p>19355887 rows × 3 columns</p>\n",
       "</div>"
      ],
      "text/plain": [
       "          RandID           QueryTime         Domain\n",
       "0              0 2006-03-06 13:59:48      about.com\n",
       "1              0 2006-03-09 17:02:21   unclefed.com\n",
       "2              0 2006-03-09 17:07:54   swanklaw.com\n",
       "3              0 2006-03-09 17:09:53    state.or.us\n",
       "4              0 2006-03-21 18:54:26  city-data.com\n",
       "...          ...                 ...            ...\n",
       "19355882  521691 2006-05-29 19:49:16    sing365.com\n",
       "19355883  521691 2006-05-29 20:03:50   azlyrics.com\n",
       "19355884  521691 2006-05-29 20:07:23   azlyrics.com\n",
       "19355885  521691 2006-05-29 20:35:09    sing365.com\n",
       "19355886  521691 2006-05-29 20:36:54   azlyrics.com\n",
       "\n",
       "[19355887 rows x 3 columns]"
      ]
     },
     "metadata": {},
     "output_type": "display_data"
    }
   ],
   "source": [
    "display(aol_treated)"
   ]
  },
  {
   "cell_type": "markdown",
   "id": "8ba88dc3",
   "metadata": {},
   "source": [
    "## Drop outlier"
   ]
  },
  {
   "cell_type": "code",
   "execution_count": 11,
   "id": "bc7b7fd1",
   "metadata": {},
   "outputs": [
    {
     "data": {
      "text/plain": [
       "RandID\n",
       "83937     150802\n",
       "183239      6227\n",
       "125488      5741\n",
       "475224      4272\n",
       "443325      3775\n",
       "           ...  \n",
       "134002         2\n",
       "235997         2\n",
       "478236         2\n",
       "320889         2\n",
       "385208         2\n",
       "Name: count, Length: 451201, dtype: int64"
      ]
     },
     "metadata": {},
     "output_type": "display_data"
    },
    {
     "name": "stdout",
     "output_type": "stream",
     "text": [
      "CPU times: user 173 ms, sys: 116 ms, total: 289 ms\n",
      "Wall time: 288 ms\n"
     ]
    }
   ],
   "source": [
    "%%time\n",
    "display(aol_treated['RandID'].value_counts())"
   ]
  },
  {
   "cell_type": "code",
   "execution_count": 12,
   "id": "dd374c42",
   "metadata": {},
   "outputs": [],
   "source": [
    "aol_treated = aol_treated.drop(aol_treated[aol_treated['RandID'] == 83937].index.to_list())"
   ]
  },
  {
   "cell_type": "code",
   "execution_count": 13,
   "id": "a18282fe",
   "metadata": {},
   "outputs": [],
   "source": [
    "aol_treated = aol_treated.reset_index(drop=True)"
   ]
  },
  {
   "cell_type": "code",
   "execution_count": 14,
   "id": "16455d57",
   "metadata": {},
   "outputs": [
    {
     "data": {
      "text/html": [
       "<div>\n",
       "<style scoped>\n",
       "    .dataframe tbody tr th:only-of-type {\n",
       "        vertical-align: middle;\n",
       "    }\n",
       "\n",
       "    .dataframe tbody tr th {\n",
       "        vertical-align: top;\n",
       "    }\n",
       "\n",
       "    .dataframe thead th {\n",
       "        text-align: right;\n",
       "    }\n",
       "</style>\n",
       "<table border=\"1\" class=\"dataframe\">\n",
       "  <thead>\n",
       "    <tr style=\"text-align: right;\">\n",
       "      <th></th>\n",
       "      <th>RandID</th>\n",
       "      <th>QueryTime</th>\n",
       "      <th>Domain</th>\n",
       "    </tr>\n",
       "  </thead>\n",
       "  <tbody>\n",
       "    <tr>\n",
       "      <th>0</th>\n",
       "      <td>0</td>\n",
       "      <td>2006-03-06 13:59:48</td>\n",
       "      <td>about.com</td>\n",
       "    </tr>\n",
       "    <tr>\n",
       "      <th>1</th>\n",
       "      <td>0</td>\n",
       "      <td>2006-03-09 17:02:21</td>\n",
       "      <td>unclefed.com</td>\n",
       "    </tr>\n",
       "    <tr>\n",
       "      <th>2</th>\n",
       "      <td>0</td>\n",
       "      <td>2006-03-09 17:07:54</td>\n",
       "      <td>swanklaw.com</td>\n",
       "    </tr>\n",
       "    <tr>\n",
       "      <th>3</th>\n",
       "      <td>0</td>\n",
       "      <td>2006-03-09 17:09:53</td>\n",
       "      <td>state.or.us</td>\n",
       "    </tr>\n",
       "    <tr>\n",
       "      <th>4</th>\n",
       "      <td>0</td>\n",
       "      <td>2006-03-21 18:54:26</td>\n",
       "      <td>city-data.com</td>\n",
       "    </tr>\n",
       "    <tr>\n",
       "      <th>...</th>\n",
       "      <td>...</td>\n",
       "      <td>...</td>\n",
       "      <td>...</td>\n",
       "    </tr>\n",
       "    <tr>\n",
       "      <th>19205080</th>\n",
       "      <td>521691</td>\n",
       "      <td>2006-05-29 19:49:16</td>\n",
       "      <td>sing365.com</td>\n",
       "    </tr>\n",
       "    <tr>\n",
       "      <th>19205081</th>\n",
       "      <td>521691</td>\n",
       "      <td>2006-05-29 20:03:50</td>\n",
       "      <td>azlyrics.com</td>\n",
       "    </tr>\n",
       "    <tr>\n",
       "      <th>19205082</th>\n",
       "      <td>521691</td>\n",
       "      <td>2006-05-29 20:07:23</td>\n",
       "      <td>azlyrics.com</td>\n",
       "    </tr>\n",
       "    <tr>\n",
       "      <th>19205083</th>\n",
       "      <td>521691</td>\n",
       "      <td>2006-05-29 20:35:09</td>\n",
       "      <td>sing365.com</td>\n",
       "    </tr>\n",
       "    <tr>\n",
       "      <th>19205084</th>\n",
       "      <td>521691</td>\n",
       "      <td>2006-05-29 20:36:54</td>\n",
       "      <td>azlyrics.com</td>\n",
       "    </tr>\n",
       "  </tbody>\n",
       "</table>\n",
       "<p>19205085 rows × 3 columns</p>\n",
       "</div>"
      ],
      "text/plain": [
       "          RandID           QueryTime         Domain\n",
       "0              0 2006-03-06 13:59:48      about.com\n",
       "1              0 2006-03-09 17:02:21   unclefed.com\n",
       "2              0 2006-03-09 17:07:54   swanklaw.com\n",
       "3              0 2006-03-09 17:09:53    state.or.us\n",
       "4              0 2006-03-21 18:54:26  city-data.com\n",
       "...          ...                 ...            ...\n",
       "19205080  521691 2006-05-29 19:49:16    sing365.com\n",
       "19205081  521691 2006-05-29 20:03:50   azlyrics.com\n",
       "19205082  521691 2006-05-29 20:07:23   azlyrics.com\n",
       "19205083  521691 2006-05-29 20:35:09    sing365.com\n",
       "19205084  521691 2006-05-29 20:36:54   azlyrics.com\n",
       "\n",
       "[19205085 rows x 3 columns]"
      ]
     },
     "metadata": {},
     "output_type": "display_data"
    }
   ],
   "source": [
    "display(aol_treated)"
   ]
  },
  {
   "cell_type": "markdown",
   "id": "c2d4f929",
   "metadata": {},
   "source": [
    "## Experiment 1: Third-party cookies on AOL treated dataset"
   ]
  },
  {
   "cell_type": "markdown",
   "id": "108f1071",
   "metadata": {},
   "source": [
    "### Define browsing histories"
   ]
  },
  {
   "cell_type": "code",
   "execution_count": 15,
   "id": "0162b679",
   "metadata": {},
   "outputs": [
    {
     "name": "stdout",
     "output_type": "stream",
     "text": [
      "CPU times: user 4min 13s, sys: 3.9 s, total: 4min 17s\n",
      "Wall time: 4min 14s\n"
     ]
    }
   ],
   "source": [
    "%%time\n",
    "d = {'RandID': [], 'BrowsingHistory': []}\n",
    "for k, v in aol_treated.groupby('RandID').__iter__():\n",
    "    temp = []\n",
    "    for tup in v.itertuples():\n",
    "        temp.append(tuple([tup.Domain, tup.QueryTime]))\n",
    "    d['BrowsingHistory'].append(str(temp))\n",
    "    d['RandID'].append(k)"
   ]
  },
  {
   "cell_type": "code",
   "execution_count": 16,
   "id": "1496e57f",
   "metadata": {},
   "outputs": [],
   "source": [
    "aol_treated_browsing_history = pandas.DataFrame(data=d, columns=['RandID', 'BrowsingHistory'])"
   ]
  },
  {
   "cell_type": "code",
   "execution_count": 17,
   "id": "fe9c4f8f",
   "metadata": {},
   "outputs": [
    {
     "data": {
      "text/html": [
       "<div>\n",
       "<style scoped>\n",
       "    .dataframe tbody tr th:only-of-type {\n",
       "        vertical-align: middle;\n",
       "    }\n",
       "\n",
       "    .dataframe tbody tr th {\n",
       "        vertical-align: top;\n",
       "    }\n",
       "\n",
       "    .dataframe thead th {\n",
       "        text-align: right;\n",
       "    }\n",
       "</style>\n",
       "<table border=\"1\" class=\"dataframe\">\n",
       "  <thead>\n",
       "    <tr style=\"text-align: right;\">\n",
       "      <th></th>\n",
       "      <th>RandID</th>\n",
       "      <th>BrowsingHistory</th>\n",
       "    </tr>\n",
       "  </thead>\n",
       "  <tbody>\n",
       "    <tr>\n",
       "      <th>0</th>\n",
       "      <td>0</td>\n",
       "      <td>[('about.com', Timestamp('2006-03-06 13:59:48'...</td>\n",
       "    </tr>\n",
       "    <tr>\n",
       "      <th>1</th>\n",
       "      <td>2</td>\n",
       "      <td>[('jr.com', Timestamp('2006-03-01 21:59:34')),...</td>\n",
       "    </tr>\n",
       "    <tr>\n",
       "      <th>2</th>\n",
       "      <td>3</td>\n",
       "      <td>[('webdate.com', Timestamp('2006-05-19 00:39:4...</td>\n",
       "    </tr>\n",
       "    <tr>\n",
       "      <th>3</th>\n",
       "      <td>4</td>\n",
       "      <td>[('microsoft.com', Timestamp('2006-03-29 22:32...</td>\n",
       "    </tr>\n",
       "    <tr>\n",
       "      <th>4</th>\n",
       "      <td>5</td>\n",
       "      <td>[('about.com', Timestamp('2006-05-30 21:58:47'...</td>\n",
       "    </tr>\n",
       "    <tr>\n",
       "      <th>...</th>\n",
       "      <td>...</td>\n",
       "      <td>...</td>\n",
       "    </tr>\n",
       "    <tr>\n",
       "      <th>451195</th>\n",
       "      <td>521687</td>\n",
       "      <td>[('1001freefonts.com', Timestamp('2006-04-08 1...</td>\n",
       "    </tr>\n",
       "    <tr>\n",
       "      <th>451196</th>\n",
       "      <td>521688</td>\n",
       "      <td>[('pluggedincleveland.com', Timestamp('2006-04...</td>\n",
       "    </tr>\n",
       "    <tr>\n",
       "      <th>451197</th>\n",
       "      <td>521689</td>\n",
       "      <td>[('arab2.com', Timestamp('2006-03-08 03:17:38'...</td>\n",
       "    </tr>\n",
       "    <tr>\n",
       "      <th>451198</th>\n",
       "      <td>521690</td>\n",
       "      <td>[('washingtonpost.com', Timestamp('2006-05-11 ...</td>\n",
       "    </tr>\n",
       "    <tr>\n",
       "      <th>451199</th>\n",
       "      <td>521691</td>\n",
       "      <td>[('mpg.de', Timestamp('2006-03-01 10:51:31')),...</td>\n",
       "    </tr>\n",
       "  </tbody>\n",
       "</table>\n",
       "<p>451200 rows × 2 columns</p>\n",
       "</div>"
      ],
      "text/plain": [
       "        RandID                                    BrowsingHistory\n",
       "0            0  [('about.com', Timestamp('2006-03-06 13:59:48'...\n",
       "1            2  [('jr.com', Timestamp('2006-03-01 21:59:34')),...\n",
       "2            3  [('webdate.com', Timestamp('2006-05-19 00:39:4...\n",
       "3            4  [('microsoft.com', Timestamp('2006-03-29 22:32...\n",
       "4            5  [('about.com', Timestamp('2006-05-30 21:58:47'...\n",
       "...        ...                                                ...\n",
       "451195  521687  [('1001freefonts.com', Timestamp('2006-04-08 1...\n",
       "451196  521688  [('pluggedincleveland.com', Timestamp('2006-04...\n",
       "451197  521689  [('arab2.com', Timestamp('2006-03-08 03:17:38'...\n",
       "451198  521690  [('washingtonpost.com', Timestamp('2006-05-11 ...\n",
       "451199  521691  [('mpg.de', Timestamp('2006-03-01 10:51:31')),...\n",
       "\n",
       "[451200 rows x 2 columns]"
      ]
     },
     "metadata": {},
     "output_type": "display_data"
    }
   ],
   "source": [
    "display(aol_treated_browsing_history)"
   ]
  },
  {
   "cell_type": "markdown",
   "id": "b3390438",
   "metadata": {},
   "source": [
    "### Privacy"
   ]
  },
  {
   "cell_type": "code",
   "execution_count": 18,
   "id": "d89b760d",
   "metadata": {},
   "outputs": [
    {
     "data": {
      "text/html": [
       "<div>\n",
       "<style scoped>\n",
       "    .dataframe tbody tr th:only-of-type {\n",
       "        vertical-align: middle;\n",
       "    }\n",
       "\n",
       "    .dataframe tbody tr th {\n",
       "        vertical-align: top;\n",
       "    }\n",
       "\n",
       "    .dataframe thead th {\n",
       "        text-align: right;\n",
       "    }\n",
       "</style>\n",
       "<table border=\"1\" class=\"dataframe\">\n",
       "  <thead>\n",
       "    <tr style=\"text-align: right;\">\n",
       "      <th></th>\n",
       "      <th>RandID</th>\n",
       "      <th>UID</th>\n",
       "    </tr>\n",
       "  </thead>\n",
       "  <tbody>\n",
       "    <tr>\n",
       "      <th>0</th>\n",
       "      <td>0</td>\n",
       "      <td>0</td>\n",
       "    </tr>\n",
       "    <tr>\n",
       "      <th>1</th>\n",
       "      <td>2</td>\n",
       "      <td>2</td>\n",
       "    </tr>\n",
       "    <tr>\n",
       "      <th>2</th>\n",
       "      <td>3</td>\n",
       "      <td>3</td>\n",
       "    </tr>\n",
       "    <tr>\n",
       "      <th>3</th>\n",
       "      <td>4</td>\n",
       "      <td>4</td>\n",
       "    </tr>\n",
       "    <tr>\n",
       "      <th>4</th>\n",
       "      <td>5</td>\n",
       "      <td>5</td>\n",
       "    </tr>\n",
       "    <tr>\n",
       "      <th>...</th>\n",
       "      <td>...</td>\n",
       "      <td>...</td>\n",
       "    </tr>\n",
       "    <tr>\n",
       "      <th>451195</th>\n",
       "      <td>521687</td>\n",
       "      <td>521687</td>\n",
       "    </tr>\n",
       "    <tr>\n",
       "      <th>451196</th>\n",
       "      <td>521688</td>\n",
       "      <td>521688</td>\n",
       "    </tr>\n",
       "    <tr>\n",
       "      <th>451197</th>\n",
       "      <td>521689</td>\n",
       "      <td>521689</td>\n",
       "    </tr>\n",
       "    <tr>\n",
       "      <th>451198</th>\n",
       "      <td>521690</td>\n",
       "      <td>521690</td>\n",
       "    </tr>\n",
       "    <tr>\n",
       "      <th>451199</th>\n",
       "      <td>521691</td>\n",
       "      <td>521691</td>\n",
       "    </tr>\n",
       "  </tbody>\n",
       "</table>\n",
       "<p>451200 rows × 2 columns</p>\n",
       "</div>"
      ],
      "text/plain": [
       "        RandID     UID\n",
       "0            0       0\n",
       "1            2       2\n",
       "2            3       3\n",
       "3            4       4\n",
       "4            5       5\n",
       "...        ...     ...\n",
       "451195  521687  521687\n",
       "451196  521688  521688\n",
       "451197  521689  521689\n",
       "451198  521690  521690\n",
       "451199  521691  521691\n",
       "\n",
       "[451200 rows x 2 columns]"
      ]
     },
     "metadata": {},
     "output_type": "display_data"
    },
    {
     "data": {
      "text/plain": [
       "RandID    451200\n",
       "UID       451200\n",
       "dtype: int64"
      ]
     },
     "metadata": {},
     "output_type": "display_data"
    }
   ],
   "source": [
    "temp = aol_treated_browsing_history.copy()\n",
    "temp['UID'] = temp['RandID']\n",
    "temp = temp.drop(columns=['BrowsingHistory'], inplace=False)\n",
    "display(temp, temp.nunique())"
   ]
  },
  {
   "cell_type": "code",
   "execution_count": 19,
   "id": "ee015086",
   "metadata": {},
   "outputs": [
    {
     "name": "stdout",
     "output_type": "stream",
     "text": [
      "CPU times: user 2.81 s, sys: 3.99 ms, total: 2.81 s\n",
      "Wall time: 2.81 s\n"
     ]
    }
   ],
   "source": [
    "%%time\n",
    "E1P = BVM(temp)\n",
    "E1P.qids(['UID'])\n",
    "E1P.sensitive(['RandID'])\n",
    "results = E1P.assess()"
   ]
  },
  {
   "cell_type": "code",
   "execution_count": 20,
   "id": "e90f1d69",
   "metadata": {},
   "outputs": [
    {
     "data": {
      "text/html": [
       "<div>\n",
       "<style scoped>\n",
       "    .dataframe tbody tr th:only-of-type {\n",
       "        vertical-align: middle;\n",
       "    }\n",
       "\n",
       "    .dataframe tbody tr th {\n",
       "        vertical-align: top;\n",
       "    }\n",
       "\n",
       "    .dataframe thead th {\n",
       "        text-align: right;\n",
       "    }\n",
       "</style>\n",
       "<table border=\"1\" class=\"dataframe\">\n",
       "  <thead>\n",
       "    <tr style=\"text-align: right;\">\n",
       "      <th></th>\n",
       "      <th>QID</th>\n",
       "      <th>dCR</th>\n",
       "      <th>pCR</th>\n",
       "      <th>Prior</th>\n",
       "      <th>Posterior</th>\n",
       "      <th>Histogram</th>\n",
       "    </tr>\n",
       "  </thead>\n",
       "  <tbody>\n",
       "    <tr>\n",
       "      <th>0</th>\n",
       "      <td>['UID']</td>\n",
       "      <td>1.0</td>\n",
       "      <td>451200</td>\n",
       "      <td>0.000002</td>\n",
       "      <td>1.0</td>\n",
       "      <td>{'0': 0.0, '1': 0.0, '2': 0.0, '3': 0.0, '4': ...</td>\n",
       "    </tr>\n",
       "  </tbody>\n",
       "</table>\n",
       "</div>"
      ],
      "text/plain": [
       "       QID  dCR     pCR     Prior  Posterior   \n",
       "0  ['UID']  1.0  451200  0.000002        1.0  \\\n",
       "\n",
       "                                           Histogram  \n",
       "0  {'0': 0.0, '1': 0.0, '2': 0.0, '3': 0.0, '4': ...  "
      ]
     },
     "metadata": {},
     "output_type": "display_data"
    },
    {
     "data": {
      "text/html": [
       "<div>\n",
       "<style scoped>\n",
       "    .dataframe tbody tr th:only-of-type {\n",
       "        vertical-align: middle;\n",
       "    }\n",
       "\n",
       "    .dataframe tbody tr th {\n",
       "        vertical-align: top;\n",
       "    }\n",
       "\n",
       "    .dataframe thead th {\n",
       "        text-align: right;\n",
       "    }\n",
       "</style>\n",
       "<table border=\"1\" class=\"dataframe\">\n",
       "  <thead>\n",
       "    <tr style=\"text-align: right;\">\n",
       "      <th></th>\n",
       "      <th>QID</th>\n",
       "      <th>Sensitive</th>\n",
       "      <th>dCA</th>\n",
       "      <th>pCA</th>\n",
       "      <th>Prior</th>\n",
       "      <th>Posterior</th>\n",
       "      <th>Histogram</th>\n",
       "    </tr>\n",
       "  </thead>\n",
       "  <tbody>\n",
       "    <tr>\n",
       "      <th>0</th>\n",
       "      <td>['UID']</td>\n",
       "      <td>RandID</td>\n",
       "      <td>0.0</td>\n",
       "      <td>451200.0</td>\n",
       "      <td>0.000002</td>\n",
       "      <td>1.0</td>\n",
       "      <td>{'0': 0.0, '1': 0.0, '2': 0.0, '3': 0.0, '4': ...</td>\n",
       "    </tr>\n",
       "  </tbody>\n",
       "</table>\n",
       "</div>"
      ],
      "text/plain": [
       "       QID Sensitive  dCA       pCA     Prior  Posterior   \n",
       "0  ['UID']    RandID  0.0  451200.0  0.000002        1.0  \\\n",
       "\n",
       "                                           Histogram  \n",
       "0  {'0': 0.0, '1': 0.0, '2': 0.0, '3': 0.0, '4': ...  "
      ]
     },
     "metadata": {},
     "output_type": "display_data"
    }
   ],
   "source": [
    "display(results['re_id'], results['att_inf'])"
   ]
  },
  {
   "cell_type": "code",
   "execution_count": 21,
   "id": "d0baf108",
   "metadata": {},
   "outputs": [
    {
     "data": {
      "text/plain": [
       "2.2163120567375886e-06"
      ]
     },
     "metadata": {},
     "output_type": "display_data"
    },
    {
     "data": {
      "text/plain": [
       "2.2163120567375886e-06"
      ]
     },
     "metadata": {},
     "output_type": "display_data"
    }
   ],
   "source": [
    "display(results['re_id']['Prior'][0], results['att_inf']['Prior'][0])"
   ]
  },
  {
   "cell_type": "code",
   "execution_count": 22,
   "id": "cd0efda0",
   "metadata": {},
   "outputs": [
    {
     "data": {
      "text/plain": [
       "1.0"
      ]
     },
     "metadata": {},
     "output_type": "display_data"
    },
    {
     "data": {
      "text/plain": [
       "1.0"
      ]
     },
     "metadata": {},
     "output_type": "display_data"
    }
   ],
   "source": [
    "display(results['re_id']['Posterior'][0], results['att_inf']['Posterior'][0])"
   ]
  },
  {
   "cell_type": "code",
   "execution_count": 23,
   "id": "b2549885",
   "metadata": {},
   "outputs": [
    {
     "data": {
      "text/plain": [
       "451200.0"
      ]
     },
     "metadata": {},
     "output_type": "display_data"
    },
    {
     "data": {
      "text/plain": [
       "451200.0"
      ]
     },
     "metadata": {},
     "output_type": "display_data"
    }
   ],
   "source": [
    "display(results['re_id']['Posterior'][0]/results['re_id']['Prior'][0], results['att_inf']['Posterior'][0]/results['att_inf']['Prior'][0])"
   ]
  },
  {
   "cell_type": "markdown",
   "id": "142fd7b0",
   "metadata": {},
   "source": [
    "### Utility"
   ]
  },
  {
   "cell_type": "code",
   "execution_count": 24,
   "id": "17042c56",
   "metadata": {
    "scrolled": false
   },
   "outputs": [
    {
     "data": {
      "text/html": [
       "<div>\n",
       "<style scoped>\n",
       "    .dataframe tbody tr th:only-of-type {\n",
       "        vertical-align: middle;\n",
       "    }\n",
       "\n",
       "    .dataframe tbody tr th {\n",
       "        vertical-align: top;\n",
       "    }\n",
       "\n",
       "    .dataframe thead th {\n",
       "        text-align: right;\n",
       "    }\n",
       "</style>\n",
       "<table border=\"1\" class=\"dataframe\">\n",
       "  <thead>\n",
       "    <tr style=\"text-align: right;\">\n",
       "      <th></th>\n",
       "      <th>UID</th>\n",
       "      <th>BrowsingHistory</th>\n",
       "    </tr>\n",
       "  </thead>\n",
       "  <tbody>\n",
       "    <tr>\n",
       "      <th>0</th>\n",
       "      <td>0</td>\n",
       "      <td>[('about.com', Timestamp('2006-03-06 13:59:48'...</td>\n",
       "    </tr>\n",
       "    <tr>\n",
       "      <th>1</th>\n",
       "      <td>2</td>\n",
       "      <td>[('jr.com', Timestamp('2006-03-01 21:59:34')),...</td>\n",
       "    </tr>\n",
       "    <tr>\n",
       "      <th>2</th>\n",
       "      <td>3</td>\n",
       "      <td>[('webdate.com', Timestamp('2006-05-19 00:39:4...</td>\n",
       "    </tr>\n",
       "    <tr>\n",
       "      <th>3</th>\n",
       "      <td>4</td>\n",
       "      <td>[('microsoft.com', Timestamp('2006-03-29 22:32...</td>\n",
       "    </tr>\n",
       "    <tr>\n",
       "      <th>4</th>\n",
       "      <td>5</td>\n",
       "      <td>[('about.com', Timestamp('2006-05-30 21:58:47'...</td>\n",
       "    </tr>\n",
       "    <tr>\n",
       "      <th>...</th>\n",
       "      <td>...</td>\n",
       "      <td>...</td>\n",
       "    </tr>\n",
       "    <tr>\n",
       "      <th>451195</th>\n",
       "      <td>521687</td>\n",
       "      <td>[('1001freefonts.com', Timestamp('2006-04-08 1...</td>\n",
       "    </tr>\n",
       "    <tr>\n",
       "      <th>451196</th>\n",
       "      <td>521688</td>\n",
       "      <td>[('pluggedincleveland.com', Timestamp('2006-04...</td>\n",
       "    </tr>\n",
       "    <tr>\n",
       "      <th>451197</th>\n",
       "      <td>521689</td>\n",
       "      <td>[('arab2.com', Timestamp('2006-03-08 03:17:38'...</td>\n",
       "    </tr>\n",
       "    <tr>\n",
       "      <th>451198</th>\n",
       "      <td>521690</td>\n",
       "      <td>[('washingtonpost.com', Timestamp('2006-05-11 ...</td>\n",
       "    </tr>\n",
       "    <tr>\n",
       "      <th>451199</th>\n",
       "      <td>521691</td>\n",
       "      <td>[('mpg.de', Timestamp('2006-03-01 10:51:31')),...</td>\n",
       "    </tr>\n",
       "  </tbody>\n",
       "</table>\n",
       "<p>451200 rows × 2 columns</p>\n",
       "</div>"
      ],
      "text/plain": [
       "           UID                                    BrowsingHistory\n",
       "0            0  [('about.com', Timestamp('2006-03-06 13:59:48'...\n",
       "1            2  [('jr.com', Timestamp('2006-03-01 21:59:34')),...\n",
       "2            3  [('webdate.com', Timestamp('2006-05-19 00:39:4...\n",
       "3            4  [('microsoft.com', Timestamp('2006-03-29 22:32...\n",
       "4            5  [('about.com', Timestamp('2006-05-30 21:58:47'...\n",
       "...        ...                                                ...\n",
       "451195  521687  [('1001freefonts.com', Timestamp('2006-04-08 1...\n",
       "451196  521688  [('pluggedincleveland.com', Timestamp('2006-04...\n",
       "451197  521689  [('arab2.com', Timestamp('2006-03-08 03:17:38'...\n",
       "451198  521690  [('washingtonpost.com', Timestamp('2006-05-11 ...\n",
       "451199  521691  [('mpg.de', Timestamp('2006-03-01 10:51:31')),...\n",
       "\n",
       "[451200 rows x 2 columns]"
      ]
     },
     "metadata": {},
     "output_type": "display_data"
    },
    {
     "data": {
      "text/plain": [
       "UID                451200\n",
       "BrowsingHistory    451200\n",
       "dtype: int64"
      ]
     },
     "metadata": {},
     "output_type": "display_data"
    }
   ],
   "source": [
    "temp = aol_treated_browsing_history.copy()\n",
    "temp = temp.rename(columns={'RandID':'UID'}, inplace=False)\n",
    "display(temp, temp.nunique())"
   ]
  },
  {
   "cell_type": "code",
   "execution_count": 25,
   "id": "99e29ed1",
   "metadata": {},
   "outputs": [
    {
     "name": "stdout",
     "output_type": "stream",
     "text": [
      "CPU times: user 5.63 s, sys: 4 ms, total: 5.63 s\n",
      "Wall time: 5.63 s\n"
     ]
    }
   ],
   "source": [
    "%%time\n",
    "E1U = BVM(temp)\n",
    "E1U.qids(['UID'])\n",
    "E1U.sensitive(['BrowsingHistory'])\n",
    "results = E1U.assess()"
   ]
  },
  {
   "cell_type": "code",
   "execution_count": 26,
   "id": "ec2e4dae",
   "metadata": {},
   "outputs": [
    {
     "data": {
      "text/html": [
       "<div>\n",
       "<style scoped>\n",
       "    .dataframe tbody tr th:only-of-type {\n",
       "        vertical-align: middle;\n",
       "    }\n",
       "\n",
       "    .dataframe tbody tr th {\n",
       "        vertical-align: top;\n",
       "    }\n",
       "\n",
       "    .dataframe thead th {\n",
       "        text-align: right;\n",
       "    }\n",
       "</style>\n",
       "<table border=\"1\" class=\"dataframe\">\n",
       "  <thead>\n",
       "    <tr style=\"text-align: right;\">\n",
       "      <th></th>\n",
       "      <th>QID</th>\n",
       "      <th>dCR</th>\n",
       "      <th>pCR</th>\n",
       "      <th>Prior</th>\n",
       "      <th>Posterior</th>\n",
       "      <th>Histogram</th>\n",
       "    </tr>\n",
       "  </thead>\n",
       "  <tbody>\n",
       "    <tr>\n",
       "      <th>0</th>\n",
       "      <td>['UID']</td>\n",
       "      <td>1.0</td>\n",
       "      <td>451200</td>\n",
       "      <td>0.000002</td>\n",
       "      <td>1.0</td>\n",
       "      <td>{'0': 0.0, '1': 0.0, '2': 0.0, '3': 0.0, '4': ...</td>\n",
       "    </tr>\n",
       "  </tbody>\n",
       "</table>\n",
       "</div>"
      ],
      "text/plain": [
       "       QID  dCR     pCR     Prior  Posterior   \n",
       "0  ['UID']  1.0  451200  0.000002        1.0  \\\n",
       "\n",
       "                                           Histogram  \n",
       "0  {'0': 0.0, '1': 0.0, '2': 0.0, '3': 0.0, '4': ...  "
      ]
     },
     "metadata": {},
     "output_type": "display_data"
    },
    {
     "data": {
      "text/html": [
       "<div>\n",
       "<style scoped>\n",
       "    .dataframe tbody tr th:only-of-type {\n",
       "        vertical-align: middle;\n",
       "    }\n",
       "\n",
       "    .dataframe tbody tr th {\n",
       "        vertical-align: top;\n",
       "    }\n",
       "\n",
       "    .dataframe thead th {\n",
       "        text-align: right;\n",
       "    }\n",
       "</style>\n",
       "<table border=\"1\" class=\"dataframe\">\n",
       "  <thead>\n",
       "    <tr style=\"text-align: right;\">\n",
       "      <th></th>\n",
       "      <th>QID</th>\n",
       "      <th>Sensitive</th>\n",
       "      <th>dCA</th>\n",
       "      <th>pCA</th>\n",
       "      <th>Prior</th>\n",
       "      <th>Posterior</th>\n",
       "      <th>Histogram</th>\n",
       "    </tr>\n",
       "  </thead>\n",
       "  <tbody>\n",
       "    <tr>\n",
       "      <th>0</th>\n",
       "      <td>['UID']</td>\n",
       "      <td>BrowsingHistory</td>\n",
       "      <td>0.0</td>\n",
       "      <td>451200.0</td>\n",
       "      <td>0.000002</td>\n",
       "      <td>1.0</td>\n",
       "      <td>{'0': 0.0, '1': 0.0, '2': 0.0, '3': 0.0, '4': ...</td>\n",
       "    </tr>\n",
       "  </tbody>\n",
       "</table>\n",
       "</div>"
      ],
      "text/plain": [
       "       QID        Sensitive  dCA       pCA     Prior  Posterior   \n",
       "0  ['UID']  BrowsingHistory  0.0  451200.0  0.000002        1.0  \\\n",
       "\n",
       "                                           Histogram  \n",
       "0  {'0': 0.0, '1': 0.0, '2': 0.0, '3': 0.0, '4': ...  "
      ]
     },
     "metadata": {},
     "output_type": "display_data"
    }
   ],
   "source": [
    "display(results['re_id'], results['att_inf'])"
   ]
  },
  {
   "cell_type": "code",
   "execution_count": 27,
   "id": "c68195b8",
   "metadata": {},
   "outputs": [
    {
     "data": {
      "text/plain": [
       "2.2163120567375886e-06"
      ]
     },
     "metadata": {},
     "output_type": "display_data"
    },
    {
     "data": {
      "text/plain": [
       "2.2163120567375886e-06"
      ]
     },
     "metadata": {},
     "output_type": "display_data"
    }
   ],
   "source": [
    "display(results['re_id']['Prior'][0], results['att_inf']['Prior'][0])"
   ]
  },
  {
   "cell_type": "code",
   "execution_count": 28,
   "id": "da000a1e",
   "metadata": {},
   "outputs": [
    {
     "data": {
      "text/plain": [
       "1.0"
      ]
     },
     "metadata": {},
     "output_type": "display_data"
    },
    {
     "data": {
      "text/plain": [
       "1.0"
      ]
     },
     "metadata": {},
     "output_type": "display_data"
    }
   ],
   "source": [
    "display(results['re_id']['Posterior'][0], results['att_inf']['Posterior'][0])"
   ]
  },
  {
   "cell_type": "code",
   "execution_count": 29,
   "id": "066373dc",
   "metadata": {},
   "outputs": [
    {
     "data": {
      "text/plain": [
       "451200.0"
      ]
     },
     "metadata": {},
     "output_type": "display_data"
    },
    {
     "data": {
      "text/plain": [
       "451200.0"
      ]
     },
     "metadata": {},
     "output_type": "display_data"
    }
   ],
   "source": [
    "display(results['re_id']['Posterior'][0]/results['re_id']['Prior'][0], results['att_inf']['Posterior'][0]/results['att_inf']['Prior'][0])"
   ]
  }
 ],
 "metadata": {
  "kernelspec": {
   "display_name": "Python 3 (ipykernel)",
   "language": "python",
   "name": "python3"
  },
  "language_info": {
   "codemirror_mode": {
    "name": "ipython",
    "version": 3
   },
   "file_extension": ".py",
   "mimetype": "text/x-python",
   "name": "python",
   "nbconvert_exporter": "python",
   "pygments_lexer": "ipython3",
   "version": "3.11.8"
  }
 },
 "nbformat": 4,
 "nbformat_minor": 5
}
