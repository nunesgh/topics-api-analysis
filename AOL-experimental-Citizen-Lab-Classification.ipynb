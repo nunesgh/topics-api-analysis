{
 "cells": [
  {
   "cell_type": "markdown",
   "id": "0caecbc0",
   "metadata": {},
   "source": [
    "# AOL Experimental Dataset (Citizen Lab)"
   ]
  },
  {
   "cell_type": "code",
   "execution_count": 1,
   "id": "aae8cfae",
   "metadata": {},
   "outputs": [],
   "source": [
    "import pandas, random"
   ]
  },
  {
   "cell_type": "markdown",
   "id": "3b2ae01d",
   "metadata": {},
   "source": [
    "## AOL reduced dataset with Citizen Lab Classification"
   ]
  },
  {
   "cell_type": "code",
   "execution_count": 2,
   "id": "ea5014a6",
   "metadata": {},
   "outputs": [
    {
     "name": "stdout",
     "output_type": "stream",
     "text": [
      "CPU times: user 5.71 s, sys: 382 ms, total: 6.09 s\n",
      "Wall time: 6.1 s\n"
     ]
    }
   ],
   "source": [
    "%%time\n",
    "aol_reduced_citizen_lab = pandas.read_csv('AOL-reduced-Citizen-Lab-Classification.csv', low_memory=False, on_bad_lines='warn', index_col=0)"
   ]
  },
  {
   "cell_type": "code",
   "execution_count": 3,
   "id": "46aebc25",
   "metadata": {},
   "outputs": [
    {
     "name": "stdout",
     "output_type": "stream",
     "text": [
      "CPU times: user 2.28 s, sys: 2.11 ms, total: 2.29 s\n",
      "Wall time: 2.27 s\n"
     ]
    }
   ],
   "source": [
    "%%time\n",
    "aol_reduced_citizen_lab['QueryTime'] = pandas.to_datetime(aol_reduced_citizen_lab['QueryTime'])"
   ]
  },
  {
   "cell_type": "code",
   "execution_count": 4,
   "id": "140745ba",
   "metadata": {},
   "outputs": [
    {
     "data": {
      "text/html": [
       "<div>\n",
       "<style scoped>\n",
       "    .dataframe tbody tr th:only-of-type {\n",
       "        vertical-align: middle;\n",
       "    }\n",
       "\n",
       "    .dataframe tbody tr th {\n",
       "        vertical-align: top;\n",
       "    }\n",
       "\n",
       "    .dataframe thead th {\n",
       "        text-align: right;\n",
       "    }\n",
       "</style>\n",
       "<table border=\"1\" class=\"dataframe\">\n",
       "  <thead>\n",
       "    <tr style=\"text-align: right;\">\n",
       "      <th></th>\n",
       "      <th>RandID</th>\n",
       "      <th>QueryTime</th>\n",
       "      <th>Domain</th>\n",
       "      <th>topics</th>\n",
       "    </tr>\n",
       "  </thead>\n",
       "  <tbody>\n",
       "    <tr>\n",
       "      <th>0</th>\n",
       "      <td>0</td>\n",
       "      <td>2006-04-20 17:37:26</td>\n",
       "      <td>imdb.com</td>\n",
       "      <td>'CULTR'</td>\n",
       "    </tr>\n",
       "    <tr>\n",
       "      <th>1</th>\n",
       "      <td>13</td>\n",
       "      <td>2006-03-10 11:51:57</td>\n",
       "      <td>imdb.com</td>\n",
       "      <td>'CULTR'</td>\n",
       "    </tr>\n",
       "    <tr>\n",
       "      <th>2</th>\n",
       "      <td>13</td>\n",
       "      <td>2006-03-25 05:10:47</td>\n",
       "      <td>imdb.com</td>\n",
       "      <td>'CULTR'</td>\n",
       "    </tr>\n",
       "    <tr>\n",
       "      <th>3</th>\n",
       "      <td>20</td>\n",
       "      <td>2006-04-07 21:13:02</td>\n",
       "      <td>imdb.com</td>\n",
       "      <td>'CULTR'</td>\n",
       "    </tr>\n",
       "    <tr>\n",
       "      <th>4</th>\n",
       "      <td>21</td>\n",
       "      <td>2006-05-15 21:18:53</td>\n",
       "      <td>imdb.com</td>\n",
       "      <td>'CULTR'</td>\n",
       "    </tr>\n",
       "    <tr>\n",
       "      <th>...</th>\n",
       "      <td>...</td>\n",
       "      <td>...</td>\n",
       "      <td>...</td>\n",
       "      <td>...</td>\n",
       "    </tr>\n",
       "    <tr>\n",
       "      <th>3128280</th>\n",
       "      <td>519201</td>\n",
       "      <td>2006-03-21 18:18:21</td>\n",
       "      <td>eloccidental.com.mx</td>\n",
       "      <td>'NEWS'</td>\n",
       "    </tr>\n",
       "    <tr>\n",
       "      <th>3128281</th>\n",
       "      <td>520267</td>\n",
       "      <td>2006-03-26 18:55:26</td>\n",
       "      <td>chuavietnam.com</td>\n",
       "      <td>'REL'</td>\n",
       "    </tr>\n",
       "    <tr>\n",
       "      <th>3128282</th>\n",
       "      <td>520460</td>\n",
       "      <td>2006-05-10 00:35:54</td>\n",
       "      <td>onlybingo.com</td>\n",
       "      <td>'GMB'</td>\n",
       "    </tr>\n",
       "    <tr>\n",
       "      <th>3128283</th>\n",
       "      <td>521343</td>\n",
       "      <td>2006-04-04 02:56:55</td>\n",
       "      <td>republika.co.id</td>\n",
       "      <td>'NEWS'</td>\n",
       "    </tr>\n",
       "    <tr>\n",
       "      <th>3128284</th>\n",
       "      <td>521689</td>\n",
       "      <td>2006-03-10 02:11:26</td>\n",
       "      <td>khayma.com</td>\n",
       "      <td>'DATE', 'CULTR'</td>\n",
       "    </tr>\n",
       "  </tbody>\n",
       "</table>\n",
       "<p>3128285 rows × 4 columns</p>\n",
       "</div>"
      ],
      "text/plain": [
       "         RandID           QueryTime               Domain           topics\n",
       "0             0 2006-04-20 17:37:26             imdb.com          'CULTR'\n",
       "1            13 2006-03-10 11:51:57             imdb.com          'CULTR'\n",
       "2            13 2006-03-25 05:10:47             imdb.com          'CULTR'\n",
       "3            20 2006-04-07 21:13:02             imdb.com          'CULTR'\n",
       "4            21 2006-05-15 21:18:53             imdb.com          'CULTR'\n",
       "...         ...                 ...                  ...              ...\n",
       "3128280  519201 2006-03-21 18:18:21  eloccidental.com.mx           'NEWS'\n",
       "3128281  520267 2006-03-26 18:55:26      chuavietnam.com            'REL'\n",
       "3128282  520460 2006-05-10 00:35:54        onlybingo.com            'GMB'\n",
       "3128283  521343 2006-04-04 02:56:55      republika.co.id           'NEWS'\n",
       "3128284  521689 2006-03-10 02:11:26           khayma.com  'DATE', 'CULTR'\n",
       "\n",
       "[3128285 rows x 4 columns]"
      ]
     },
     "metadata": {},
     "output_type": "display_data"
    }
   ],
   "source": [
    "display(aol_reduced_citizen_lab)"
   ]
  },
  {
   "cell_type": "markdown",
   "id": "614f5032",
   "metadata": {},
   "source": [
    "### Drop singletons"
   ]
  },
  {
   "cell_type": "code",
   "execution_count": 5,
   "id": "84672dd2",
   "metadata": {},
   "outputs": [
    {
     "name": "stdout",
     "output_type": "stream",
     "text": [
      "CPU times: user 1.32 s, sys: 34.7 ms, total: 1.36 s\n",
      "Wall time: 1.38 s\n"
     ]
    }
   ],
   "source": [
    "%%time\n",
    "singletons = (aol_reduced_citizen_lab[['RandID','Domain']].groupby('RandID').count() == 1).index[(aol_reduced_citizen_lab[['RandID','Domain']].groupby('RandID').count() == 1)['Domain'].to_list()]"
   ]
  },
  {
   "cell_type": "code",
   "execution_count": 6,
   "id": "64c944b9",
   "metadata": {},
   "outputs": [
    {
     "name": "stdout",
     "output_type": "stream",
     "text": [
      "CPU times: user 9min, sys: 154 ms, total: 9min\n",
      "Wall time: 9min\n"
     ]
    }
   ],
   "source": [
    "%%time\n",
    "rows_to_drop = []\n",
    "for i in singletons:\n",
    "    rows_to_drop.append(aol_reduced_citizen_lab[aol_reduced_citizen_lab['RandID'] == i].index.to_list()[0])"
   ]
  },
  {
   "cell_type": "code",
   "execution_count": 7,
   "id": "42a5cdd5",
   "metadata": {},
   "outputs": [
    {
     "data": {
      "text/plain": [
       "93659"
      ]
     },
     "metadata": {},
     "output_type": "display_data"
    }
   ],
   "source": [
    "display(len(rows_to_drop))"
   ]
  },
  {
   "cell_type": "code",
   "execution_count": 8,
   "id": "6387cca8",
   "metadata": {},
   "outputs": [],
   "source": [
    "aol_reduced_citizen_lab = aol_reduced_citizen_lab.drop(rows_to_drop)"
   ]
  },
  {
   "cell_type": "code",
   "execution_count": 9,
   "id": "7bc8ec1b",
   "metadata": {},
   "outputs": [],
   "source": [
    "aol_reduced_citizen_lab = aol_reduced_citizen_lab.reset_index(drop=True)"
   ]
  },
  {
   "cell_type": "code",
   "execution_count": 10,
   "id": "bad36684",
   "metadata": {},
   "outputs": [
    {
     "data": {
      "text/html": [
       "<div>\n",
       "<style scoped>\n",
       "    .dataframe tbody tr th:only-of-type {\n",
       "        vertical-align: middle;\n",
       "    }\n",
       "\n",
       "    .dataframe tbody tr th {\n",
       "        vertical-align: top;\n",
       "    }\n",
       "\n",
       "    .dataframe thead th {\n",
       "        text-align: right;\n",
       "    }\n",
       "</style>\n",
       "<table border=\"1\" class=\"dataframe\">\n",
       "  <thead>\n",
       "    <tr style=\"text-align: right;\">\n",
       "      <th></th>\n",
       "      <th>RandID</th>\n",
       "      <th>QueryTime</th>\n",
       "      <th>Domain</th>\n",
       "      <th>topics</th>\n",
       "    </tr>\n",
       "  </thead>\n",
       "  <tbody>\n",
       "    <tr>\n",
       "      <th>0</th>\n",
       "      <td>0</td>\n",
       "      <td>2006-04-20 17:37:26</td>\n",
       "      <td>imdb.com</td>\n",
       "      <td>'CULTR'</td>\n",
       "    </tr>\n",
       "    <tr>\n",
       "      <th>1</th>\n",
       "      <td>13</td>\n",
       "      <td>2006-03-10 11:51:57</td>\n",
       "      <td>imdb.com</td>\n",
       "      <td>'CULTR'</td>\n",
       "    </tr>\n",
       "    <tr>\n",
       "      <th>2</th>\n",
       "      <td>13</td>\n",
       "      <td>2006-03-25 05:10:47</td>\n",
       "      <td>imdb.com</td>\n",
       "      <td>'CULTR'</td>\n",
       "    </tr>\n",
       "    <tr>\n",
       "      <th>3</th>\n",
       "      <td>20</td>\n",
       "      <td>2006-04-07 21:13:02</td>\n",
       "      <td>imdb.com</td>\n",
       "      <td>'CULTR'</td>\n",
       "    </tr>\n",
       "    <tr>\n",
       "      <th>4</th>\n",
       "      <td>21</td>\n",
       "      <td>2006-05-15 21:18:53</td>\n",
       "      <td>imdb.com</td>\n",
       "      <td>'CULTR'</td>\n",
       "    </tr>\n",
       "    <tr>\n",
       "      <th>...</th>\n",
       "      <td>...</td>\n",
       "      <td>...</td>\n",
       "      <td>...</td>\n",
       "      <td>...</td>\n",
       "    </tr>\n",
       "    <tr>\n",
       "      <th>3034621</th>\n",
       "      <td>519201</td>\n",
       "      <td>2006-03-21 18:18:21</td>\n",
       "      <td>eloccidental.com.mx</td>\n",
       "      <td>'NEWS'</td>\n",
       "    </tr>\n",
       "    <tr>\n",
       "      <th>3034622</th>\n",
       "      <td>520267</td>\n",
       "      <td>2006-03-26 18:55:26</td>\n",
       "      <td>chuavietnam.com</td>\n",
       "      <td>'REL'</td>\n",
       "    </tr>\n",
       "    <tr>\n",
       "      <th>3034623</th>\n",
       "      <td>520460</td>\n",
       "      <td>2006-05-10 00:35:54</td>\n",
       "      <td>onlybingo.com</td>\n",
       "      <td>'GMB'</td>\n",
       "    </tr>\n",
       "    <tr>\n",
       "      <th>3034624</th>\n",
       "      <td>521343</td>\n",
       "      <td>2006-04-04 02:56:55</td>\n",
       "      <td>republika.co.id</td>\n",
       "      <td>'NEWS'</td>\n",
       "    </tr>\n",
       "    <tr>\n",
       "      <th>3034625</th>\n",
       "      <td>521689</td>\n",
       "      <td>2006-03-10 02:11:26</td>\n",
       "      <td>khayma.com</td>\n",
       "      <td>'DATE', 'CULTR'</td>\n",
       "    </tr>\n",
       "  </tbody>\n",
       "</table>\n",
       "<p>3034626 rows × 4 columns</p>\n",
       "</div>"
      ],
      "text/plain": [
       "         RandID           QueryTime               Domain           topics\n",
       "0             0 2006-04-20 17:37:26             imdb.com          'CULTR'\n",
       "1            13 2006-03-10 11:51:57             imdb.com          'CULTR'\n",
       "2            13 2006-03-25 05:10:47             imdb.com          'CULTR'\n",
       "3            20 2006-04-07 21:13:02             imdb.com          'CULTR'\n",
       "4            21 2006-05-15 21:18:53             imdb.com          'CULTR'\n",
       "...         ...                 ...                  ...              ...\n",
       "3034621  519201 2006-03-21 18:18:21  eloccidental.com.mx           'NEWS'\n",
       "3034622  520267 2006-03-26 18:55:26      chuavietnam.com            'REL'\n",
       "3034623  520460 2006-05-10 00:35:54        onlybingo.com            'GMB'\n",
       "3034624  521343 2006-04-04 02:56:55      republika.co.id           'NEWS'\n",
       "3034625  521689 2006-03-10 02:11:26           khayma.com  'DATE', 'CULTR'\n",
       "\n",
       "[3034626 rows x 4 columns]"
      ]
     },
     "metadata": {},
     "output_type": "display_data"
    }
   ],
   "source": [
    "display(aol_reduced_citizen_lab)"
   ]
  },
  {
   "cell_type": "markdown",
   "id": "41e5edd4",
   "metadata": {},
   "source": [
    "### Drop outlier"
   ]
  },
  {
   "cell_type": "code",
   "execution_count": 11,
   "id": "7cf16b73",
   "metadata": {},
   "outputs": [
    {
     "data": {
      "text/plain": [
       "RandID\n",
       "83937     23437\n",
       "75099      2516\n",
       "25702      1379\n",
       "43358      1167\n",
       "443325     1011\n",
       "          ...  \n",
       "63719         2\n",
       "63685         2\n",
       "63490         2\n",
       "63485         2\n",
       "133897        2\n",
       "Name: count, Length: 247987, dtype: int64"
      ]
     },
     "metadata": {},
     "output_type": "display_data"
    },
    {
     "name": "stdout",
     "output_type": "stream",
     "text": [
      "CPU times: user 149 ms, sys: 8 ms, total: 157 ms\n",
      "Wall time: 181 ms\n"
     ]
    }
   ],
   "source": [
    "%%time\n",
    "display(aol_reduced_citizen_lab['RandID'].value_counts())"
   ]
  },
  {
   "cell_type": "code",
   "execution_count": 12,
   "id": "2caa52a9",
   "metadata": {},
   "outputs": [],
   "source": [
    "aol_reduced_citizen_lab = aol_reduced_citizen_lab.drop(aol_reduced_citizen_lab[aol_reduced_citizen_lab['RandID'] == 83937].index.to_list())"
   ]
  },
  {
   "cell_type": "code",
   "execution_count": 13,
   "id": "f7f2425c",
   "metadata": {},
   "outputs": [],
   "source": [
    "aol_reduced_citizen_lab = aol_reduced_citizen_lab.reset_index(drop=True)"
   ]
  },
  {
   "cell_type": "code",
   "execution_count": 14,
   "id": "65684a0a",
   "metadata": {},
   "outputs": [
    {
     "data": {
      "text/html": [
       "<div>\n",
       "<style scoped>\n",
       "    .dataframe tbody tr th:only-of-type {\n",
       "        vertical-align: middle;\n",
       "    }\n",
       "\n",
       "    .dataframe tbody tr th {\n",
       "        vertical-align: top;\n",
       "    }\n",
       "\n",
       "    .dataframe thead th {\n",
       "        text-align: right;\n",
       "    }\n",
       "</style>\n",
       "<table border=\"1\" class=\"dataframe\">\n",
       "  <thead>\n",
       "    <tr style=\"text-align: right;\">\n",
       "      <th></th>\n",
       "      <th>RandID</th>\n",
       "      <th>QueryTime</th>\n",
       "      <th>Domain</th>\n",
       "      <th>topics</th>\n",
       "    </tr>\n",
       "  </thead>\n",
       "  <tbody>\n",
       "    <tr>\n",
       "      <th>0</th>\n",
       "      <td>0</td>\n",
       "      <td>2006-04-20 17:37:26</td>\n",
       "      <td>imdb.com</td>\n",
       "      <td>'CULTR'</td>\n",
       "    </tr>\n",
       "    <tr>\n",
       "      <th>1</th>\n",
       "      <td>13</td>\n",
       "      <td>2006-03-10 11:51:57</td>\n",
       "      <td>imdb.com</td>\n",
       "      <td>'CULTR'</td>\n",
       "    </tr>\n",
       "    <tr>\n",
       "      <th>2</th>\n",
       "      <td>13</td>\n",
       "      <td>2006-03-25 05:10:47</td>\n",
       "      <td>imdb.com</td>\n",
       "      <td>'CULTR'</td>\n",
       "    </tr>\n",
       "    <tr>\n",
       "      <th>3</th>\n",
       "      <td>20</td>\n",
       "      <td>2006-04-07 21:13:02</td>\n",
       "      <td>imdb.com</td>\n",
       "      <td>'CULTR'</td>\n",
       "    </tr>\n",
       "    <tr>\n",
       "      <th>4</th>\n",
       "      <td>21</td>\n",
       "      <td>2006-05-15 21:18:53</td>\n",
       "      <td>imdb.com</td>\n",
       "      <td>'CULTR'</td>\n",
       "    </tr>\n",
       "    <tr>\n",
       "      <th>...</th>\n",
       "      <td>...</td>\n",
       "      <td>...</td>\n",
       "      <td>...</td>\n",
       "      <td>...</td>\n",
       "    </tr>\n",
       "    <tr>\n",
       "      <th>3011184</th>\n",
       "      <td>519201</td>\n",
       "      <td>2006-03-21 18:18:21</td>\n",
       "      <td>eloccidental.com.mx</td>\n",
       "      <td>'NEWS'</td>\n",
       "    </tr>\n",
       "    <tr>\n",
       "      <th>3011185</th>\n",
       "      <td>520267</td>\n",
       "      <td>2006-03-26 18:55:26</td>\n",
       "      <td>chuavietnam.com</td>\n",
       "      <td>'REL'</td>\n",
       "    </tr>\n",
       "    <tr>\n",
       "      <th>3011186</th>\n",
       "      <td>520460</td>\n",
       "      <td>2006-05-10 00:35:54</td>\n",
       "      <td>onlybingo.com</td>\n",
       "      <td>'GMB'</td>\n",
       "    </tr>\n",
       "    <tr>\n",
       "      <th>3011187</th>\n",
       "      <td>521343</td>\n",
       "      <td>2006-04-04 02:56:55</td>\n",
       "      <td>republika.co.id</td>\n",
       "      <td>'NEWS'</td>\n",
       "    </tr>\n",
       "    <tr>\n",
       "      <th>3011188</th>\n",
       "      <td>521689</td>\n",
       "      <td>2006-03-10 02:11:26</td>\n",
       "      <td>khayma.com</td>\n",
       "      <td>'DATE', 'CULTR'</td>\n",
       "    </tr>\n",
       "  </tbody>\n",
       "</table>\n",
       "<p>3011189 rows × 4 columns</p>\n",
       "</div>"
      ],
      "text/plain": [
       "         RandID           QueryTime               Domain           topics\n",
       "0             0 2006-04-20 17:37:26             imdb.com          'CULTR'\n",
       "1            13 2006-03-10 11:51:57             imdb.com          'CULTR'\n",
       "2            13 2006-03-25 05:10:47             imdb.com          'CULTR'\n",
       "3            20 2006-04-07 21:13:02             imdb.com          'CULTR'\n",
       "4            21 2006-05-15 21:18:53             imdb.com          'CULTR'\n",
       "...         ...                 ...                  ...              ...\n",
       "3011184  519201 2006-03-21 18:18:21  eloccidental.com.mx           'NEWS'\n",
       "3011185  520267 2006-03-26 18:55:26      chuavietnam.com            'REL'\n",
       "3011186  520460 2006-05-10 00:35:54        onlybingo.com            'GMB'\n",
       "3011187  521343 2006-04-04 02:56:55      republika.co.id           'NEWS'\n",
       "3011188  521689 2006-03-10 02:11:26           khayma.com  'DATE', 'CULTR'\n",
       "\n",
       "[3011189 rows x 4 columns]"
      ]
     },
     "metadata": {},
     "output_type": "display_data"
    }
   ],
   "source": [
    "display(aol_reduced_citizen_lab)"
   ]
  },
  {
   "cell_type": "markdown",
   "id": "cd78d1e3",
   "metadata": {},
   "source": [
    "### Define browsing histories and lists of topics"
   ]
  },
  {
   "cell_type": "code",
   "execution_count": 15,
   "id": "ff944d52",
   "metadata": {},
   "outputs": [
    {
     "name": "stdout",
     "output_type": "stream",
     "text": [
      "CPU times: user 5min 9s, sys: 5.6 s, total: 5min 14s\n",
      "Wall time: 5min 11s\n"
     ]
    }
   ],
   "source": [
    "%%time\n",
    "d = {'RandID': [], 'BrowsingHistory': [], 'AllTopics': []}\n",
    "for k, v in aol_reduced_citizen_lab.groupby('RandID').__iter__():\n",
    "    temp_history = []\n",
    "    temp_topics = []\n",
    "    for tup in v.itertuples():\n",
    "        temp_history.append(tuple([tup.Domain, tup.QueryTime]))\n",
    "        temp_topics.extend(tup.topics.replace(\" \", \"\").split(\",\"))\n",
    "    d['BrowsingHistory'].append(str(temp_history))\n",
    "    d['AllTopics'].append(temp_topics)\n",
    "    d['RandID'].append(k)"
   ]
  },
  {
   "cell_type": "code",
   "execution_count": 16,
   "id": "3ea9dffd",
   "metadata": {},
   "outputs": [
    {
     "data": {
      "text/plain": [
       "31"
      ]
     },
     "metadata": {},
     "output_type": "display_data"
    },
    {
     "name": "stdout",
     "output_type": "stream",
     "text": [
      "CPU times: user 1.42 s, sys: 28.1 ms, total: 1.44 s\n",
      "Wall time: 1.46 s\n"
     ]
    }
   ],
   "source": [
    "%%time\n",
    "aol_reduced_citizen_lab_seen_topics = []\n",
    "for case in d['AllTopics']:\n",
    "    aol_reduced_citizen_lab_seen_topics.extend(case)\n",
    "aol_reduced_citizen_lab_seen_topics = list(set(aol_reduced_citizen_lab_seen_topics))\n",
    "display(len(aol_reduced_citizen_lab_seen_topics))"
   ]
  },
  {
   "cell_type": "code",
   "execution_count": 17,
   "id": "464e0698",
   "metadata": {},
   "outputs": [],
   "source": [
    "aol_reduced_citizen_lab_generalization = pandas.DataFrame(data=d, columns=['RandID', 'BrowsingHistory', 'AllTopics'])"
   ]
  },
  {
   "cell_type": "code",
   "execution_count": 18,
   "id": "e38eacc9",
   "metadata": {
    "scrolled": false
   },
   "outputs": [
    {
     "data": {
      "text/html": [
       "<div>\n",
       "<style scoped>\n",
       "    .dataframe tbody tr th:only-of-type {\n",
       "        vertical-align: middle;\n",
       "    }\n",
       "\n",
       "    .dataframe tbody tr th {\n",
       "        vertical-align: top;\n",
       "    }\n",
       "\n",
       "    .dataframe thead th {\n",
       "        text-align: right;\n",
       "    }\n",
       "</style>\n",
       "<table border=\"1\" class=\"dataframe\">\n",
       "  <thead>\n",
       "    <tr style=\"text-align: right;\">\n",
       "      <th></th>\n",
       "      <th>RandID</th>\n",
       "      <th>BrowsingHistory</th>\n",
       "      <th>AllTopics</th>\n",
       "    </tr>\n",
       "  </thead>\n",
       "  <tbody>\n",
       "    <tr>\n",
       "      <th>0</th>\n",
       "      <td>0</td>\n",
       "      <td>[('imdb.com', Timestamp('2006-04-20 17:37:26')...</td>\n",
       "      <td>['CULTR', 'CULTR', 'GOVT', 'POLR', 'SRCH', 'CO...</td>\n",
       "    </tr>\n",
       "    <tr>\n",
       "      <th>1</th>\n",
       "      <td>3</td>\n",
       "      <td>[('myspace.com', Timestamp('2006-05-20 00:35:5...</td>\n",
       "      <td>['GRP', 'HOST', 'CULTR', 'COMM', 'COMM', 'ALDR']</td>\n",
       "    </tr>\n",
       "    <tr>\n",
       "      <th>2</th>\n",
       "      <td>4</td>\n",
       "      <td>[('microsoft.com', Timestamp('2006-03-29 22:32...</td>\n",
       "      <td>['COMT', 'FILE', 'COMM', 'COMT', 'FILE', 'COMM']</td>\n",
       "    </tr>\n",
       "    <tr>\n",
       "      <th>3</th>\n",
       "      <td>10</td>\n",
       "      <td>[('wikipedia.org', Timestamp('2006-03-06 21:22...</td>\n",
       "      <td>['CULTR', 'HUMR', 'POLR', 'SRCH', 'PUBH', 'MIL...</td>\n",
       "    </tr>\n",
       "    <tr>\n",
       "      <th>4</th>\n",
       "      <td>12</td>\n",
       "      <td>[('yahoo.com', Timestamp('2006-04-19 17:14:24'...</td>\n",
       "      <td>['CULTR', 'GOVT', 'POLR', 'SRCH', 'COMT', 'COM...</td>\n",
       "    </tr>\n",
       "    <tr>\n",
       "      <th>...</th>\n",
       "      <td>...</td>\n",
       "      <td>...</td>\n",
       "      <td>...</td>\n",
       "    </tr>\n",
       "    <tr>\n",
       "      <th>247981</th>\n",
       "      <td>521683</td>\n",
       "      <td>[('wellsfargo.com', Timestamp('2006-05-05 19:4...</td>\n",
       "      <td>['COMM', 'COMT', 'GRP', 'SRCH', 'NEWS']</td>\n",
       "    </tr>\n",
       "    <tr>\n",
       "      <th>247982</th>\n",
       "      <td>521685</td>\n",
       "      <td>[('bbc.co.uk', Timestamp('2006-03-15 10:43:00'...</td>\n",
       "      <td>['POLR', 'MILX', 'HUMR', 'NEWS', 'CULTR', 'CUL...</td>\n",
       "    </tr>\n",
       "    <tr>\n",
       "      <th>247983</th>\n",
       "      <td>521686</td>\n",
       "      <td>[('yahoo.com', Timestamp('2006-03-09 18:44:13'...</td>\n",
       "      <td>['CULTR', 'GOVT', 'POLR', 'SRCH', 'COMT', 'COM...</td>\n",
       "    </tr>\n",
       "    <tr>\n",
       "      <th>247984</th>\n",
       "      <td>521689</td>\n",
       "      <td>[('imdb.com', Timestamp('2006-03-29 00:35:14')...</td>\n",
       "      <td>['CULTR', 'CULTR', 'HUMR', 'POLR', 'SRCH', 'PU...</td>\n",
       "    </tr>\n",
       "    <tr>\n",
       "      <th>247985</th>\n",
       "      <td>521691</td>\n",
       "      <td>[('imdb.com', Timestamp('2006-03-15 15:01:34')...</td>\n",
       "      <td>['CULTR', 'CULTR', 'CULTR', 'CULTR', 'CULTR', ...</td>\n",
       "    </tr>\n",
       "  </tbody>\n",
       "</table>\n",
       "<p>247986 rows × 3 columns</p>\n",
       "</div>"
      ],
      "text/plain": [
       "        RandID                                    BrowsingHistory   \n",
       "0            0  [('imdb.com', Timestamp('2006-04-20 17:37:26')...  \\\n",
       "1            3  [('myspace.com', Timestamp('2006-05-20 00:35:5...   \n",
       "2            4  [('microsoft.com', Timestamp('2006-03-29 22:32...   \n",
       "3           10  [('wikipedia.org', Timestamp('2006-03-06 21:22...   \n",
       "4           12  [('yahoo.com', Timestamp('2006-04-19 17:14:24'...   \n",
       "...        ...                                                ...   \n",
       "247981  521683  [('wellsfargo.com', Timestamp('2006-05-05 19:4...   \n",
       "247982  521685  [('bbc.co.uk', Timestamp('2006-03-15 10:43:00'...   \n",
       "247983  521686  [('yahoo.com', Timestamp('2006-03-09 18:44:13'...   \n",
       "247984  521689  [('imdb.com', Timestamp('2006-03-29 00:35:14')...   \n",
       "247985  521691  [('imdb.com', Timestamp('2006-03-15 15:01:34')...   \n",
       "\n",
       "                                                AllTopics  \n",
       "0       ['CULTR', 'CULTR', 'GOVT', 'POLR', 'SRCH', 'CO...  \n",
       "1        ['GRP', 'HOST', 'CULTR', 'COMM', 'COMM', 'ALDR']  \n",
       "2        ['COMT', 'FILE', 'COMM', 'COMT', 'FILE', 'COMM']  \n",
       "3       ['CULTR', 'HUMR', 'POLR', 'SRCH', 'PUBH', 'MIL...  \n",
       "4       ['CULTR', 'GOVT', 'POLR', 'SRCH', 'COMT', 'COM...  \n",
       "...                                                   ...  \n",
       "247981            ['COMM', 'COMT', 'GRP', 'SRCH', 'NEWS']  \n",
       "247982  ['POLR', 'MILX', 'HUMR', 'NEWS', 'CULTR', 'CUL...  \n",
       "247983  ['CULTR', 'GOVT', 'POLR', 'SRCH', 'COMT', 'COM...  \n",
       "247984  ['CULTR', 'CULTR', 'HUMR', 'POLR', 'SRCH', 'PU...  \n",
       "247985  ['CULTR', 'CULTR', 'CULTR', 'CULTR', 'CULTR', ...  \n",
       "\n",
       "[247986 rows x 3 columns]"
      ]
     },
     "metadata": {},
     "output_type": "display_data"
    }
   ],
   "source": [
    "display(aol_reduced_citizen_lab_generalization)"
   ]
  },
  {
   "cell_type": "code",
   "execution_count": 19,
   "id": "f8d4ee6b",
   "metadata": {},
   "outputs": [],
   "source": [
    "aol_reduced_citizen_lab_generalization['TopicsSet'] = aol_reduced_citizen_lab_generalization['AllTopics']"
   ]
  },
  {
   "cell_type": "code",
   "execution_count": 20,
   "id": "fdd09fce",
   "metadata": {},
   "outputs": [
    {
     "name": "stdout",
     "output_type": "stream",
     "text": [
      "CPU times: user 38.1 s, sys: 192 ms, total: 38.3 s\n",
      "Wall time: 38.4 s\n"
     ]
    }
   ],
   "source": [
    "%%time\n",
    "for row in aol_reduced_citizen_lab_generalization.itertuples():\n",
    "    aol_reduced_citizen_lab_generalization.at[row.Index, 'TopicsSet'] = sorted(set(aol_reduced_citizen_lab_generalization.at[row.Index, 'TopicsSet']))"
   ]
  },
  {
   "cell_type": "code",
   "execution_count": 21,
   "id": "5c8525f7",
   "metadata": {
    "scrolled": false
   },
   "outputs": [
    {
     "data": {
      "text/html": [
       "<div>\n",
       "<style scoped>\n",
       "    .dataframe tbody tr th:only-of-type {\n",
       "        vertical-align: middle;\n",
       "    }\n",
       "\n",
       "    .dataframe tbody tr th {\n",
       "        vertical-align: top;\n",
       "    }\n",
       "\n",
       "    .dataframe thead th {\n",
       "        text-align: right;\n",
       "    }\n",
       "</style>\n",
       "<table border=\"1\" class=\"dataframe\">\n",
       "  <thead>\n",
       "    <tr style=\"text-align: right;\">\n",
       "      <th></th>\n",
       "      <th>RandID</th>\n",
       "      <th>BrowsingHistory</th>\n",
       "      <th>AllTopics</th>\n",
       "      <th>TopicsSet</th>\n",
       "    </tr>\n",
       "  </thead>\n",
       "  <tbody>\n",
       "    <tr>\n",
       "      <th>0</th>\n",
       "      <td>0</td>\n",
       "      <td>[('imdb.com', Timestamp('2006-04-20 17:37:26')...</td>\n",
       "      <td>['CULTR', 'CULTR', 'GOVT', 'POLR', 'SRCH', 'CO...</td>\n",
       "      <td>['COMM', 'COMT', 'CULTR', 'GOVT', 'NEWS', 'POL...</td>\n",
       "    </tr>\n",
       "    <tr>\n",
       "      <th>1</th>\n",
       "      <td>3</td>\n",
       "      <td>[('myspace.com', Timestamp('2006-05-20 00:35:5...</td>\n",
       "      <td>['GRP', 'HOST', 'CULTR', 'COMM', 'COMM', 'ALDR']</td>\n",
       "      <td>['ALDR', 'COMM', 'CULTR', 'GRP', 'HOST']</td>\n",
       "    </tr>\n",
       "    <tr>\n",
       "      <th>2</th>\n",
       "      <td>4</td>\n",
       "      <td>[('microsoft.com', Timestamp('2006-03-29 22:32...</td>\n",
       "      <td>['COMT', 'FILE', 'COMM', 'COMT', 'FILE', 'COMM']</td>\n",
       "      <td>['COMM', 'COMT', 'FILE']</td>\n",
       "    </tr>\n",
       "    <tr>\n",
       "      <th>3</th>\n",
       "      <td>10</td>\n",
       "      <td>[('wikipedia.org', Timestamp('2006-03-06 21:22...</td>\n",
       "      <td>['CULTR', 'HUMR', 'POLR', 'SRCH', 'PUBH', 'MIL...</td>\n",
       "      <td>['COMM', 'CULTR', 'HUMR', 'LGBT', 'MILX', 'NEW...</td>\n",
       "    </tr>\n",
       "    <tr>\n",
       "      <th>4</th>\n",
       "      <td>12</td>\n",
       "      <td>[('yahoo.com', Timestamp('2006-04-19 17:14:24'...</td>\n",
       "      <td>['CULTR', 'GOVT', 'POLR', 'SRCH', 'COMT', 'COM...</td>\n",
       "      <td>['COMM', 'COMT', 'CTRL', 'CULTR', 'DATE', 'ENV...</td>\n",
       "    </tr>\n",
       "    <tr>\n",
       "      <th>...</th>\n",
       "      <td>...</td>\n",
       "      <td>...</td>\n",
       "      <td>...</td>\n",
       "      <td>...</td>\n",
       "    </tr>\n",
       "    <tr>\n",
       "      <th>247981</th>\n",
       "      <td>521683</td>\n",
       "      <td>[('wellsfargo.com', Timestamp('2006-05-05 19:4...</td>\n",
       "      <td>['COMM', 'COMT', 'GRP', 'SRCH', 'NEWS']</td>\n",
       "      <td>['COMM', 'COMT', 'GRP', 'NEWS', 'SRCH']</td>\n",
       "    </tr>\n",
       "    <tr>\n",
       "      <th>247982</th>\n",
       "      <td>521685</td>\n",
       "      <td>[('bbc.co.uk', Timestamp('2006-03-15 10:43:00'...</td>\n",
       "      <td>['POLR', 'MILX', 'HUMR', 'NEWS', 'CULTR', 'CUL...</td>\n",
       "      <td>['CULTR', 'GAME', 'HUMR', 'MILX', 'NEWS', 'POLR']</td>\n",
       "    </tr>\n",
       "    <tr>\n",
       "      <th>247983</th>\n",
       "      <td>521686</td>\n",
       "      <td>[('yahoo.com', Timestamp('2006-03-09 18:44:13'...</td>\n",
       "      <td>['CULTR', 'GOVT', 'POLR', 'SRCH', 'COMT', 'COM...</td>\n",
       "      <td>['COMM', 'COMT', 'CTRL', 'CULTR', 'DATE', 'ENV...</td>\n",
       "    </tr>\n",
       "    <tr>\n",
       "      <th>247984</th>\n",
       "      <td>521689</td>\n",
       "      <td>[('imdb.com', Timestamp('2006-03-29 00:35:14')...</td>\n",
       "      <td>['CULTR', 'CULTR', 'HUMR', 'POLR', 'SRCH', 'PU...</td>\n",
       "      <td>['COMT', 'CTRL', 'CULTR', 'DATE', 'ENV', 'FILE...</td>\n",
       "    </tr>\n",
       "    <tr>\n",
       "      <th>247985</th>\n",
       "      <td>521691</td>\n",
       "      <td>[('imdb.com', Timestamp('2006-03-15 15:01:34')...</td>\n",
       "      <td>['CULTR', 'CULTR', 'CULTR', 'CULTR', 'CULTR', ...</td>\n",
       "      <td>['ALDR', 'ANON', 'COMM', 'COMT', 'CTRL', 'CULT...</td>\n",
       "    </tr>\n",
       "  </tbody>\n",
       "</table>\n",
       "<p>247986 rows × 4 columns</p>\n",
       "</div>"
      ],
      "text/plain": [
       "        RandID                                    BrowsingHistory   \n",
       "0            0  [('imdb.com', Timestamp('2006-04-20 17:37:26')...  \\\n",
       "1            3  [('myspace.com', Timestamp('2006-05-20 00:35:5...   \n",
       "2            4  [('microsoft.com', Timestamp('2006-03-29 22:32...   \n",
       "3           10  [('wikipedia.org', Timestamp('2006-03-06 21:22...   \n",
       "4           12  [('yahoo.com', Timestamp('2006-04-19 17:14:24'...   \n",
       "...        ...                                                ...   \n",
       "247981  521683  [('wellsfargo.com', Timestamp('2006-05-05 19:4...   \n",
       "247982  521685  [('bbc.co.uk', Timestamp('2006-03-15 10:43:00'...   \n",
       "247983  521686  [('yahoo.com', Timestamp('2006-03-09 18:44:13'...   \n",
       "247984  521689  [('imdb.com', Timestamp('2006-03-29 00:35:14')...   \n",
       "247985  521691  [('imdb.com', Timestamp('2006-03-15 15:01:34')...   \n",
       "\n",
       "                                                AllTopics   \n",
       "0       ['CULTR', 'CULTR', 'GOVT', 'POLR', 'SRCH', 'CO...  \\\n",
       "1        ['GRP', 'HOST', 'CULTR', 'COMM', 'COMM', 'ALDR']   \n",
       "2        ['COMT', 'FILE', 'COMM', 'COMT', 'FILE', 'COMM']   \n",
       "3       ['CULTR', 'HUMR', 'POLR', 'SRCH', 'PUBH', 'MIL...   \n",
       "4       ['CULTR', 'GOVT', 'POLR', 'SRCH', 'COMT', 'COM...   \n",
       "...                                                   ...   \n",
       "247981            ['COMM', 'COMT', 'GRP', 'SRCH', 'NEWS']   \n",
       "247982  ['POLR', 'MILX', 'HUMR', 'NEWS', 'CULTR', 'CUL...   \n",
       "247983  ['CULTR', 'GOVT', 'POLR', 'SRCH', 'COMT', 'COM...   \n",
       "247984  ['CULTR', 'CULTR', 'HUMR', 'POLR', 'SRCH', 'PU...   \n",
       "247985  ['CULTR', 'CULTR', 'CULTR', 'CULTR', 'CULTR', ...   \n",
       "\n",
       "                                                TopicsSet  \n",
       "0       ['COMM', 'COMT', 'CULTR', 'GOVT', 'NEWS', 'POL...  \n",
       "1                ['ALDR', 'COMM', 'CULTR', 'GRP', 'HOST']  \n",
       "2                                ['COMM', 'COMT', 'FILE']  \n",
       "3       ['COMM', 'CULTR', 'HUMR', 'LGBT', 'MILX', 'NEW...  \n",
       "4       ['COMM', 'COMT', 'CTRL', 'CULTR', 'DATE', 'ENV...  \n",
       "...                                                   ...  \n",
       "247981            ['COMM', 'COMT', 'GRP', 'NEWS', 'SRCH']  \n",
       "247982  ['CULTR', 'GAME', 'HUMR', 'MILX', 'NEWS', 'POLR']  \n",
       "247983  ['COMM', 'COMT', 'CTRL', 'CULTR', 'DATE', 'ENV...  \n",
       "247984  ['COMT', 'CTRL', 'CULTR', 'DATE', 'ENV', 'FILE...  \n",
       "247985  ['ALDR', 'ANON', 'COMM', 'COMT', 'CTRL', 'CULT...  \n",
       "\n",
       "[247986 rows x 4 columns]"
      ]
     },
     "metadata": {},
     "output_type": "display_data"
    }
   ],
   "source": [
    "display(aol_reduced_citizen_lab_generalization)"
   ]
  },
  {
   "cell_type": "code",
   "execution_count": 22,
   "id": "b494655b",
   "metadata": {},
   "outputs": [],
   "source": [
    "aol_reduced_citizen_lab_generalization['sTopics'] = aol_reduced_citizen_lab_generalization['AllTopics']"
   ]
  },
  {
   "cell_type": "code",
   "execution_count": 23,
   "id": "e8b3d454",
   "metadata": {},
   "outputs": [
    {
     "name": "stdout",
     "output_type": "stream",
     "text": [
      "CPU times: user 23.9 s, sys: 164 ms, total: 24 s\n",
      "Wall time: 24.1 s\n"
     ]
    }
   ],
   "source": [
    "%%time\n",
    "random.SystemRandom()\n",
    "S = 5\n",
    "\n",
    "aol_reduced_citizen_lab_topics_by_users = {i : {t : 0 for t in aol_reduced_citizen_lab_seen_topics} for i in aol_reduced_citizen_lab_generalization['RandID'].unique()}\n",
    "\n",
    "for row in aol_reduced_citizen_lab_generalization.itertuples():\n",
    "    for topic in row.AllTopics:\n",
    "        aol_reduced_citizen_lab_topics_by_users[row.RandID][topic] = aol_reduced_citizen_lab_topics_by_users[row.RandID][topic] + 1\n",
    "\n",
    "temp_top_S = {i : dict() for i in aol_reduced_citizen_lab_generalization['RandID'].unique()}\n",
    "\n",
    "for k,v in aol_reduced_citizen_lab_topics_by_users.items():\n",
    "    temp_dict = dict()\n",
    "    for t,c in v.items():\n",
    "        if c != 0:\n",
    "            temp_dict[t] = c\n",
    "    temp_dict = dict(sorted(temp_dict.items(), key=lambda item: item[1]))\n",
    "    \n",
    "    if len(temp_dict) <= S:\n",
    "        temp_set = list({t for t in aol_reduced_citizen_lab_seen_topics} - {k for k in temp_dict.keys()})\n",
    "        \n",
    "        while len(temp_dict) < S:\n",
    "            topic = random.choice(temp_set)\n",
    "            temp_set.remove(topic)\n",
    "            temp_dict[topic] = 0\n",
    "        \n",
    "        temp_top_S[k].update(dict(sorted(temp_dict.items())))\n",
    "    \n",
    "    else:\n",
    "        t,c = temp_dict.popitem()\n",
    "        max_c = c\n",
    "        final = dict()\n",
    "        temp = {t : c}\n",
    "        \n",
    "        while len(final) + len(temp) < S:\n",
    "            t,c = temp_dict.popitem()\n",
    "            max_c = max(max_c, c)\n",
    "            \n",
    "            if max_c == c:\n",
    "                temp[t] = c\n",
    "            else:\n",
    "                final.update(temp)\n",
    "                temp.clear()\n",
    "                temp[t] = c\n",
    "        \n",
    "        t,c = temp_dict.popitem()\n",
    "        while (max_c == c) and (len(temp_dict) > 0):\n",
    "            temp[t] = c\n",
    "            t,c = temp_dict.popitem()\n",
    "        \n",
    "        temp_set = list({k for k in temp.keys()})\n",
    "        \n",
    "        while len(final) < S:\n",
    "            topic = random.choice(temp_set)\n",
    "            temp_set.remove(topic)\n",
    "            final[topic] = temp[topic]\n",
    "        \n",
    "        temp_top_S[k].update(dict(sorted(final.items())))"
   ]
  },
  {
   "cell_type": "code",
   "execution_count": 24,
   "id": "c01a27fb",
   "metadata": {},
   "outputs": [
    {
     "name": "stdout",
     "output_type": "stream",
     "text": [
      "CPU times: user 13.7 s, sys: 20 ms, total: 13.7 s\n",
      "Wall time: 13.8 s\n"
     ]
    }
   ],
   "source": [
    "%%time\n",
    "for row in aol_reduced_citizen_lab_generalization.itertuples():\n",
    "    aol_reduced_citizen_lab_generalization.at[row.Index, 'sTopics'] = temp_top_S[row.RandID]"
   ]
  },
  {
   "cell_type": "code",
   "execution_count": 25,
   "id": "8855e1bc",
   "metadata": {},
   "outputs": [
    {
     "data": {
      "text/html": [
       "<div>\n",
       "<style scoped>\n",
       "    .dataframe tbody tr th:only-of-type {\n",
       "        vertical-align: middle;\n",
       "    }\n",
       "\n",
       "    .dataframe tbody tr th {\n",
       "        vertical-align: top;\n",
       "    }\n",
       "\n",
       "    .dataframe thead th {\n",
       "        text-align: right;\n",
       "    }\n",
       "</style>\n",
       "<table border=\"1\" class=\"dataframe\">\n",
       "  <thead>\n",
       "    <tr style=\"text-align: right;\">\n",
       "      <th></th>\n",
       "      <th>RandID</th>\n",
       "      <th>BrowsingHistory</th>\n",
       "      <th>AllTopics</th>\n",
       "      <th>TopicsSet</th>\n",
       "      <th>sTopics</th>\n",
       "    </tr>\n",
       "  </thead>\n",
       "  <tbody>\n",
       "    <tr>\n",
       "      <th>0</th>\n",
       "      <td>0</td>\n",
       "      <td>[('imdb.com', Timestamp('2006-04-20 17:37:26')...</td>\n",
       "      <td>['CULTR', 'CULTR', 'GOVT', 'POLR', 'SRCH', 'CO...</td>\n",
       "      <td>['COMM', 'COMT', 'CULTR', 'GOVT', 'NEWS', 'POL...</td>\n",
       "      <td>{''COMM'': 4, ''CULTR'': 5, ''GOVT'': 4, ''NEW...</td>\n",
       "    </tr>\n",
       "    <tr>\n",
       "      <th>1</th>\n",
       "      <td>3</td>\n",
       "      <td>[('myspace.com', Timestamp('2006-05-20 00:35:5...</td>\n",
       "      <td>['GRP', 'HOST', 'CULTR', 'COMM', 'COMM', 'ALDR']</td>\n",
       "      <td>['ALDR', 'COMM', 'CULTR', 'GRP', 'HOST']</td>\n",
       "      <td>{''ALDR'': 1, ''COMM'': 2, ''CULTR'': 1, ''GRP...</td>\n",
       "    </tr>\n",
       "    <tr>\n",
       "      <th>2</th>\n",
       "      <td>4</td>\n",
       "      <td>[('microsoft.com', Timestamp('2006-03-29 22:32...</td>\n",
       "      <td>['COMT', 'FILE', 'COMM', 'COMT', 'FILE', 'COMM']</td>\n",
       "      <td>['COMM', 'COMT', 'FILE']</td>\n",
       "      <td>{''COMM'': 2, ''COMT'': 2, ''FILE'': 2, ''GOVT...</td>\n",
       "    </tr>\n",
       "    <tr>\n",
       "      <th>3</th>\n",
       "      <td>10</td>\n",
       "      <td>[('wikipedia.org', Timestamp('2006-03-06 21:22...</td>\n",
       "      <td>['CULTR', 'HUMR', 'POLR', 'SRCH', 'PUBH', 'MIL...</td>\n",
       "      <td>['COMM', 'CULTR', 'HUMR', 'LGBT', 'MILX', 'NEW...</td>\n",
       "      <td>{''COMM'': 2, ''CULTR'': 3, ''LGBT'': 2, ''NEW...</td>\n",
       "    </tr>\n",
       "    <tr>\n",
       "      <th>4</th>\n",
       "      <td>12</td>\n",
       "      <td>[('yahoo.com', Timestamp('2006-04-19 17:14:24'...</td>\n",
       "      <td>['CULTR', 'GOVT', 'POLR', 'SRCH', 'COMT', 'COM...</td>\n",
       "      <td>['COMM', 'COMT', 'CTRL', 'CULTR', 'DATE', 'ENV...</td>\n",
       "      <td>{''CULTR'': 17, ''GRP'': 13, ''HOST'': 16, ''N...</td>\n",
       "    </tr>\n",
       "    <tr>\n",
       "      <th>...</th>\n",
       "      <td>...</td>\n",
       "      <td>...</td>\n",
       "      <td>...</td>\n",
       "      <td>...</td>\n",
       "      <td>...</td>\n",
       "    </tr>\n",
       "    <tr>\n",
       "      <th>247981</th>\n",
       "      <td>521683</td>\n",
       "      <td>[('wellsfargo.com', Timestamp('2006-05-05 19:4...</td>\n",
       "      <td>['COMM', 'COMT', 'GRP', 'SRCH', 'NEWS']</td>\n",
       "      <td>['COMM', 'COMT', 'GRP', 'NEWS', 'SRCH']</td>\n",
       "      <td>{''COMM'': 1, ''COMT'': 1, ''GRP'': 1, ''NEWS'...</td>\n",
       "    </tr>\n",
       "    <tr>\n",
       "      <th>247982</th>\n",
       "      <td>521685</td>\n",
       "      <td>[('bbc.co.uk', Timestamp('2006-03-15 10:43:00'...</td>\n",
       "      <td>['POLR', 'MILX', 'HUMR', 'NEWS', 'CULTR', 'CUL...</td>\n",
       "      <td>['CULTR', 'GAME', 'HUMR', 'MILX', 'NEWS', 'POLR']</td>\n",
       "      <td>{''CULTR'': 2, ''HUMR'': 1, ''MILX'': 1, ''NEW...</td>\n",
       "    </tr>\n",
       "    <tr>\n",
       "      <th>247983</th>\n",
       "      <td>521686</td>\n",
       "      <td>[('yahoo.com', Timestamp('2006-03-09 18:44:13'...</td>\n",
       "      <td>['CULTR', 'GOVT', 'POLR', 'SRCH', 'COMT', 'COM...</td>\n",
       "      <td>['COMM', 'COMT', 'CTRL', 'CULTR', 'DATE', 'ENV...</td>\n",
       "      <td>{''CULTR'': 14, ''GOVT'': 14, ''NEWS'': 14, ''...</td>\n",
       "    </tr>\n",
       "    <tr>\n",
       "      <th>247984</th>\n",
       "      <td>521689</td>\n",
       "      <td>[('imdb.com', Timestamp('2006-03-29 00:35:14')...</td>\n",
       "      <td>['CULTR', 'CULTR', 'HUMR', 'POLR', 'SRCH', 'PU...</td>\n",
       "      <td>['COMT', 'CTRL', 'CULTR', 'DATE', 'ENV', 'FILE...</td>\n",
       "      <td>{''CULTR'': 5, ''DATE'': 3, ''HUMR'': 3, ''NEW...</td>\n",
       "    </tr>\n",
       "    <tr>\n",
       "      <th>247985</th>\n",
       "      <td>521691</td>\n",
       "      <td>[('imdb.com', Timestamp('2006-03-15 15:01:34')...</td>\n",
       "      <td>['CULTR', 'CULTR', 'CULTR', 'CULTR', 'CULTR', ...</td>\n",
       "      <td>['ALDR', 'ANON', 'COMM', 'COMT', 'CTRL', 'CULT...</td>\n",
       "      <td>{''COMM'': 15, ''CULTR'': 35, ''HUMR'': 23, ''...</td>\n",
       "    </tr>\n",
       "  </tbody>\n",
       "</table>\n",
       "<p>247986 rows × 5 columns</p>\n",
       "</div>"
      ],
      "text/plain": [
       "        RandID                                    BrowsingHistory   \n",
       "0            0  [('imdb.com', Timestamp('2006-04-20 17:37:26')...  \\\n",
       "1            3  [('myspace.com', Timestamp('2006-05-20 00:35:5...   \n",
       "2            4  [('microsoft.com', Timestamp('2006-03-29 22:32...   \n",
       "3           10  [('wikipedia.org', Timestamp('2006-03-06 21:22...   \n",
       "4           12  [('yahoo.com', Timestamp('2006-04-19 17:14:24'...   \n",
       "...        ...                                                ...   \n",
       "247981  521683  [('wellsfargo.com', Timestamp('2006-05-05 19:4...   \n",
       "247982  521685  [('bbc.co.uk', Timestamp('2006-03-15 10:43:00'...   \n",
       "247983  521686  [('yahoo.com', Timestamp('2006-03-09 18:44:13'...   \n",
       "247984  521689  [('imdb.com', Timestamp('2006-03-29 00:35:14')...   \n",
       "247985  521691  [('imdb.com', Timestamp('2006-03-15 15:01:34')...   \n",
       "\n",
       "                                                AllTopics   \n",
       "0       ['CULTR', 'CULTR', 'GOVT', 'POLR', 'SRCH', 'CO...  \\\n",
       "1        ['GRP', 'HOST', 'CULTR', 'COMM', 'COMM', 'ALDR']   \n",
       "2        ['COMT', 'FILE', 'COMM', 'COMT', 'FILE', 'COMM']   \n",
       "3       ['CULTR', 'HUMR', 'POLR', 'SRCH', 'PUBH', 'MIL...   \n",
       "4       ['CULTR', 'GOVT', 'POLR', 'SRCH', 'COMT', 'COM...   \n",
       "...                                                   ...   \n",
       "247981            ['COMM', 'COMT', 'GRP', 'SRCH', 'NEWS']   \n",
       "247982  ['POLR', 'MILX', 'HUMR', 'NEWS', 'CULTR', 'CUL...   \n",
       "247983  ['CULTR', 'GOVT', 'POLR', 'SRCH', 'COMT', 'COM...   \n",
       "247984  ['CULTR', 'CULTR', 'HUMR', 'POLR', 'SRCH', 'PU...   \n",
       "247985  ['CULTR', 'CULTR', 'CULTR', 'CULTR', 'CULTR', ...   \n",
       "\n",
       "                                                TopicsSet   \n",
       "0       ['COMM', 'COMT', 'CULTR', 'GOVT', 'NEWS', 'POL...  \\\n",
       "1                ['ALDR', 'COMM', 'CULTR', 'GRP', 'HOST']   \n",
       "2                                ['COMM', 'COMT', 'FILE']   \n",
       "3       ['COMM', 'CULTR', 'HUMR', 'LGBT', 'MILX', 'NEW...   \n",
       "4       ['COMM', 'COMT', 'CTRL', 'CULTR', 'DATE', 'ENV...   \n",
       "...                                                   ...   \n",
       "247981            ['COMM', 'COMT', 'GRP', 'NEWS', 'SRCH']   \n",
       "247982  ['CULTR', 'GAME', 'HUMR', 'MILX', 'NEWS', 'POLR']   \n",
       "247983  ['COMM', 'COMT', 'CTRL', 'CULTR', 'DATE', 'ENV...   \n",
       "247984  ['COMT', 'CTRL', 'CULTR', 'DATE', 'ENV', 'FILE...   \n",
       "247985  ['ALDR', 'ANON', 'COMM', 'COMT', 'CTRL', 'CULT...   \n",
       "\n",
       "                                                  sTopics  \n",
       "0       {''COMM'': 4, ''CULTR'': 5, ''GOVT'': 4, ''NEW...  \n",
       "1       {''ALDR'': 1, ''COMM'': 2, ''CULTR'': 1, ''GRP...  \n",
       "2       {''COMM'': 2, ''COMT'': 2, ''FILE'': 2, ''GOVT...  \n",
       "3       {''COMM'': 2, ''CULTR'': 3, ''LGBT'': 2, ''NEW...  \n",
       "4       {''CULTR'': 17, ''GRP'': 13, ''HOST'': 16, ''N...  \n",
       "...                                                   ...  \n",
       "247981  {''COMM'': 1, ''COMT'': 1, ''GRP'': 1, ''NEWS'...  \n",
       "247982  {''CULTR'': 2, ''HUMR'': 1, ''MILX'': 1, ''NEW...  \n",
       "247983  {''CULTR'': 14, ''GOVT'': 14, ''NEWS'': 14, ''...  \n",
       "247984  {''CULTR'': 5, ''DATE'': 3, ''HUMR'': 3, ''NEW...  \n",
       "247985  {''COMM'': 15, ''CULTR'': 35, ''HUMR'': 23, ''...  \n",
       "\n",
       "[247986 rows x 5 columns]"
      ]
     },
     "metadata": {},
     "output_type": "display_data"
    }
   ],
   "source": [
    "display(aol_reduced_citizen_lab_generalization)"
   ]
  },
  {
   "cell_type": "code",
   "execution_count": 26,
   "id": "38241dc3",
   "metadata": {},
   "outputs": [
    {
     "name": "stdout",
     "output_type": "stream",
     "text": [
      "CPU times: user 1.69 s, sys: 61 µs, total: 1.69 s\n",
      "Wall time: 1.7 s\n"
     ]
    }
   ],
   "source": [
    "%%time\n",
    "for row in aol_reduced_citizen_lab_generalization.itertuples():\n",
    "    for k,v in row.sTopics.items():\n",
    "        if ((v == 0) and (k in row.AllTopics)) or ((v > 0) and (k not in row.AllTopics)):\n",
    "            print(\"Error!\")"
   ]
  },
  {
   "cell_type": "code",
   "execution_count": 27,
   "id": "5a32ad19",
   "metadata": {},
   "outputs": [
    {
     "name": "stdout",
     "output_type": "stream",
     "text": [
      "CPU times: user 15 s, sys: 3.97 ms, total: 15 s\n",
      "Wall time: 15 s\n"
     ]
    }
   ],
   "source": [
    "%%time\n",
    "for row in aol_reduced_citizen_lab_generalization.itertuples():\n",
    "    aol_reduced_citizen_lab_generalization.at[row.Index, 'sTopics'] = list(temp_top_S[row.RandID].keys())"
   ]
  },
  {
   "cell_type": "code",
   "execution_count": 28,
   "id": "c9c3108e",
   "metadata": {
    "scrolled": false
   },
   "outputs": [
    {
     "data": {
      "text/html": [
       "<div>\n",
       "<style scoped>\n",
       "    .dataframe tbody tr th:only-of-type {\n",
       "        vertical-align: middle;\n",
       "    }\n",
       "\n",
       "    .dataframe tbody tr th {\n",
       "        vertical-align: top;\n",
       "    }\n",
       "\n",
       "    .dataframe thead th {\n",
       "        text-align: right;\n",
       "    }\n",
       "</style>\n",
       "<table border=\"1\" class=\"dataframe\">\n",
       "  <thead>\n",
       "    <tr style=\"text-align: right;\">\n",
       "      <th></th>\n",
       "      <th>RandID</th>\n",
       "      <th>BrowsingHistory</th>\n",
       "      <th>AllTopics</th>\n",
       "      <th>TopicsSet</th>\n",
       "      <th>sTopics</th>\n",
       "    </tr>\n",
       "  </thead>\n",
       "  <tbody>\n",
       "    <tr>\n",
       "      <th>0</th>\n",
       "      <td>0</td>\n",
       "      <td>[('imdb.com', Timestamp('2006-04-20 17:37:26')...</td>\n",
       "      <td>['CULTR', 'CULTR', 'GOVT', 'POLR', 'SRCH', 'CO...</td>\n",
       "      <td>['COMM', 'COMT', 'CULTR', 'GOVT', 'NEWS', 'POL...</td>\n",
       "      <td>['COMM', 'CULTR', 'GOVT', 'NEWS', 'SRCH']</td>\n",
       "    </tr>\n",
       "    <tr>\n",
       "      <th>1</th>\n",
       "      <td>3</td>\n",
       "      <td>[('myspace.com', Timestamp('2006-05-20 00:35:5...</td>\n",
       "      <td>['GRP', 'HOST', 'CULTR', 'COMM', 'COMM', 'ALDR']</td>\n",
       "      <td>['ALDR', 'COMM', 'CULTR', 'GRP', 'HOST']</td>\n",
       "      <td>['ALDR', 'COMM', 'CULTR', 'GRP', 'HOST']</td>\n",
       "    </tr>\n",
       "    <tr>\n",
       "      <th>2</th>\n",
       "      <td>4</td>\n",
       "      <td>[('microsoft.com', Timestamp('2006-03-29 22:32...</td>\n",
       "      <td>['COMT', 'FILE', 'COMM', 'COMT', 'FILE', 'COMM']</td>\n",
       "      <td>['COMM', 'COMT', 'FILE']</td>\n",
       "      <td>['COMM', 'COMT', 'FILE', 'GOVT', 'HACK']</td>\n",
       "    </tr>\n",
       "    <tr>\n",
       "      <th>3</th>\n",
       "      <td>10</td>\n",
       "      <td>[('wikipedia.org', Timestamp('2006-03-06 21:22...</td>\n",
       "      <td>['CULTR', 'HUMR', 'POLR', 'SRCH', 'PUBH', 'MIL...</td>\n",
       "      <td>['COMM', 'CULTR', 'HUMR', 'LGBT', 'MILX', 'NEW...</td>\n",
       "      <td>['COMM', 'CULTR', 'LGBT', 'NEWS', 'SRCH']</td>\n",
       "    </tr>\n",
       "    <tr>\n",
       "      <th>4</th>\n",
       "      <td>12</td>\n",
       "      <td>[('yahoo.com', Timestamp('2006-04-19 17:14:24'...</td>\n",
       "      <td>['CULTR', 'GOVT', 'POLR', 'SRCH', 'COMT', 'COM...</td>\n",
       "      <td>['COMM', 'COMT', 'CTRL', 'CULTR', 'DATE', 'ENV...</td>\n",
       "      <td>['CULTR', 'GRP', 'HOST', 'NEWS', 'SRCH']</td>\n",
       "    </tr>\n",
       "    <tr>\n",
       "      <th>...</th>\n",
       "      <td>...</td>\n",
       "      <td>...</td>\n",
       "      <td>...</td>\n",
       "      <td>...</td>\n",
       "      <td>...</td>\n",
       "    </tr>\n",
       "    <tr>\n",
       "      <th>247981</th>\n",
       "      <td>521683</td>\n",
       "      <td>[('wellsfargo.com', Timestamp('2006-05-05 19:4...</td>\n",
       "      <td>['COMM', 'COMT', 'GRP', 'SRCH', 'NEWS']</td>\n",
       "      <td>['COMM', 'COMT', 'GRP', 'NEWS', 'SRCH']</td>\n",
       "      <td>['COMM', 'COMT', 'GRP', 'NEWS', 'SRCH']</td>\n",
       "    </tr>\n",
       "    <tr>\n",
       "      <th>247982</th>\n",
       "      <td>521685</td>\n",
       "      <td>[('bbc.co.uk', Timestamp('2006-03-15 10:43:00'...</td>\n",
       "      <td>['POLR', 'MILX', 'HUMR', 'NEWS', 'CULTR', 'CUL...</td>\n",
       "      <td>['CULTR', 'GAME', 'HUMR', 'MILX', 'NEWS', 'POLR']</td>\n",
       "      <td>['CULTR', 'HUMR', 'MILX', 'NEWS', 'POLR']</td>\n",
       "    </tr>\n",
       "    <tr>\n",
       "      <th>247983</th>\n",
       "      <td>521686</td>\n",
       "      <td>[('yahoo.com', Timestamp('2006-03-09 18:44:13'...</td>\n",
       "      <td>['CULTR', 'GOVT', 'POLR', 'SRCH', 'COMT', 'COM...</td>\n",
       "      <td>['COMM', 'COMT', 'CTRL', 'CULTR', 'DATE', 'ENV...</td>\n",
       "      <td>['CULTR', 'GOVT', 'NEWS', 'POLR', 'SRCH']</td>\n",
       "    </tr>\n",
       "    <tr>\n",
       "      <th>247984</th>\n",
       "      <td>521689</td>\n",
       "      <td>[('imdb.com', Timestamp('2006-03-29 00:35:14')...</td>\n",
       "      <td>['CULTR', 'CULTR', 'HUMR', 'POLR', 'SRCH', 'PU...</td>\n",
       "      <td>['COMT', 'CTRL', 'CULTR', 'DATE', 'ENV', 'FILE...</td>\n",
       "      <td>['CULTR', 'DATE', 'HUMR', 'NEWS', 'POLR']</td>\n",
       "    </tr>\n",
       "    <tr>\n",
       "      <th>247985</th>\n",
       "      <td>521691</td>\n",
       "      <td>[('imdb.com', Timestamp('2006-03-15 15:01:34')...</td>\n",
       "      <td>['CULTR', 'CULTR', 'CULTR', 'CULTR', 'CULTR', ...</td>\n",
       "      <td>['ALDR', 'ANON', 'COMM', 'COMT', 'CTRL', 'CULT...</td>\n",
       "      <td>['COMM', 'CULTR', 'HUMR', 'NEWS', 'POLR']</td>\n",
       "    </tr>\n",
       "  </tbody>\n",
       "</table>\n",
       "<p>247986 rows × 5 columns</p>\n",
       "</div>"
      ],
      "text/plain": [
       "        RandID                                    BrowsingHistory   \n",
       "0            0  [('imdb.com', Timestamp('2006-04-20 17:37:26')...  \\\n",
       "1            3  [('myspace.com', Timestamp('2006-05-20 00:35:5...   \n",
       "2            4  [('microsoft.com', Timestamp('2006-03-29 22:32...   \n",
       "3           10  [('wikipedia.org', Timestamp('2006-03-06 21:22...   \n",
       "4           12  [('yahoo.com', Timestamp('2006-04-19 17:14:24'...   \n",
       "...        ...                                                ...   \n",
       "247981  521683  [('wellsfargo.com', Timestamp('2006-05-05 19:4...   \n",
       "247982  521685  [('bbc.co.uk', Timestamp('2006-03-15 10:43:00'...   \n",
       "247983  521686  [('yahoo.com', Timestamp('2006-03-09 18:44:13'...   \n",
       "247984  521689  [('imdb.com', Timestamp('2006-03-29 00:35:14')...   \n",
       "247985  521691  [('imdb.com', Timestamp('2006-03-15 15:01:34')...   \n",
       "\n",
       "                                                AllTopics   \n",
       "0       ['CULTR', 'CULTR', 'GOVT', 'POLR', 'SRCH', 'CO...  \\\n",
       "1        ['GRP', 'HOST', 'CULTR', 'COMM', 'COMM', 'ALDR']   \n",
       "2        ['COMT', 'FILE', 'COMM', 'COMT', 'FILE', 'COMM']   \n",
       "3       ['CULTR', 'HUMR', 'POLR', 'SRCH', 'PUBH', 'MIL...   \n",
       "4       ['CULTR', 'GOVT', 'POLR', 'SRCH', 'COMT', 'COM...   \n",
       "...                                                   ...   \n",
       "247981            ['COMM', 'COMT', 'GRP', 'SRCH', 'NEWS']   \n",
       "247982  ['POLR', 'MILX', 'HUMR', 'NEWS', 'CULTR', 'CUL...   \n",
       "247983  ['CULTR', 'GOVT', 'POLR', 'SRCH', 'COMT', 'COM...   \n",
       "247984  ['CULTR', 'CULTR', 'HUMR', 'POLR', 'SRCH', 'PU...   \n",
       "247985  ['CULTR', 'CULTR', 'CULTR', 'CULTR', 'CULTR', ...   \n",
       "\n",
       "                                                TopicsSet   \n",
       "0       ['COMM', 'COMT', 'CULTR', 'GOVT', 'NEWS', 'POL...  \\\n",
       "1                ['ALDR', 'COMM', 'CULTR', 'GRP', 'HOST']   \n",
       "2                                ['COMM', 'COMT', 'FILE']   \n",
       "3       ['COMM', 'CULTR', 'HUMR', 'LGBT', 'MILX', 'NEW...   \n",
       "4       ['COMM', 'COMT', 'CTRL', 'CULTR', 'DATE', 'ENV...   \n",
       "...                                                   ...   \n",
       "247981            ['COMM', 'COMT', 'GRP', 'NEWS', 'SRCH']   \n",
       "247982  ['CULTR', 'GAME', 'HUMR', 'MILX', 'NEWS', 'POLR']   \n",
       "247983  ['COMM', 'COMT', 'CTRL', 'CULTR', 'DATE', 'ENV...   \n",
       "247984  ['COMT', 'CTRL', 'CULTR', 'DATE', 'ENV', 'FILE...   \n",
       "247985  ['ALDR', 'ANON', 'COMM', 'COMT', 'CTRL', 'CULT...   \n",
       "\n",
       "                                          sTopics  \n",
       "0       ['COMM', 'CULTR', 'GOVT', 'NEWS', 'SRCH']  \n",
       "1        ['ALDR', 'COMM', 'CULTR', 'GRP', 'HOST']  \n",
       "2        ['COMM', 'COMT', 'FILE', 'GOVT', 'HACK']  \n",
       "3       ['COMM', 'CULTR', 'LGBT', 'NEWS', 'SRCH']  \n",
       "4        ['CULTR', 'GRP', 'HOST', 'NEWS', 'SRCH']  \n",
       "...                                           ...  \n",
       "247981    ['COMM', 'COMT', 'GRP', 'NEWS', 'SRCH']  \n",
       "247982  ['CULTR', 'HUMR', 'MILX', 'NEWS', 'POLR']  \n",
       "247983  ['CULTR', 'GOVT', 'NEWS', 'POLR', 'SRCH']  \n",
       "247984  ['CULTR', 'DATE', 'HUMR', 'NEWS', 'POLR']  \n",
       "247985  ['COMM', 'CULTR', 'HUMR', 'NEWS', 'POLR']  \n",
       "\n",
       "[247986 rows x 5 columns]"
      ]
     },
     "metadata": {},
     "output_type": "display_data"
    }
   ],
   "source": [
    "display(aol_reduced_citizen_lab_generalization)"
   ]
  },
  {
   "cell_type": "markdown",
   "id": "6d5fe2da",
   "metadata": {},
   "source": [
    "### Statistics"
   ]
  },
  {
   "cell_type": "markdown",
   "id": "daee3ea6",
   "metadata": {},
   "source": [
    "`RandID` statistics."
   ]
  },
  {
   "cell_type": "code",
   "execution_count": 29,
   "id": "e01477d0",
   "metadata": {},
   "outputs": [
    {
     "data": {
      "text/plain": [
       "count    247986.0\n",
       "mean          1.0\n",
       "std           0.0\n",
       "min           1.0\n",
       "25%           1.0\n",
       "50%           1.0\n",
       "75%           1.0\n",
       "80%           1.0\n",
       "85%           1.0\n",
       "90%           1.0\n",
       "95%           1.0\n",
       "96%           1.0\n",
       "97%           1.0\n",
       "98%           1.0\n",
       "99%           1.0\n",
       "max           1.0\n",
       "Name: count, dtype: float64"
      ]
     },
     "metadata": {},
     "output_type": "display_data"
    }
   ],
   "source": [
    "display(aol_reduced_citizen_lab_generalization['RandID'].value_counts().describe([.25,.50,.75,.80,.85,.90,.95,.96,.97,.98,.99]))"
   ]
  },
  {
   "cell_type": "markdown",
   "id": "6f46bfc1",
   "metadata": {},
   "source": [
    "Number of `RandID`s per count of records, e.g. 1 `RandID` has 150802 records and 70406 `RandID`s have 1 record."
   ]
  },
  {
   "cell_type": "markdown",
   "id": "2800888d",
   "metadata": {},
   "source": [
    "### Save to file"
   ]
  },
  {
   "cell_type": "code",
   "execution_count": 30,
   "id": "286372f4",
   "metadata": {},
   "outputs": [],
   "source": [
    "aol_reduced_citizen_lab_generalization.to_csv('AOL-experimental-Citizen-Lab-Classification.csv')"
   ]
  }
 ],
 "metadata": {
  "kernelspec": {
   "display_name": "Python 3 (ipykernel)",
   "language": "python",
   "name": "python3"
  },
  "language_info": {
   "codemirror_mode": {
    "name": "ipython",
    "version": 3
   },
   "file_extension": ".py",
   "mimetype": "text/x-python",
   "name": "python",
   "nbconvert_exporter": "python",
   "pygments_lexer": "ipython3",
   "version": "3.11.8"
  }
 },
 "nbformat": 4,
 "nbformat_minor": 5
}
