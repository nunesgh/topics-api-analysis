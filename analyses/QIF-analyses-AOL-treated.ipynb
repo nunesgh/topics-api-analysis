{
 "cells": [
  {
   "cell_type": "markdown",
   "id": "e29e41ed",
   "metadata": {},
   "source": [
    "# QIF Analyses (AOL treated dataset)"
   ]
  },
  {
   "cell_type": "code",
   "execution_count": 1,
   "id": "cd452df5",
   "metadata": {},
   "outputs": [],
   "source": [
    "import pandas, random\n",
    "from bvmlib.bvm import BVM"
   ]
  },
  {
   "cell_type": "markdown",
   "id": "ee576827",
   "metadata": {},
   "source": [
    "## AOL treated dataset"
   ]
  },
  {
   "cell_type": "code",
   "execution_count": 2,
   "id": "ac96fb78",
   "metadata": {},
   "outputs": [
    {
     "name": "stdout",
     "output_type": "stream",
     "text": [
      "CPU times: user 22.7 s, sys: 1.68 s, total: 24.4 s\n",
      "Wall time: 24.2 s\n"
     ]
    }
   ],
   "source": [
    "%%time\n",
    "# Loads AOL-treated dataset into aol_treated DataFrame.\n",
    "aol_treated = pandas.read_csv('AOL-treated.csv', low_memory=False, on_bad_lines='warn', index_col=0)"
   ]
  },
  {
   "cell_type": "code",
   "execution_count": 3,
   "id": "013706c3",
   "metadata": {},
   "outputs": [
    {
     "name": "stdout",
     "output_type": "stream",
     "text": [
      "CPU times: user 24 s, sys: 371 ms, total: 24.3 s\n",
      "Wall time: 24.2 s\n"
     ]
    }
   ],
   "source": [
    "%%time\n",
    "aol_treated['QueryTime'] = pandas.to_datetime(aol_treated['QueryTime'])"
   ]
  },
  {
   "cell_type": "code",
   "execution_count": 4,
   "id": "64230cdd",
   "metadata": {},
   "outputs": [
    {
     "data": {
      "text/html": [
       "<div>\n",
       "<style scoped>\n",
       "    .dataframe tbody tr th:only-of-type {\n",
       "        vertical-align: middle;\n",
       "    }\n",
       "\n",
       "    .dataframe tbody tr th {\n",
       "        vertical-align: top;\n",
       "    }\n",
       "\n",
       "    .dataframe thead th {\n",
       "        text-align: right;\n",
       "    }\n",
       "</style>\n",
       "<table border=\"1\" class=\"dataframe\">\n",
       "  <thead>\n",
       "    <tr style=\"text-align: right;\">\n",
       "      <th></th>\n",
       "      <th>RandID</th>\n",
       "      <th>QueryTime</th>\n",
       "      <th>Domain</th>\n",
       "    </tr>\n",
       "  </thead>\n",
       "  <tbody>\n",
       "    <tr>\n",
       "      <th>0</th>\n",
       "      <td>0</td>\n",
       "      <td>2006-05-13 00:12:16</td>\n",
       "      <td>edzapp.com</td>\n",
       "    </tr>\n",
       "    <tr>\n",
       "      <th>1</th>\n",
       "      <td>0</td>\n",
       "      <td>2006-05-13 00:15:28</td>\n",
       "      <td>riverdale.k12.or.us</td>\n",
       "    </tr>\n",
       "    <tr>\n",
       "      <th>2</th>\n",
       "      <td>0</td>\n",
       "      <td>2006-05-13 00:15:28</td>\n",
       "      <td>riverdale.k12.or.us</td>\n",
       "    </tr>\n",
       "    <tr>\n",
       "      <th>3</th>\n",
       "      <td>0</td>\n",
       "      <td>2006-05-13 00:22:39</td>\n",
       "      <td>salkeiz.k12.or.us</td>\n",
       "    </tr>\n",
       "    <tr>\n",
       "      <th>4</th>\n",
       "      <td>0</td>\n",
       "      <td>2006-05-13 00:22:39</td>\n",
       "      <td>greatschools.net</td>\n",
       "    </tr>\n",
       "    <tr>\n",
       "      <th>...</th>\n",
       "      <td>...</td>\n",
       "      <td>...</td>\n",
       "      <td>...</td>\n",
       "    </tr>\n",
       "    <tr>\n",
       "      <th>19426288</th>\n",
       "      <td>521691</td>\n",
       "      <td>2006-03-07 21:42:51</td>\n",
       "      <td>ups.com</td>\n",
       "    </tr>\n",
       "    <tr>\n",
       "      <th>19426289</th>\n",
       "      <td>521691</td>\n",
       "      <td>2006-03-15 19:24:17</td>\n",
       "      <td>google.com</td>\n",
       "    </tr>\n",
       "    <tr>\n",
       "      <th>19426290</th>\n",
       "      <td>521691</td>\n",
       "      <td>2006-04-01 18:45:41</td>\n",
       "      <td>google.com</td>\n",
       "    </tr>\n",
       "    <tr>\n",
       "      <th>19426291</th>\n",
       "      <td>521691</td>\n",
       "      <td>2006-04-02 01:33:52</td>\n",
       "      <td>supercross.com</td>\n",
       "    </tr>\n",
       "    <tr>\n",
       "      <th>19426292</th>\n",
       "      <td>521691</td>\n",
       "      <td>2006-05-15 00:03:49</td>\n",
       "      <td>976-tuna.com</td>\n",
       "    </tr>\n",
       "  </tbody>\n",
       "</table>\n",
       "<p>19426293 rows × 3 columns</p>\n",
       "</div>"
      ],
      "text/plain": [
       "          RandID           QueryTime               Domain\n",
       "0              0 2006-05-13 00:12:16           edzapp.com\n",
       "1              0 2006-05-13 00:15:28  riverdale.k12.or.us\n",
       "2              0 2006-05-13 00:15:28  riverdale.k12.or.us\n",
       "3              0 2006-05-13 00:22:39    salkeiz.k12.or.us\n",
       "4              0 2006-05-13 00:22:39     greatschools.net\n",
       "...          ...                 ...                  ...\n",
       "19426288  521691 2006-03-07 21:42:51              ups.com\n",
       "19426289  521691 2006-03-15 19:24:17           google.com\n",
       "19426290  521691 2006-04-01 18:45:41           google.com\n",
       "19426291  521691 2006-04-02 01:33:52       supercross.com\n",
       "19426292  521691 2006-05-15 00:03:49         976-tuna.com\n",
       "\n",
       "[19426293 rows x 3 columns]"
      ]
     },
     "metadata": {},
     "output_type": "display_data"
    }
   ],
   "source": [
    "display(aol_treated)"
   ]
  },
  {
   "cell_type": "markdown",
   "id": "a28882f3",
   "metadata": {},
   "source": [
    "## Drop singletons"
   ]
  },
  {
   "cell_type": "code",
   "execution_count": 5,
   "id": "f9839d21",
   "metadata": {},
   "outputs": [
    {
     "name": "stdout",
     "output_type": "stream",
     "text": [
      "85601\n",
      "CPU times: user 13.2 s, sys: 552 ms, total: 13.8 s\n",
      "Wall time: 13.8 s\n"
     ]
    }
   ],
   "source": [
    "%%time\n",
    "# Lists rows for RandID individuals with only one domain in their browsing history, to be dropped.\n",
    "temp = aol_treated[['RandID','Domain']].groupby(['RandID']).nunique()\n",
    "singletons = temp[temp['Domain'] == 1].index.to_list()\n",
    "print(len(singletons))"
   ]
  },
  {
   "cell_type": "code",
   "execution_count": 6,
   "id": "972ddf5a",
   "metadata": {},
   "outputs": [],
   "source": [
    "aol_treated = aol_treated[~aol_treated.RandID.isin(singletons)]"
   ]
  },
  {
   "cell_type": "code",
   "execution_count": 7,
   "id": "d1e06768",
   "metadata": {},
   "outputs": [],
   "source": [
    "aol_treated = aol_treated.reset_index(drop=True)"
   ]
  },
  {
   "cell_type": "code",
   "execution_count": 8,
   "id": "aa1f03b7",
   "metadata": {},
   "outputs": [
    {
     "data": {
      "text/html": [
       "<div>\n",
       "<style scoped>\n",
       "    .dataframe tbody tr th:only-of-type {\n",
       "        vertical-align: middle;\n",
       "    }\n",
       "\n",
       "    .dataframe tbody tr th {\n",
       "        vertical-align: top;\n",
       "    }\n",
       "\n",
       "    .dataframe thead th {\n",
       "        text-align: right;\n",
       "    }\n",
       "</style>\n",
       "<table border=\"1\" class=\"dataframe\">\n",
       "  <thead>\n",
       "    <tr style=\"text-align: right;\">\n",
       "      <th></th>\n",
       "      <th>RandID</th>\n",
       "      <th>QueryTime</th>\n",
       "      <th>Domain</th>\n",
       "    </tr>\n",
       "  </thead>\n",
       "  <tbody>\n",
       "    <tr>\n",
       "      <th>0</th>\n",
       "      <td>0</td>\n",
       "      <td>2006-05-13 00:12:16</td>\n",
       "      <td>edzapp.com</td>\n",
       "    </tr>\n",
       "    <tr>\n",
       "      <th>1</th>\n",
       "      <td>0</td>\n",
       "      <td>2006-05-13 00:15:28</td>\n",
       "      <td>riverdale.k12.or.us</td>\n",
       "    </tr>\n",
       "    <tr>\n",
       "      <th>2</th>\n",
       "      <td>0</td>\n",
       "      <td>2006-05-13 00:15:28</td>\n",
       "      <td>riverdale.k12.or.us</td>\n",
       "    </tr>\n",
       "    <tr>\n",
       "      <th>3</th>\n",
       "      <td>0</td>\n",
       "      <td>2006-05-13 00:22:39</td>\n",
       "      <td>salkeiz.k12.or.us</td>\n",
       "    </tr>\n",
       "    <tr>\n",
       "      <th>4</th>\n",
       "      <td>0</td>\n",
       "      <td>2006-05-13 00:22:39</td>\n",
       "      <td>greatschools.net</td>\n",
       "    </tr>\n",
       "    <tr>\n",
       "      <th>...</th>\n",
       "      <td>...</td>\n",
       "      <td>...</td>\n",
       "      <td>...</td>\n",
       "    </tr>\n",
       "    <tr>\n",
       "      <th>19305776</th>\n",
       "      <td>521691</td>\n",
       "      <td>2006-03-07 21:42:51</td>\n",
       "      <td>ups.com</td>\n",
       "    </tr>\n",
       "    <tr>\n",
       "      <th>19305777</th>\n",
       "      <td>521691</td>\n",
       "      <td>2006-03-15 19:24:17</td>\n",
       "      <td>google.com</td>\n",
       "    </tr>\n",
       "    <tr>\n",
       "      <th>19305778</th>\n",
       "      <td>521691</td>\n",
       "      <td>2006-04-01 18:45:41</td>\n",
       "      <td>google.com</td>\n",
       "    </tr>\n",
       "    <tr>\n",
       "      <th>19305779</th>\n",
       "      <td>521691</td>\n",
       "      <td>2006-04-02 01:33:52</td>\n",
       "      <td>supercross.com</td>\n",
       "    </tr>\n",
       "    <tr>\n",
       "      <th>19305780</th>\n",
       "      <td>521691</td>\n",
       "      <td>2006-05-15 00:03:49</td>\n",
       "      <td>976-tuna.com</td>\n",
       "    </tr>\n",
       "  </tbody>\n",
       "</table>\n",
       "<p>19305781 rows × 3 columns</p>\n",
       "</div>"
      ],
      "text/plain": [
       "          RandID           QueryTime               Domain\n",
       "0              0 2006-05-13 00:12:16           edzapp.com\n",
       "1              0 2006-05-13 00:15:28  riverdale.k12.or.us\n",
       "2              0 2006-05-13 00:15:28  riverdale.k12.or.us\n",
       "3              0 2006-05-13 00:22:39    salkeiz.k12.or.us\n",
       "4              0 2006-05-13 00:22:39     greatschools.net\n",
       "...          ...                 ...                  ...\n",
       "19305776  521691 2006-03-07 21:42:51              ups.com\n",
       "19305777  521691 2006-03-15 19:24:17           google.com\n",
       "19305778  521691 2006-04-01 18:45:41           google.com\n",
       "19305779  521691 2006-04-02 01:33:52       supercross.com\n",
       "19305780  521691 2006-05-15 00:03:49         976-tuna.com\n",
       "\n",
       "[19305781 rows x 3 columns]"
      ]
     },
     "metadata": {},
     "output_type": "display_data"
    }
   ],
   "source": [
    "display(aol_treated)"
   ]
  },
  {
   "cell_type": "markdown",
   "id": "8ba88dc3",
   "metadata": {},
   "source": [
    "## Drop outlier"
   ]
  },
  {
   "cell_type": "code",
   "execution_count": 9,
   "id": "bc7b7fd1",
   "metadata": {},
   "outputs": [
    {
     "data": {
      "text/plain": [
       "RandID\n",
       "463921    150802\n",
       "362554      6227\n",
       "304342      5741\n",
       "501741      4272\n",
       "342660      3775\n",
       "           ...  \n",
       "54859          2\n",
       "418762         2\n",
       "288640         2\n",
       "483619         2\n",
       "360861         2\n",
       "Name: count, Length: 436006, dtype: int64"
      ]
     },
     "metadata": {},
     "output_type": "display_data"
    },
    {
     "name": "stdout",
     "output_type": "stream",
     "text": [
      "CPU times: user 273 ms, sys: 136 ms, total: 410 ms\n",
      "Wall time: 405 ms\n"
     ]
    }
   ],
   "source": [
    "%%time\n",
    "# One individual has too many domains in their browsing history and is most probably a bot, to be dropped.\n",
    "display(aol_treated['RandID'].value_counts())"
   ]
  },
  {
   "cell_type": "code",
   "execution_count": 10,
   "id": "dd374c42",
   "metadata": {},
   "outputs": [],
   "source": [
    "aol_treated = aol_treated.drop(aol_treated[aol_treated['RandID'] == 463921].index.to_list())"
   ]
  },
  {
   "cell_type": "code",
   "execution_count": 11,
   "id": "a18282fe",
   "metadata": {},
   "outputs": [],
   "source": [
    "aol_treated = aol_treated.reset_index(drop=True)"
   ]
  },
  {
   "cell_type": "code",
   "execution_count": 12,
   "id": "16455d57",
   "metadata": {},
   "outputs": [
    {
     "data": {
      "text/html": [
       "<div>\n",
       "<style scoped>\n",
       "    .dataframe tbody tr th:only-of-type {\n",
       "        vertical-align: middle;\n",
       "    }\n",
       "\n",
       "    .dataframe tbody tr th {\n",
       "        vertical-align: top;\n",
       "    }\n",
       "\n",
       "    .dataframe thead th {\n",
       "        text-align: right;\n",
       "    }\n",
       "</style>\n",
       "<table border=\"1\" class=\"dataframe\">\n",
       "  <thead>\n",
       "    <tr style=\"text-align: right;\">\n",
       "      <th></th>\n",
       "      <th>RandID</th>\n",
       "      <th>QueryTime</th>\n",
       "      <th>Domain</th>\n",
       "    </tr>\n",
       "  </thead>\n",
       "  <tbody>\n",
       "    <tr>\n",
       "      <th>0</th>\n",
       "      <td>0</td>\n",
       "      <td>2006-05-13 00:12:16</td>\n",
       "      <td>edzapp.com</td>\n",
       "    </tr>\n",
       "    <tr>\n",
       "      <th>1</th>\n",
       "      <td>0</td>\n",
       "      <td>2006-05-13 00:15:28</td>\n",
       "      <td>riverdale.k12.or.us</td>\n",
       "    </tr>\n",
       "    <tr>\n",
       "      <th>2</th>\n",
       "      <td>0</td>\n",
       "      <td>2006-05-13 00:15:28</td>\n",
       "      <td>riverdale.k12.or.us</td>\n",
       "    </tr>\n",
       "    <tr>\n",
       "      <th>3</th>\n",
       "      <td>0</td>\n",
       "      <td>2006-05-13 00:22:39</td>\n",
       "      <td>salkeiz.k12.or.us</td>\n",
       "    </tr>\n",
       "    <tr>\n",
       "      <th>4</th>\n",
       "      <td>0</td>\n",
       "      <td>2006-05-13 00:22:39</td>\n",
       "      <td>greatschools.net</td>\n",
       "    </tr>\n",
       "    <tr>\n",
       "      <th>...</th>\n",
       "      <td>...</td>\n",
       "      <td>...</td>\n",
       "      <td>...</td>\n",
       "    </tr>\n",
       "    <tr>\n",
       "      <th>19154974</th>\n",
       "      <td>521691</td>\n",
       "      <td>2006-03-07 21:42:51</td>\n",
       "      <td>ups.com</td>\n",
       "    </tr>\n",
       "    <tr>\n",
       "      <th>19154975</th>\n",
       "      <td>521691</td>\n",
       "      <td>2006-03-15 19:24:17</td>\n",
       "      <td>google.com</td>\n",
       "    </tr>\n",
       "    <tr>\n",
       "      <th>19154976</th>\n",
       "      <td>521691</td>\n",
       "      <td>2006-04-01 18:45:41</td>\n",
       "      <td>google.com</td>\n",
       "    </tr>\n",
       "    <tr>\n",
       "      <th>19154977</th>\n",
       "      <td>521691</td>\n",
       "      <td>2006-04-02 01:33:52</td>\n",
       "      <td>supercross.com</td>\n",
       "    </tr>\n",
       "    <tr>\n",
       "      <th>19154978</th>\n",
       "      <td>521691</td>\n",
       "      <td>2006-05-15 00:03:49</td>\n",
       "      <td>976-tuna.com</td>\n",
       "    </tr>\n",
       "  </tbody>\n",
       "</table>\n",
       "<p>19154979 rows × 3 columns</p>\n",
       "</div>"
      ],
      "text/plain": [
       "          RandID           QueryTime               Domain\n",
       "0              0 2006-05-13 00:12:16           edzapp.com\n",
       "1              0 2006-05-13 00:15:28  riverdale.k12.or.us\n",
       "2              0 2006-05-13 00:15:28  riverdale.k12.or.us\n",
       "3              0 2006-05-13 00:22:39    salkeiz.k12.or.us\n",
       "4              0 2006-05-13 00:22:39     greatschools.net\n",
       "...          ...                 ...                  ...\n",
       "19154974  521691 2006-03-07 21:42:51              ups.com\n",
       "19154975  521691 2006-03-15 19:24:17           google.com\n",
       "19154976  521691 2006-04-01 18:45:41           google.com\n",
       "19154977  521691 2006-04-02 01:33:52       supercross.com\n",
       "19154978  521691 2006-05-15 00:03:49         976-tuna.com\n",
       "\n",
       "[19154979 rows x 3 columns]"
      ]
     },
     "metadata": {},
     "output_type": "display_data"
    }
   ],
   "source": [
    "display(aol_treated)"
   ]
  },
  {
   "cell_type": "markdown",
   "id": "c2d4f929",
   "metadata": {},
   "source": [
    "## Experiment 1: Third-party cookies on AOL treated dataset"
   ]
  },
  {
   "cell_type": "markdown",
   "id": "108f1071",
   "metadata": {},
   "source": [
    "### Define browsing histories"
   ]
  },
  {
   "cell_type": "code",
   "execution_count": 13,
   "id": "5a0eb976",
   "metadata": {},
   "outputs": [
    {
     "name": "stdout",
     "output_type": "stream",
     "text": [
      "CPU times: user 1min 2s, sys: 2.05 s, total: 1min 4s\n",
      "Wall time: 1min 4s\n"
     ]
    }
   ],
   "source": [
    "%%time\n",
    "aol_treated['BrowsingHistory'] = list(zip(aol_treated.Domain, aol_treated.QueryTime))"
   ]
  },
  {
   "cell_type": "code",
   "execution_count": 14,
   "id": "5216461e",
   "metadata": {},
   "outputs": [
    {
     "data": {
      "text/html": [
       "<div>\n",
       "<style scoped>\n",
       "    .dataframe tbody tr th:only-of-type {\n",
       "        vertical-align: middle;\n",
       "    }\n",
       "\n",
       "    .dataframe tbody tr th {\n",
       "        vertical-align: top;\n",
       "    }\n",
       "\n",
       "    .dataframe thead th {\n",
       "        text-align: right;\n",
       "    }\n",
       "</style>\n",
       "<table border=\"1\" class=\"dataframe\">\n",
       "  <thead>\n",
       "    <tr style=\"text-align: right;\">\n",
       "      <th></th>\n",
       "      <th>RandID</th>\n",
       "      <th>QueryTime</th>\n",
       "      <th>Domain</th>\n",
       "      <th>BrowsingHistory</th>\n",
       "    </tr>\n",
       "  </thead>\n",
       "  <tbody>\n",
       "    <tr>\n",
       "      <th>0</th>\n",
       "      <td>0</td>\n",
       "      <td>2006-05-13 00:12:16</td>\n",
       "      <td>edzapp.com</td>\n",
       "      <td>(edzapp.com, 2006-05-13 00:12:16)</td>\n",
       "    </tr>\n",
       "    <tr>\n",
       "      <th>1</th>\n",
       "      <td>0</td>\n",
       "      <td>2006-05-13 00:15:28</td>\n",
       "      <td>riverdale.k12.or.us</td>\n",
       "      <td>(riverdale.k12.or.us, 2006-05-13 00:15:28)</td>\n",
       "    </tr>\n",
       "    <tr>\n",
       "      <th>2</th>\n",
       "      <td>0</td>\n",
       "      <td>2006-05-13 00:15:28</td>\n",
       "      <td>riverdale.k12.or.us</td>\n",
       "      <td>(riverdale.k12.or.us, 2006-05-13 00:15:28)</td>\n",
       "    </tr>\n",
       "    <tr>\n",
       "      <th>3</th>\n",
       "      <td>0</td>\n",
       "      <td>2006-05-13 00:22:39</td>\n",
       "      <td>salkeiz.k12.or.us</td>\n",
       "      <td>(salkeiz.k12.or.us, 2006-05-13 00:22:39)</td>\n",
       "    </tr>\n",
       "    <tr>\n",
       "      <th>4</th>\n",
       "      <td>0</td>\n",
       "      <td>2006-05-13 00:22:39</td>\n",
       "      <td>greatschools.net</td>\n",
       "      <td>(greatschools.net, 2006-05-13 00:22:39)</td>\n",
       "    </tr>\n",
       "    <tr>\n",
       "      <th>...</th>\n",
       "      <td>...</td>\n",
       "      <td>...</td>\n",
       "      <td>...</td>\n",
       "      <td>...</td>\n",
       "    </tr>\n",
       "    <tr>\n",
       "      <th>19154974</th>\n",
       "      <td>521691</td>\n",
       "      <td>2006-03-07 21:42:51</td>\n",
       "      <td>ups.com</td>\n",
       "      <td>(ups.com, 2006-03-07 21:42:51)</td>\n",
       "    </tr>\n",
       "    <tr>\n",
       "      <th>19154975</th>\n",
       "      <td>521691</td>\n",
       "      <td>2006-03-15 19:24:17</td>\n",
       "      <td>google.com</td>\n",
       "      <td>(google.com, 2006-03-15 19:24:17)</td>\n",
       "    </tr>\n",
       "    <tr>\n",
       "      <th>19154976</th>\n",
       "      <td>521691</td>\n",
       "      <td>2006-04-01 18:45:41</td>\n",
       "      <td>google.com</td>\n",
       "      <td>(google.com, 2006-04-01 18:45:41)</td>\n",
       "    </tr>\n",
       "    <tr>\n",
       "      <th>19154977</th>\n",
       "      <td>521691</td>\n",
       "      <td>2006-04-02 01:33:52</td>\n",
       "      <td>supercross.com</td>\n",
       "      <td>(supercross.com, 2006-04-02 01:33:52)</td>\n",
       "    </tr>\n",
       "    <tr>\n",
       "      <th>19154978</th>\n",
       "      <td>521691</td>\n",
       "      <td>2006-05-15 00:03:49</td>\n",
       "      <td>976-tuna.com</td>\n",
       "      <td>(976-tuna.com, 2006-05-15 00:03:49)</td>\n",
       "    </tr>\n",
       "  </tbody>\n",
       "</table>\n",
       "<p>19154979 rows × 4 columns</p>\n",
       "</div>"
      ],
      "text/plain": [
       "          RandID           QueryTime               Domain   \n",
       "0              0 2006-05-13 00:12:16           edzapp.com  \\\n",
       "1              0 2006-05-13 00:15:28  riverdale.k12.or.us   \n",
       "2              0 2006-05-13 00:15:28  riverdale.k12.or.us   \n",
       "3              0 2006-05-13 00:22:39    salkeiz.k12.or.us   \n",
       "4              0 2006-05-13 00:22:39     greatschools.net   \n",
       "...          ...                 ...                  ...   \n",
       "19154974  521691 2006-03-07 21:42:51              ups.com   \n",
       "19154975  521691 2006-03-15 19:24:17           google.com   \n",
       "19154976  521691 2006-04-01 18:45:41           google.com   \n",
       "19154977  521691 2006-04-02 01:33:52       supercross.com   \n",
       "19154978  521691 2006-05-15 00:03:49         976-tuna.com   \n",
       "\n",
       "                                     BrowsingHistory  \n",
       "0                  (edzapp.com, 2006-05-13 00:12:16)  \n",
       "1         (riverdale.k12.or.us, 2006-05-13 00:15:28)  \n",
       "2         (riverdale.k12.or.us, 2006-05-13 00:15:28)  \n",
       "3           (salkeiz.k12.or.us, 2006-05-13 00:22:39)  \n",
       "4            (greatschools.net, 2006-05-13 00:22:39)  \n",
       "...                                              ...  \n",
       "19154974              (ups.com, 2006-03-07 21:42:51)  \n",
       "19154975           (google.com, 2006-03-15 19:24:17)  \n",
       "19154976           (google.com, 2006-04-01 18:45:41)  \n",
       "19154977       (supercross.com, 2006-04-02 01:33:52)  \n",
       "19154978         (976-tuna.com, 2006-05-15 00:03:49)  \n",
       "\n",
       "[19154979 rows x 4 columns]"
      ]
     },
     "metadata": {},
     "output_type": "display_data"
    }
   ],
   "source": [
    "display(aol_treated)"
   ]
  },
  {
   "cell_type": "code",
   "execution_count": 15,
   "id": "695c452a",
   "metadata": {},
   "outputs": [
    {
     "name": "stdout",
     "output_type": "stream",
     "text": [
      "CPU times: user 18.8 s, sys: 519 ms, total: 19.3 s\n",
      "Wall time: 19.3 s\n"
     ]
    }
   ],
   "source": [
    "%%time\n",
    "aol_treated_browsing_history = aol_treated[['RandID','BrowsingHistory']].groupby('RandID', sort=False)[['BrowsingHistory']].agg(lambda x : list(x)).reset_index()"
   ]
  },
  {
   "cell_type": "code",
   "execution_count": 16,
   "id": "d2a83729",
   "metadata": {},
   "outputs": [
    {
     "name": "stdout",
     "output_type": "stream",
     "text": [
      "CPU times: user 1min 1s, sys: 865 ms, total: 1min 2s\n",
      "Wall time: 1min 2s\n"
     ]
    }
   ],
   "source": [
    "%%time\n",
    "aol_treated_browsing_history['BrowsingHistory'] = aol_treated_browsing_history['BrowsingHistory'].map(lambda x : str(x))"
   ]
  },
  {
   "cell_type": "code",
   "execution_count": 17,
   "id": "41c14bd6",
   "metadata": {},
   "outputs": [
    {
     "data": {
      "text/html": [
       "<div>\n",
       "<style scoped>\n",
       "    .dataframe tbody tr th:only-of-type {\n",
       "        vertical-align: middle;\n",
       "    }\n",
       "\n",
       "    .dataframe tbody tr th {\n",
       "        vertical-align: top;\n",
       "    }\n",
       "\n",
       "    .dataframe thead th {\n",
       "        text-align: right;\n",
       "    }\n",
       "</style>\n",
       "<table border=\"1\" class=\"dataframe\">\n",
       "  <thead>\n",
       "    <tr style=\"text-align: right;\">\n",
       "      <th></th>\n",
       "      <th>RandID</th>\n",
       "      <th>BrowsingHistory</th>\n",
       "    </tr>\n",
       "  </thead>\n",
       "  <tbody>\n",
       "    <tr>\n",
       "      <th>0</th>\n",
       "      <td>0</td>\n",
       "      <td>[('edzapp.com', Timestamp('2006-05-13 00:12:16...</td>\n",
       "    </tr>\n",
       "    <tr>\n",
       "      <th>1</th>\n",
       "      <td>1</td>\n",
       "      <td>[('kidshealth.org', Timestamp('2006-03-01 11:5...</td>\n",
       "    </tr>\n",
       "    <tr>\n",
       "      <th>2</th>\n",
       "      <td>3</td>\n",
       "      <td>[('lawyers.com', Timestamp('2006-03-02 17:38:4...</td>\n",
       "    </tr>\n",
       "    <tr>\n",
       "      <th>3</th>\n",
       "      <td>4</td>\n",
       "      <td>[('foxnews.com', Timestamp('2006-03-12 20:33:2...</td>\n",
       "    </tr>\n",
       "    <tr>\n",
       "      <th>4</th>\n",
       "      <td>5</td>\n",
       "      <td>[('tvsquad.com', Timestamp('2006-03-06 23:15:2...</td>\n",
       "    </tr>\n",
       "    <tr>\n",
       "      <th>...</th>\n",
       "      <td>...</td>\n",
       "      <td>...</td>\n",
       "    </tr>\n",
       "    <tr>\n",
       "      <th>436000</th>\n",
       "      <td>521687</td>\n",
       "      <td>[('christianspeakers.com', Timestamp('2006-03-...</td>\n",
       "    </tr>\n",
       "    <tr>\n",
       "      <th>436001</th>\n",
       "      <td>521688</td>\n",
       "      <td>[('winonamanufacturing.com', Timestamp('2006-0...</td>\n",
       "    </tr>\n",
       "    <tr>\n",
       "      <th>436002</th>\n",
       "      <td>521689</td>\n",
       "      <td>[('dilithiumnetworks.com', Timestamp('2006-03-...</td>\n",
       "    </tr>\n",
       "    <tr>\n",
       "      <th>436003</th>\n",
       "      <td>521690</td>\n",
       "      <td>[('dfas.mil', Timestamp('2006-03-01 22:06:56')...</td>\n",
       "    </tr>\n",
       "    <tr>\n",
       "      <th>436004</th>\n",
       "      <td>521691</td>\n",
       "      <td>[('go.com', Timestamp('2006-03-04 11:36:38')),...</td>\n",
       "    </tr>\n",
       "  </tbody>\n",
       "</table>\n",
       "<p>436005 rows × 2 columns</p>\n",
       "</div>"
      ],
      "text/plain": [
       "        RandID                                    BrowsingHistory\n",
       "0            0  [('edzapp.com', Timestamp('2006-05-13 00:12:16...\n",
       "1            1  [('kidshealth.org', Timestamp('2006-03-01 11:5...\n",
       "2            3  [('lawyers.com', Timestamp('2006-03-02 17:38:4...\n",
       "3            4  [('foxnews.com', Timestamp('2006-03-12 20:33:2...\n",
       "4            5  [('tvsquad.com', Timestamp('2006-03-06 23:15:2...\n",
       "...        ...                                                ...\n",
       "436000  521687  [('christianspeakers.com', Timestamp('2006-03-...\n",
       "436001  521688  [('winonamanufacturing.com', Timestamp('2006-0...\n",
       "436002  521689  [('dilithiumnetworks.com', Timestamp('2006-03-...\n",
       "436003  521690  [('dfas.mil', Timestamp('2006-03-01 22:06:56')...\n",
       "436004  521691  [('go.com', Timestamp('2006-03-04 11:36:38')),...\n",
       "\n",
       "[436005 rows x 2 columns]"
      ]
     },
     "metadata": {},
     "output_type": "display_data"
    }
   ],
   "source": [
    "display(aol_treated_browsing_history)"
   ]
  },
  {
   "cell_type": "markdown",
   "id": "b3390438",
   "metadata": {},
   "source": [
    "### Privacy"
   ]
  },
  {
   "cell_type": "code",
   "execution_count": 18,
   "id": "d89b760d",
   "metadata": {},
   "outputs": [
    {
     "data": {
      "text/html": [
       "<div>\n",
       "<style scoped>\n",
       "    .dataframe tbody tr th:only-of-type {\n",
       "        vertical-align: middle;\n",
       "    }\n",
       "\n",
       "    .dataframe tbody tr th {\n",
       "        vertical-align: top;\n",
       "    }\n",
       "\n",
       "    .dataframe thead th {\n",
       "        text-align: right;\n",
       "    }\n",
       "</style>\n",
       "<table border=\"1\" class=\"dataframe\">\n",
       "  <thead>\n",
       "    <tr style=\"text-align: right;\">\n",
       "      <th></th>\n",
       "      <th>RandID</th>\n",
       "      <th>UID</th>\n",
       "    </tr>\n",
       "  </thead>\n",
       "  <tbody>\n",
       "    <tr>\n",
       "      <th>0</th>\n",
       "      <td>0</td>\n",
       "      <td>0</td>\n",
       "    </tr>\n",
       "    <tr>\n",
       "      <th>1</th>\n",
       "      <td>1</td>\n",
       "      <td>1</td>\n",
       "    </tr>\n",
       "    <tr>\n",
       "      <th>2</th>\n",
       "      <td>3</td>\n",
       "      <td>3</td>\n",
       "    </tr>\n",
       "    <tr>\n",
       "      <th>3</th>\n",
       "      <td>4</td>\n",
       "      <td>4</td>\n",
       "    </tr>\n",
       "    <tr>\n",
       "      <th>4</th>\n",
       "      <td>5</td>\n",
       "      <td>5</td>\n",
       "    </tr>\n",
       "    <tr>\n",
       "      <th>...</th>\n",
       "      <td>...</td>\n",
       "      <td>...</td>\n",
       "    </tr>\n",
       "    <tr>\n",
       "      <th>436000</th>\n",
       "      <td>521687</td>\n",
       "      <td>521687</td>\n",
       "    </tr>\n",
       "    <tr>\n",
       "      <th>436001</th>\n",
       "      <td>521688</td>\n",
       "      <td>521688</td>\n",
       "    </tr>\n",
       "    <tr>\n",
       "      <th>436002</th>\n",
       "      <td>521689</td>\n",
       "      <td>521689</td>\n",
       "    </tr>\n",
       "    <tr>\n",
       "      <th>436003</th>\n",
       "      <td>521690</td>\n",
       "      <td>521690</td>\n",
       "    </tr>\n",
       "    <tr>\n",
       "      <th>436004</th>\n",
       "      <td>521691</td>\n",
       "      <td>521691</td>\n",
       "    </tr>\n",
       "  </tbody>\n",
       "</table>\n",
       "<p>436005 rows × 2 columns</p>\n",
       "</div>"
      ],
      "text/plain": [
       "        RandID     UID\n",
       "0            0       0\n",
       "1            1       1\n",
       "2            3       3\n",
       "3            4       4\n",
       "4            5       5\n",
       "...        ...     ...\n",
       "436000  521687  521687\n",
       "436001  521688  521688\n",
       "436002  521689  521689\n",
       "436003  521690  521690\n",
       "436004  521691  521691\n",
       "\n",
       "[436005 rows x 2 columns]"
      ]
     },
     "metadata": {},
     "output_type": "display_data"
    },
    {
     "data": {
      "text/plain": [
       "RandID    436005\n",
       "UID       436005\n",
       "dtype: int64"
      ]
     },
     "metadata": {},
     "output_type": "display_data"
    }
   ],
   "source": [
    "temp = aol_treated_browsing_history.copy()\n",
    "temp['UID'] = temp['RandID']\n",
    "temp = temp.drop(columns=['BrowsingHistory'], inplace=False)\n",
    "display(temp, temp.nunique())"
   ]
  },
  {
   "cell_type": "code",
   "execution_count": 19,
   "id": "ee015086",
   "metadata": {},
   "outputs": [
    {
     "name": "stdout",
     "output_type": "stream",
     "text": [
      "CPU times: user 3.61 s, sys: 0 ns, total: 3.61 s\n",
      "Wall time: 3.6 s\n"
     ]
    }
   ],
   "source": [
    "%%time\n",
    "E1P = BVM(temp)\n",
    "E1P.qids(['UID'])\n",
    "E1P.sensitive(['RandID'])\n",
    "results = E1P.assess()"
   ]
  },
  {
   "cell_type": "code",
   "execution_count": 20,
   "id": "e90f1d69",
   "metadata": {},
   "outputs": [
    {
     "data": {
      "text/html": [
       "<div>\n",
       "<style scoped>\n",
       "    .dataframe tbody tr th:only-of-type {\n",
       "        vertical-align: middle;\n",
       "    }\n",
       "\n",
       "    .dataframe tbody tr th {\n",
       "        vertical-align: top;\n",
       "    }\n",
       "\n",
       "    .dataframe thead th {\n",
       "        text-align: right;\n",
       "    }\n",
       "</style>\n",
       "<table border=\"1\" class=\"dataframe\">\n",
       "  <thead>\n",
       "    <tr style=\"text-align: right;\">\n",
       "      <th></th>\n",
       "      <th>QID</th>\n",
       "      <th>dCR</th>\n",
       "      <th>pCR</th>\n",
       "      <th>Prior</th>\n",
       "      <th>Posterior</th>\n",
       "      <th>Histogram</th>\n",
       "    </tr>\n",
       "  </thead>\n",
       "  <tbody>\n",
       "    <tr>\n",
       "      <th>0</th>\n",
       "      <td>['UID']</td>\n",
       "      <td>1.0</td>\n",
       "      <td>436005</td>\n",
       "      <td>0.000002</td>\n",
       "      <td>1.0</td>\n",
       "      <td>{'0': 0.0, '1': 0.0, '2': 0.0, '3': 0.0, '4': ...</td>\n",
       "    </tr>\n",
       "  </tbody>\n",
       "</table>\n",
       "</div>"
      ],
      "text/plain": [
       "       QID  dCR     pCR     Prior  Posterior   \n",
       "0  ['UID']  1.0  436005  0.000002        1.0  \\\n",
       "\n",
       "                                           Histogram  \n",
       "0  {'0': 0.0, '1': 0.0, '2': 0.0, '3': 0.0, '4': ...  "
      ]
     },
     "metadata": {},
     "output_type": "display_data"
    },
    {
     "data": {
      "text/html": [
       "<div>\n",
       "<style scoped>\n",
       "    .dataframe tbody tr th:only-of-type {\n",
       "        vertical-align: middle;\n",
       "    }\n",
       "\n",
       "    .dataframe tbody tr th {\n",
       "        vertical-align: top;\n",
       "    }\n",
       "\n",
       "    .dataframe thead th {\n",
       "        text-align: right;\n",
       "    }\n",
       "</style>\n",
       "<table border=\"1\" class=\"dataframe\">\n",
       "  <thead>\n",
       "    <tr style=\"text-align: right;\">\n",
       "      <th></th>\n",
       "      <th>QID</th>\n",
       "      <th>Sensitive</th>\n",
       "      <th>dCA</th>\n",
       "      <th>pCA</th>\n",
       "      <th>Prior</th>\n",
       "      <th>Posterior</th>\n",
       "      <th>Histogram</th>\n",
       "    </tr>\n",
       "  </thead>\n",
       "  <tbody>\n",
       "    <tr>\n",
       "      <th>0</th>\n",
       "      <td>['UID']</td>\n",
       "      <td>RandID</td>\n",
       "      <td>0.0</td>\n",
       "      <td>436005.0</td>\n",
       "      <td>0.000002</td>\n",
       "      <td>1.0</td>\n",
       "      <td>{'0': 0.0, '1': 0.0, '2': 0.0, '3': 0.0, '4': ...</td>\n",
       "    </tr>\n",
       "  </tbody>\n",
       "</table>\n",
       "</div>"
      ],
      "text/plain": [
       "       QID Sensitive  dCA       pCA     Prior  Posterior   \n",
       "0  ['UID']    RandID  0.0  436005.0  0.000002        1.0  \\\n",
       "\n",
       "                                           Histogram  \n",
       "0  {'0': 0.0, '1': 0.0, '2': 0.0, '3': 0.0, '4': ...  "
      ]
     },
     "metadata": {},
     "output_type": "display_data"
    }
   ],
   "source": [
    "display(results['re_id'], results['att_inf'])"
   ]
  },
  {
   "cell_type": "code",
   "execution_count": 21,
   "id": "d0baf108",
   "metadata": {},
   "outputs": [
    {
     "data": {
      "text/plain": [
       "2.2935516794532174e-06"
      ]
     },
     "metadata": {},
     "output_type": "display_data"
    },
    {
     "data": {
      "text/plain": [
       "2.2935516794532174e-06"
      ]
     },
     "metadata": {},
     "output_type": "display_data"
    }
   ],
   "source": [
    "# Prior Bayes vulnerability.\n",
    "display(results['re_id']['Prior'][0], results['att_inf']['Prior'][0])"
   ]
  },
  {
   "cell_type": "code",
   "execution_count": 22,
   "id": "cd0efda0",
   "metadata": {},
   "outputs": [
    {
     "data": {
      "text/plain": [
       "1.0"
      ]
     },
     "metadata": {},
     "output_type": "display_data"
    },
    {
     "data": {
      "text/plain": [
       "1.0"
      ]
     },
     "metadata": {},
     "output_type": "display_data"
    }
   ],
   "source": [
    "# Posterior Bayes vulnerability.\n",
    "display(results['re_id']['Posterior'][0], results['att_inf']['Posterior'][0])"
   ]
  },
  {
   "cell_type": "code",
   "execution_count": 23,
   "id": "b2549885",
   "metadata": {},
   "outputs": [
    {
     "data": {
      "text/plain": [
       "436005.0"
      ]
     },
     "metadata": {},
     "output_type": "display_data"
    },
    {
     "data": {
      "text/plain": [
       "436005.0"
      ]
     },
     "metadata": {},
     "output_type": "display_data"
    }
   ],
   "source": [
    "# Bayes leakage.\n",
    "display(results['re_id']['Posterior'][0]/results['re_id']['Prior'][0], results['att_inf']['Posterior'][0]/results['att_inf']['Prior'][0])"
   ]
  },
  {
   "cell_type": "markdown",
   "id": "142fd7b0",
   "metadata": {},
   "source": [
    "### Utility"
   ]
  },
  {
   "cell_type": "code",
   "execution_count": 24,
   "id": "17042c56",
   "metadata": {
    "scrolled": false
   },
   "outputs": [
    {
     "data": {
      "text/html": [
       "<div>\n",
       "<style scoped>\n",
       "    .dataframe tbody tr th:only-of-type {\n",
       "        vertical-align: middle;\n",
       "    }\n",
       "\n",
       "    .dataframe tbody tr th {\n",
       "        vertical-align: top;\n",
       "    }\n",
       "\n",
       "    .dataframe thead th {\n",
       "        text-align: right;\n",
       "    }\n",
       "</style>\n",
       "<table border=\"1\" class=\"dataframe\">\n",
       "  <thead>\n",
       "    <tr style=\"text-align: right;\">\n",
       "      <th></th>\n",
       "      <th>UID</th>\n",
       "      <th>BrowsingHistory</th>\n",
       "    </tr>\n",
       "  </thead>\n",
       "  <tbody>\n",
       "    <tr>\n",
       "      <th>0</th>\n",
       "      <td>0</td>\n",
       "      <td>[('edzapp.com', Timestamp('2006-05-13 00:12:16...</td>\n",
       "    </tr>\n",
       "    <tr>\n",
       "      <th>1</th>\n",
       "      <td>1</td>\n",
       "      <td>[('kidshealth.org', Timestamp('2006-03-01 11:5...</td>\n",
       "    </tr>\n",
       "    <tr>\n",
       "      <th>2</th>\n",
       "      <td>3</td>\n",
       "      <td>[('lawyers.com', Timestamp('2006-03-02 17:38:4...</td>\n",
       "    </tr>\n",
       "    <tr>\n",
       "      <th>3</th>\n",
       "      <td>4</td>\n",
       "      <td>[('foxnews.com', Timestamp('2006-03-12 20:33:2...</td>\n",
       "    </tr>\n",
       "    <tr>\n",
       "      <th>4</th>\n",
       "      <td>5</td>\n",
       "      <td>[('tvsquad.com', Timestamp('2006-03-06 23:15:2...</td>\n",
       "    </tr>\n",
       "    <tr>\n",
       "      <th>...</th>\n",
       "      <td>...</td>\n",
       "      <td>...</td>\n",
       "    </tr>\n",
       "    <tr>\n",
       "      <th>436000</th>\n",
       "      <td>521687</td>\n",
       "      <td>[('christianspeakers.com', Timestamp('2006-03-...</td>\n",
       "    </tr>\n",
       "    <tr>\n",
       "      <th>436001</th>\n",
       "      <td>521688</td>\n",
       "      <td>[('winonamanufacturing.com', Timestamp('2006-0...</td>\n",
       "    </tr>\n",
       "    <tr>\n",
       "      <th>436002</th>\n",
       "      <td>521689</td>\n",
       "      <td>[('dilithiumnetworks.com', Timestamp('2006-03-...</td>\n",
       "    </tr>\n",
       "    <tr>\n",
       "      <th>436003</th>\n",
       "      <td>521690</td>\n",
       "      <td>[('dfas.mil', Timestamp('2006-03-01 22:06:56')...</td>\n",
       "    </tr>\n",
       "    <tr>\n",
       "      <th>436004</th>\n",
       "      <td>521691</td>\n",
       "      <td>[('go.com', Timestamp('2006-03-04 11:36:38')),...</td>\n",
       "    </tr>\n",
       "  </tbody>\n",
       "</table>\n",
       "<p>436005 rows × 2 columns</p>\n",
       "</div>"
      ],
      "text/plain": [
       "           UID                                    BrowsingHistory\n",
       "0            0  [('edzapp.com', Timestamp('2006-05-13 00:12:16...\n",
       "1            1  [('kidshealth.org', Timestamp('2006-03-01 11:5...\n",
       "2            3  [('lawyers.com', Timestamp('2006-03-02 17:38:4...\n",
       "3            4  [('foxnews.com', Timestamp('2006-03-12 20:33:2...\n",
       "4            5  [('tvsquad.com', Timestamp('2006-03-06 23:15:2...\n",
       "...        ...                                                ...\n",
       "436000  521687  [('christianspeakers.com', Timestamp('2006-03-...\n",
       "436001  521688  [('winonamanufacturing.com', Timestamp('2006-0...\n",
       "436002  521689  [('dilithiumnetworks.com', Timestamp('2006-03-...\n",
       "436003  521690  [('dfas.mil', Timestamp('2006-03-01 22:06:56')...\n",
       "436004  521691  [('go.com', Timestamp('2006-03-04 11:36:38')),...\n",
       "\n",
       "[436005 rows x 2 columns]"
      ]
     },
     "metadata": {},
     "output_type": "display_data"
    },
    {
     "data": {
      "text/plain": [
       "UID                436005\n",
       "BrowsingHistory    436005\n",
       "dtype: int64"
      ]
     },
     "metadata": {},
     "output_type": "display_data"
    }
   ],
   "source": [
    "temp = aol_treated_browsing_history.copy()\n",
    "temp = temp.rename(columns={'RandID':'UID'}, inplace=False)\n",
    "display(temp, temp.nunique())"
   ]
  },
  {
   "cell_type": "code",
   "execution_count": 25,
   "id": "99e29ed1",
   "metadata": {},
   "outputs": [
    {
     "name": "stdout",
     "output_type": "stream",
     "text": [
      "CPU times: user 7.68 s, sys: 4.23 ms, total: 7.68 s\n",
      "Wall time: 7.67 s\n"
     ]
    }
   ],
   "source": [
    "%%time\n",
    "E1U = BVM(temp)\n",
    "E1U.qids(['UID'])\n",
    "E1U.sensitive(['BrowsingHistory'])\n",
    "results = E1U.assess()"
   ]
  },
  {
   "cell_type": "code",
   "execution_count": 26,
   "id": "ec2e4dae",
   "metadata": {},
   "outputs": [
    {
     "data": {
      "text/html": [
       "<div>\n",
       "<style scoped>\n",
       "    .dataframe tbody tr th:only-of-type {\n",
       "        vertical-align: middle;\n",
       "    }\n",
       "\n",
       "    .dataframe tbody tr th {\n",
       "        vertical-align: top;\n",
       "    }\n",
       "\n",
       "    .dataframe thead th {\n",
       "        text-align: right;\n",
       "    }\n",
       "</style>\n",
       "<table border=\"1\" class=\"dataframe\">\n",
       "  <thead>\n",
       "    <tr style=\"text-align: right;\">\n",
       "      <th></th>\n",
       "      <th>QID</th>\n",
       "      <th>dCR</th>\n",
       "      <th>pCR</th>\n",
       "      <th>Prior</th>\n",
       "      <th>Posterior</th>\n",
       "      <th>Histogram</th>\n",
       "    </tr>\n",
       "  </thead>\n",
       "  <tbody>\n",
       "    <tr>\n",
       "      <th>0</th>\n",
       "      <td>['UID']</td>\n",
       "      <td>1.0</td>\n",
       "      <td>436005</td>\n",
       "      <td>0.000002</td>\n",
       "      <td>1.0</td>\n",
       "      <td>{'0': 0.0, '1': 0.0, '2': 0.0, '3': 0.0, '4': ...</td>\n",
       "    </tr>\n",
       "  </tbody>\n",
       "</table>\n",
       "</div>"
      ],
      "text/plain": [
       "       QID  dCR     pCR     Prior  Posterior   \n",
       "0  ['UID']  1.0  436005  0.000002        1.0  \\\n",
       "\n",
       "                                           Histogram  \n",
       "0  {'0': 0.0, '1': 0.0, '2': 0.0, '3': 0.0, '4': ...  "
      ]
     },
     "metadata": {},
     "output_type": "display_data"
    },
    {
     "data": {
      "text/html": [
       "<div>\n",
       "<style scoped>\n",
       "    .dataframe tbody tr th:only-of-type {\n",
       "        vertical-align: middle;\n",
       "    }\n",
       "\n",
       "    .dataframe tbody tr th {\n",
       "        vertical-align: top;\n",
       "    }\n",
       "\n",
       "    .dataframe thead th {\n",
       "        text-align: right;\n",
       "    }\n",
       "</style>\n",
       "<table border=\"1\" class=\"dataframe\">\n",
       "  <thead>\n",
       "    <tr style=\"text-align: right;\">\n",
       "      <th></th>\n",
       "      <th>QID</th>\n",
       "      <th>Sensitive</th>\n",
       "      <th>dCA</th>\n",
       "      <th>pCA</th>\n",
       "      <th>Prior</th>\n",
       "      <th>Posterior</th>\n",
       "      <th>Histogram</th>\n",
       "    </tr>\n",
       "  </thead>\n",
       "  <tbody>\n",
       "    <tr>\n",
       "      <th>0</th>\n",
       "      <td>['UID']</td>\n",
       "      <td>BrowsingHistory</td>\n",
       "      <td>0.0</td>\n",
       "      <td>436005.0</td>\n",
       "      <td>0.000002</td>\n",
       "      <td>1.0</td>\n",
       "      <td>{'0': 0.0, '1': 0.0, '2': 0.0, '3': 0.0, '4': ...</td>\n",
       "    </tr>\n",
       "  </tbody>\n",
       "</table>\n",
       "</div>"
      ],
      "text/plain": [
       "       QID        Sensitive  dCA       pCA     Prior  Posterior   \n",
       "0  ['UID']  BrowsingHistory  0.0  436005.0  0.000002        1.0  \\\n",
       "\n",
       "                                           Histogram  \n",
       "0  {'0': 0.0, '1': 0.0, '2': 0.0, '3': 0.0, '4': ...  "
      ]
     },
     "metadata": {},
     "output_type": "display_data"
    }
   ],
   "source": [
    "display(results['re_id'], results['att_inf'])"
   ]
  },
  {
   "cell_type": "code",
   "execution_count": 27,
   "id": "c68195b8",
   "metadata": {},
   "outputs": [
    {
     "data": {
      "text/plain": [
       "2.2935516794532174e-06"
      ]
     },
     "metadata": {},
     "output_type": "display_data"
    },
    {
     "data": {
      "text/plain": [
       "2.2935516794532174e-06"
      ]
     },
     "metadata": {},
     "output_type": "display_data"
    }
   ],
   "source": [
    "# Prior Bayes vulnerability.\n",
    "display(results['re_id']['Prior'][0], results['att_inf']['Prior'][0])"
   ]
  },
  {
   "cell_type": "code",
   "execution_count": 28,
   "id": "da000a1e",
   "metadata": {},
   "outputs": [
    {
     "data": {
      "text/plain": [
       "1.0"
      ]
     },
     "metadata": {},
     "output_type": "display_data"
    },
    {
     "data": {
      "text/plain": [
       "1.0"
      ]
     },
     "metadata": {},
     "output_type": "display_data"
    }
   ],
   "source": [
    "# Posterior Bayes vulnerability.\n",
    "display(results['re_id']['Posterior'][0], results['att_inf']['Posterior'][0])"
   ]
  },
  {
   "cell_type": "code",
   "execution_count": 29,
   "id": "066373dc",
   "metadata": {},
   "outputs": [
    {
     "data": {
      "text/plain": [
       "436005.0"
      ]
     },
     "metadata": {},
     "output_type": "display_data"
    },
    {
     "data": {
      "text/plain": [
       "436005.0"
      ]
     },
     "metadata": {},
     "output_type": "display_data"
    }
   ],
   "source": [
    "# Bayes leakage.\n",
    "display(results['re_id']['Posterior'][0]/results['re_id']['Prior'][0], results['att_inf']['Posterior'][0]/results['att_inf']['Prior'][0])"
   ]
  }
 ],
 "metadata": {
  "kernelspec": {
   "display_name": "Python 3 (ipykernel)",
   "language": "python",
   "name": "python3"
  },
  "language_info": {
   "codemirror_mode": {
    "name": "ipython",
    "version": 3
   },
   "file_extension": ".py",
   "mimetype": "text/x-python",
   "name": "python",
   "nbconvert_exporter": "python",
   "pygments_lexer": "ipython3",
   "version": "3.11.9"
  }
 },
 "nbformat": 4,
 "nbformat_minor": 5
}
