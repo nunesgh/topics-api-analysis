{
 "cells": [
  {
   "cell_type": "markdown",
   "id": "e29e41ed",
   "metadata": {},
   "source": [
    "# QIF Analyses (AOL experimental dataset)"
   ]
  },
  {
   "cell_type": "code",
   "execution_count": 1,
   "id": "cd452df5",
   "metadata": {},
   "outputs": [],
   "source": [
    "import pandas\n",
    "from bvmlib.bvm import BVM"
   ]
  },
  {
   "cell_type": "markdown",
   "id": "ee576827",
   "metadata": {},
   "source": [
    "## AOL experimental dataset"
   ]
  },
  {
   "cell_type": "code",
   "execution_count": 2,
   "id": "ac96fb78",
   "metadata": {},
   "outputs": [
    {
     "name": "stdout",
     "output_type": "stream",
     "text": [
      "CPU times: user 6.97 s, sys: 1.24 s, total: 8.21 s\n",
      "Wall time: 8.15 s\n"
     ]
    }
   ],
   "source": [
    "%%time\n",
    "# Loads AOL-experimental dataset into aol_experimental_browsing_history DataFrame.\n",
    "aol_experimental_browsing_history = pandas.read_csv('AOL-experimental.csv', low_memory=False, on_bad_lines='warn', index_col=0)"
   ]
  },
  {
   "cell_type": "code",
   "execution_count": 3,
   "id": "64230cdd",
   "metadata": {},
   "outputs": [
    {
     "data": {
      "text/html": [
       "<div>\n",
       "<style scoped>\n",
       "    .dataframe tbody tr th:only-of-type {\n",
       "        vertical-align: middle;\n",
       "    }\n",
       "\n",
       "    .dataframe tbody tr th {\n",
       "        vertical-align: top;\n",
       "    }\n",
       "\n",
       "    .dataframe thead th {\n",
       "        text-align: right;\n",
       "    }\n",
       "</style>\n",
       "<table border=\"1\" class=\"dataframe\">\n",
       "  <thead>\n",
       "    <tr style=\"text-align: right;\">\n",
       "      <th></th>\n",
       "      <th>RandID</th>\n",
       "      <th>BrowsingHistory</th>\n",
       "    </tr>\n",
       "  </thead>\n",
       "  <tbody>\n",
       "    <tr>\n",
       "      <th>0</th>\n",
       "      <td>0</td>\n",
       "      <td>[('edzapp.com', Timestamp('2006-05-13 00:12:16...</td>\n",
       "    </tr>\n",
       "    <tr>\n",
       "      <th>1</th>\n",
       "      <td>1</td>\n",
       "      <td>[('kidshealth.org', Timestamp('2006-03-01 11:5...</td>\n",
       "    </tr>\n",
       "    <tr>\n",
       "      <th>2</th>\n",
       "      <td>3</td>\n",
       "      <td>[('lawyers.com', Timestamp('2006-03-02 17:38:4...</td>\n",
       "    </tr>\n",
       "    <tr>\n",
       "      <th>3</th>\n",
       "      <td>4</td>\n",
       "      <td>[('foxnews.com', Timestamp('2006-03-12 20:33:2...</td>\n",
       "    </tr>\n",
       "    <tr>\n",
       "      <th>4</th>\n",
       "      <td>5</td>\n",
       "      <td>[('tvsquad.com', Timestamp('2006-03-06 23:15:2...</td>\n",
       "    </tr>\n",
       "    <tr>\n",
       "      <th>...</th>\n",
       "      <td>...</td>\n",
       "      <td>...</td>\n",
       "    </tr>\n",
       "    <tr>\n",
       "      <th>436000</th>\n",
       "      <td>521687</td>\n",
       "      <td>[('christianspeakers.com', Timestamp('2006-03-...</td>\n",
       "    </tr>\n",
       "    <tr>\n",
       "      <th>436001</th>\n",
       "      <td>521688</td>\n",
       "      <td>[('winonamanufacturing.com', Timestamp('2006-0...</td>\n",
       "    </tr>\n",
       "    <tr>\n",
       "      <th>436002</th>\n",
       "      <td>521689</td>\n",
       "      <td>[('dilithiumnetworks.com', Timestamp('2006-03-...</td>\n",
       "    </tr>\n",
       "    <tr>\n",
       "      <th>436003</th>\n",
       "      <td>521690</td>\n",
       "      <td>[('dfas.mil', Timestamp('2006-03-01 22:06:56')...</td>\n",
       "    </tr>\n",
       "    <tr>\n",
       "      <th>436004</th>\n",
       "      <td>521691</td>\n",
       "      <td>[('go.com', Timestamp('2006-03-04 11:36:38')),...</td>\n",
       "    </tr>\n",
       "  </tbody>\n",
       "</table>\n",
       "<p>436005 rows × 2 columns</p>\n",
       "</div>"
      ],
      "text/plain": [
       "        RandID                                    BrowsingHistory\n",
       "0            0  [('edzapp.com', Timestamp('2006-05-13 00:12:16...\n",
       "1            1  [('kidshealth.org', Timestamp('2006-03-01 11:5...\n",
       "2            3  [('lawyers.com', Timestamp('2006-03-02 17:38:4...\n",
       "3            4  [('foxnews.com', Timestamp('2006-03-12 20:33:2...\n",
       "4            5  [('tvsquad.com', Timestamp('2006-03-06 23:15:2...\n",
       "...        ...                                                ...\n",
       "436000  521687  [('christianspeakers.com', Timestamp('2006-03-...\n",
       "436001  521688  [('winonamanufacturing.com', Timestamp('2006-0...\n",
       "436002  521689  [('dilithiumnetworks.com', Timestamp('2006-03-...\n",
       "436003  521690  [('dfas.mil', Timestamp('2006-03-01 22:06:56')...\n",
       "436004  521691  [('go.com', Timestamp('2006-03-04 11:36:38')),...\n",
       "\n",
       "[436005 rows x 2 columns]"
      ]
     },
     "metadata": {},
     "output_type": "display_data"
    }
   ],
   "source": [
    "display(aol_experimental_browsing_history)"
   ]
  },
  {
   "cell_type": "markdown",
   "id": "c2d4f929",
   "metadata": {},
   "source": [
    "## Experiment 1: Third-party cookies on AOL experimental dataset"
   ]
  },
  {
   "cell_type": "markdown",
   "id": "b3390438",
   "metadata": {},
   "source": [
    "### Privacy"
   ]
  },
  {
   "cell_type": "code",
   "execution_count": 4,
   "id": "d89b760d",
   "metadata": {},
   "outputs": [
    {
     "data": {
      "text/html": [
       "<div>\n",
       "<style scoped>\n",
       "    .dataframe tbody tr th:only-of-type {\n",
       "        vertical-align: middle;\n",
       "    }\n",
       "\n",
       "    .dataframe tbody tr th {\n",
       "        vertical-align: top;\n",
       "    }\n",
       "\n",
       "    .dataframe thead th {\n",
       "        text-align: right;\n",
       "    }\n",
       "</style>\n",
       "<table border=\"1\" class=\"dataframe\">\n",
       "  <thead>\n",
       "    <tr style=\"text-align: right;\">\n",
       "      <th></th>\n",
       "      <th>RandID</th>\n",
       "      <th>UID</th>\n",
       "    </tr>\n",
       "  </thead>\n",
       "  <tbody>\n",
       "    <tr>\n",
       "      <th>0</th>\n",
       "      <td>0</td>\n",
       "      <td>0</td>\n",
       "    </tr>\n",
       "    <tr>\n",
       "      <th>1</th>\n",
       "      <td>1</td>\n",
       "      <td>1</td>\n",
       "    </tr>\n",
       "    <tr>\n",
       "      <th>2</th>\n",
       "      <td>3</td>\n",
       "      <td>3</td>\n",
       "    </tr>\n",
       "    <tr>\n",
       "      <th>3</th>\n",
       "      <td>4</td>\n",
       "      <td>4</td>\n",
       "    </tr>\n",
       "    <tr>\n",
       "      <th>4</th>\n",
       "      <td>5</td>\n",
       "      <td>5</td>\n",
       "    </tr>\n",
       "    <tr>\n",
       "      <th>...</th>\n",
       "      <td>...</td>\n",
       "      <td>...</td>\n",
       "    </tr>\n",
       "    <tr>\n",
       "      <th>436000</th>\n",
       "      <td>521687</td>\n",
       "      <td>521687</td>\n",
       "    </tr>\n",
       "    <tr>\n",
       "      <th>436001</th>\n",
       "      <td>521688</td>\n",
       "      <td>521688</td>\n",
       "    </tr>\n",
       "    <tr>\n",
       "      <th>436002</th>\n",
       "      <td>521689</td>\n",
       "      <td>521689</td>\n",
       "    </tr>\n",
       "    <tr>\n",
       "      <th>436003</th>\n",
       "      <td>521690</td>\n",
       "      <td>521690</td>\n",
       "    </tr>\n",
       "    <tr>\n",
       "      <th>436004</th>\n",
       "      <td>521691</td>\n",
       "      <td>521691</td>\n",
       "    </tr>\n",
       "  </tbody>\n",
       "</table>\n",
       "<p>436005 rows × 2 columns</p>\n",
       "</div>"
      ],
      "text/plain": [
       "        RandID     UID\n",
       "0            0       0\n",
       "1            1       1\n",
       "2            3       3\n",
       "3            4       4\n",
       "4            5       5\n",
       "...        ...     ...\n",
       "436000  521687  521687\n",
       "436001  521688  521688\n",
       "436002  521689  521689\n",
       "436003  521690  521690\n",
       "436004  521691  521691\n",
       "\n",
       "[436005 rows x 2 columns]"
      ]
     },
     "metadata": {},
     "output_type": "display_data"
    },
    {
     "data": {
      "text/plain": [
       "RandID    436005\n",
       "UID       436005\n",
       "dtype: int64"
      ]
     },
     "metadata": {},
     "output_type": "display_data"
    }
   ],
   "source": [
    "temp = aol_experimental_browsing_history.copy()\n",
    "temp['UID'] = temp['RandID']\n",
    "temp = temp.drop(columns=['BrowsingHistory'], inplace=False)\n",
    "display(temp, temp.nunique())"
   ]
  },
  {
   "cell_type": "code",
   "execution_count": 5,
   "id": "ee015086",
   "metadata": {},
   "outputs": [
    {
     "name": "stdout",
     "output_type": "stream",
     "text": [
      "CPU times: user 3.64 s, sys: 19.6 ms, total: 3.66 s\n",
      "Wall time: 3.65 s\n"
     ]
    }
   ],
   "source": [
    "%%time\n",
    "E1P = BVM(temp)\n",
    "E1P.qids(['UID'])\n",
    "E1P.sensitive(['RandID'])\n",
    "results = E1P.assess()"
   ]
  },
  {
   "cell_type": "code",
   "execution_count": 6,
   "id": "e90f1d69",
   "metadata": {},
   "outputs": [
    {
     "data": {
      "text/html": [
       "<div>\n",
       "<style scoped>\n",
       "    .dataframe tbody tr th:only-of-type {\n",
       "        vertical-align: middle;\n",
       "    }\n",
       "\n",
       "    .dataframe tbody tr th {\n",
       "        vertical-align: top;\n",
       "    }\n",
       "\n",
       "    .dataframe thead th {\n",
       "        text-align: right;\n",
       "    }\n",
       "</style>\n",
       "<table border=\"1\" class=\"dataframe\">\n",
       "  <thead>\n",
       "    <tr style=\"text-align: right;\">\n",
       "      <th></th>\n",
       "      <th>QID</th>\n",
       "      <th>dCR</th>\n",
       "      <th>pCR</th>\n",
       "      <th>Prior</th>\n",
       "      <th>Posterior</th>\n",
       "      <th>Histogram</th>\n",
       "    </tr>\n",
       "  </thead>\n",
       "  <tbody>\n",
       "    <tr>\n",
       "      <th>0</th>\n",
       "      <td>['UID']</td>\n",
       "      <td>1.0</td>\n",
       "      <td>436005</td>\n",
       "      <td>0.000002</td>\n",
       "      <td>1.0</td>\n",
       "      <td>{'0': 0.0, '1': 0.0, '2': 0.0, '3': 0.0, '4': ...</td>\n",
       "    </tr>\n",
       "  </tbody>\n",
       "</table>\n",
       "</div>"
      ],
      "text/plain": [
       "       QID  dCR     pCR     Prior  Posterior   \n",
       "0  ['UID']  1.0  436005  0.000002        1.0  \\\n",
       "\n",
       "                                           Histogram  \n",
       "0  {'0': 0.0, '1': 0.0, '2': 0.0, '3': 0.0, '4': ...  "
      ]
     },
     "metadata": {},
     "output_type": "display_data"
    },
    {
     "data": {
      "text/html": [
       "<div>\n",
       "<style scoped>\n",
       "    .dataframe tbody tr th:only-of-type {\n",
       "        vertical-align: middle;\n",
       "    }\n",
       "\n",
       "    .dataframe tbody tr th {\n",
       "        vertical-align: top;\n",
       "    }\n",
       "\n",
       "    .dataframe thead th {\n",
       "        text-align: right;\n",
       "    }\n",
       "</style>\n",
       "<table border=\"1\" class=\"dataframe\">\n",
       "  <thead>\n",
       "    <tr style=\"text-align: right;\">\n",
       "      <th></th>\n",
       "      <th>QID</th>\n",
       "      <th>Sensitive</th>\n",
       "      <th>dCA</th>\n",
       "      <th>pCA</th>\n",
       "      <th>Prior</th>\n",
       "      <th>Posterior</th>\n",
       "      <th>Histogram</th>\n",
       "    </tr>\n",
       "  </thead>\n",
       "  <tbody>\n",
       "    <tr>\n",
       "      <th>0</th>\n",
       "      <td>['UID']</td>\n",
       "      <td>RandID</td>\n",
       "      <td>0.0</td>\n",
       "      <td>436005.0</td>\n",
       "      <td>0.000002</td>\n",
       "      <td>1.0</td>\n",
       "      <td>{'0': 0.0, '1': 0.0, '2': 0.0, '3': 0.0, '4': ...</td>\n",
       "    </tr>\n",
       "  </tbody>\n",
       "</table>\n",
       "</div>"
      ],
      "text/plain": [
       "       QID Sensitive  dCA       pCA     Prior  Posterior   \n",
       "0  ['UID']    RandID  0.0  436005.0  0.000002        1.0  \\\n",
       "\n",
       "                                           Histogram  \n",
       "0  {'0': 0.0, '1': 0.0, '2': 0.0, '3': 0.0, '4': ...  "
      ]
     },
     "metadata": {},
     "output_type": "display_data"
    }
   ],
   "source": [
    "display(results['re_id'], results['att_inf'])"
   ]
  },
  {
   "cell_type": "code",
   "execution_count": 7,
   "id": "d0baf108",
   "metadata": {},
   "outputs": [
    {
     "data": {
      "text/plain": [
       "2.2935516794532174e-06"
      ]
     },
     "metadata": {},
     "output_type": "display_data"
    },
    {
     "data": {
      "text/plain": [
       "2.2935516794532174e-06"
      ]
     },
     "metadata": {},
     "output_type": "display_data"
    }
   ],
   "source": [
    "# Prior Bayes vulnerability.\n",
    "display(results['re_id']['Prior'][0], results['att_inf']['Prior'][0])"
   ]
  },
  {
   "cell_type": "code",
   "execution_count": 8,
   "id": "cd0efda0",
   "metadata": {},
   "outputs": [
    {
     "data": {
      "text/plain": [
       "1.0"
      ]
     },
     "metadata": {},
     "output_type": "display_data"
    },
    {
     "data": {
      "text/plain": [
       "1.0"
      ]
     },
     "metadata": {},
     "output_type": "display_data"
    }
   ],
   "source": [
    "# Posterior Bayes vulnerability.\n",
    "display(results['re_id']['Posterior'][0], results['att_inf']['Posterior'][0])"
   ]
  },
  {
   "cell_type": "code",
   "execution_count": 9,
   "id": "b2549885",
   "metadata": {},
   "outputs": [
    {
     "data": {
      "text/plain": [
       "436005.0"
      ]
     },
     "metadata": {},
     "output_type": "display_data"
    },
    {
     "data": {
      "text/plain": [
       "436005.0"
      ]
     },
     "metadata": {},
     "output_type": "display_data"
    }
   ],
   "source": [
    "# Bayes leakage.\n",
    "display(results['re_id']['Posterior'][0]/results['re_id']['Prior'][0], results['att_inf']['Posterior'][0]/results['att_inf']['Prior'][0])"
   ]
  },
  {
   "cell_type": "markdown",
   "id": "142fd7b0",
   "metadata": {},
   "source": [
    "### Utility"
   ]
  },
  {
   "cell_type": "code",
   "execution_count": 10,
   "id": "17042c56",
   "metadata": {
    "scrolled": false
   },
   "outputs": [
    {
     "data": {
      "text/html": [
       "<div>\n",
       "<style scoped>\n",
       "    .dataframe tbody tr th:only-of-type {\n",
       "        vertical-align: middle;\n",
       "    }\n",
       "\n",
       "    .dataframe tbody tr th {\n",
       "        vertical-align: top;\n",
       "    }\n",
       "\n",
       "    .dataframe thead th {\n",
       "        text-align: right;\n",
       "    }\n",
       "</style>\n",
       "<table border=\"1\" class=\"dataframe\">\n",
       "  <thead>\n",
       "    <tr style=\"text-align: right;\">\n",
       "      <th></th>\n",
       "      <th>UID</th>\n",
       "      <th>BrowsingHistory</th>\n",
       "    </tr>\n",
       "  </thead>\n",
       "  <tbody>\n",
       "    <tr>\n",
       "      <th>0</th>\n",
       "      <td>0</td>\n",
       "      <td>[('edzapp.com', Timestamp('2006-05-13 00:12:16...</td>\n",
       "    </tr>\n",
       "    <tr>\n",
       "      <th>1</th>\n",
       "      <td>1</td>\n",
       "      <td>[('kidshealth.org', Timestamp('2006-03-01 11:5...</td>\n",
       "    </tr>\n",
       "    <tr>\n",
       "      <th>2</th>\n",
       "      <td>3</td>\n",
       "      <td>[('lawyers.com', Timestamp('2006-03-02 17:38:4...</td>\n",
       "    </tr>\n",
       "    <tr>\n",
       "      <th>3</th>\n",
       "      <td>4</td>\n",
       "      <td>[('foxnews.com', Timestamp('2006-03-12 20:33:2...</td>\n",
       "    </tr>\n",
       "    <tr>\n",
       "      <th>4</th>\n",
       "      <td>5</td>\n",
       "      <td>[('tvsquad.com', Timestamp('2006-03-06 23:15:2...</td>\n",
       "    </tr>\n",
       "    <tr>\n",
       "      <th>...</th>\n",
       "      <td>...</td>\n",
       "      <td>...</td>\n",
       "    </tr>\n",
       "    <tr>\n",
       "      <th>436000</th>\n",
       "      <td>521687</td>\n",
       "      <td>[('christianspeakers.com', Timestamp('2006-03-...</td>\n",
       "    </tr>\n",
       "    <tr>\n",
       "      <th>436001</th>\n",
       "      <td>521688</td>\n",
       "      <td>[('winonamanufacturing.com', Timestamp('2006-0...</td>\n",
       "    </tr>\n",
       "    <tr>\n",
       "      <th>436002</th>\n",
       "      <td>521689</td>\n",
       "      <td>[('dilithiumnetworks.com', Timestamp('2006-03-...</td>\n",
       "    </tr>\n",
       "    <tr>\n",
       "      <th>436003</th>\n",
       "      <td>521690</td>\n",
       "      <td>[('dfas.mil', Timestamp('2006-03-01 22:06:56')...</td>\n",
       "    </tr>\n",
       "    <tr>\n",
       "      <th>436004</th>\n",
       "      <td>521691</td>\n",
       "      <td>[('go.com', Timestamp('2006-03-04 11:36:38')),...</td>\n",
       "    </tr>\n",
       "  </tbody>\n",
       "</table>\n",
       "<p>436005 rows × 2 columns</p>\n",
       "</div>"
      ],
      "text/plain": [
       "           UID                                    BrowsingHistory\n",
       "0            0  [('edzapp.com', Timestamp('2006-05-13 00:12:16...\n",
       "1            1  [('kidshealth.org', Timestamp('2006-03-01 11:5...\n",
       "2            3  [('lawyers.com', Timestamp('2006-03-02 17:38:4...\n",
       "3            4  [('foxnews.com', Timestamp('2006-03-12 20:33:2...\n",
       "4            5  [('tvsquad.com', Timestamp('2006-03-06 23:15:2...\n",
       "...        ...                                                ...\n",
       "436000  521687  [('christianspeakers.com', Timestamp('2006-03-...\n",
       "436001  521688  [('winonamanufacturing.com', Timestamp('2006-0...\n",
       "436002  521689  [('dilithiumnetworks.com', Timestamp('2006-03-...\n",
       "436003  521690  [('dfas.mil', Timestamp('2006-03-01 22:06:56')...\n",
       "436004  521691  [('go.com', Timestamp('2006-03-04 11:36:38')),...\n",
       "\n",
       "[436005 rows x 2 columns]"
      ]
     },
     "metadata": {},
     "output_type": "display_data"
    },
    {
     "data": {
      "text/plain": [
       "UID                436005\n",
       "BrowsingHistory    436005\n",
       "dtype: int64"
      ]
     },
     "metadata": {},
     "output_type": "display_data"
    }
   ],
   "source": [
    "temp = aol_experimental_browsing_history.copy()\n",
    "temp = temp.rename(columns={'RandID':'UID'}, inplace=False)\n",
    "display(temp, temp.nunique())"
   ]
  },
  {
   "cell_type": "code",
   "execution_count": 11,
   "id": "99e29ed1",
   "metadata": {},
   "outputs": [
    {
     "name": "stdout",
     "output_type": "stream",
     "text": [
      "CPU times: user 8.41 s, sys: 37.9 ms, total: 8.44 s\n",
      "Wall time: 8.42 s\n"
     ]
    }
   ],
   "source": [
    "%%time\n",
    "E1U = BVM(temp)\n",
    "E1U.qids(['UID'])\n",
    "E1U.sensitive(['BrowsingHistory'])\n",
    "results = E1U.assess()"
   ]
  },
  {
   "cell_type": "code",
   "execution_count": 12,
   "id": "ec2e4dae",
   "metadata": {},
   "outputs": [
    {
     "data": {
      "text/html": [
       "<div>\n",
       "<style scoped>\n",
       "    .dataframe tbody tr th:only-of-type {\n",
       "        vertical-align: middle;\n",
       "    }\n",
       "\n",
       "    .dataframe tbody tr th {\n",
       "        vertical-align: top;\n",
       "    }\n",
       "\n",
       "    .dataframe thead th {\n",
       "        text-align: right;\n",
       "    }\n",
       "</style>\n",
       "<table border=\"1\" class=\"dataframe\">\n",
       "  <thead>\n",
       "    <tr style=\"text-align: right;\">\n",
       "      <th></th>\n",
       "      <th>QID</th>\n",
       "      <th>dCR</th>\n",
       "      <th>pCR</th>\n",
       "      <th>Prior</th>\n",
       "      <th>Posterior</th>\n",
       "      <th>Histogram</th>\n",
       "    </tr>\n",
       "  </thead>\n",
       "  <tbody>\n",
       "    <tr>\n",
       "      <th>0</th>\n",
       "      <td>['UID']</td>\n",
       "      <td>1.0</td>\n",
       "      <td>436005</td>\n",
       "      <td>0.000002</td>\n",
       "      <td>1.0</td>\n",
       "      <td>{'0': 0.0, '1': 0.0, '2': 0.0, '3': 0.0, '4': ...</td>\n",
       "    </tr>\n",
       "  </tbody>\n",
       "</table>\n",
       "</div>"
      ],
      "text/plain": [
       "       QID  dCR     pCR     Prior  Posterior   \n",
       "0  ['UID']  1.0  436005  0.000002        1.0  \\\n",
       "\n",
       "                                           Histogram  \n",
       "0  {'0': 0.0, '1': 0.0, '2': 0.0, '3': 0.0, '4': ...  "
      ]
     },
     "metadata": {},
     "output_type": "display_data"
    },
    {
     "data": {
      "text/html": [
       "<div>\n",
       "<style scoped>\n",
       "    .dataframe tbody tr th:only-of-type {\n",
       "        vertical-align: middle;\n",
       "    }\n",
       "\n",
       "    .dataframe tbody tr th {\n",
       "        vertical-align: top;\n",
       "    }\n",
       "\n",
       "    .dataframe thead th {\n",
       "        text-align: right;\n",
       "    }\n",
       "</style>\n",
       "<table border=\"1\" class=\"dataframe\">\n",
       "  <thead>\n",
       "    <tr style=\"text-align: right;\">\n",
       "      <th></th>\n",
       "      <th>QID</th>\n",
       "      <th>Sensitive</th>\n",
       "      <th>dCA</th>\n",
       "      <th>pCA</th>\n",
       "      <th>Prior</th>\n",
       "      <th>Posterior</th>\n",
       "      <th>Histogram</th>\n",
       "    </tr>\n",
       "  </thead>\n",
       "  <tbody>\n",
       "    <tr>\n",
       "      <th>0</th>\n",
       "      <td>['UID']</td>\n",
       "      <td>BrowsingHistory</td>\n",
       "      <td>0.0</td>\n",
       "      <td>436005.0</td>\n",
       "      <td>0.000002</td>\n",
       "      <td>1.0</td>\n",
       "      <td>{'0': 0.0, '1': 0.0, '2': 0.0, '3': 0.0, '4': ...</td>\n",
       "    </tr>\n",
       "  </tbody>\n",
       "</table>\n",
       "</div>"
      ],
      "text/plain": [
       "       QID        Sensitive  dCA       pCA     Prior  Posterior   \n",
       "0  ['UID']  BrowsingHistory  0.0  436005.0  0.000002        1.0  \\\n",
       "\n",
       "                                           Histogram  \n",
       "0  {'0': 0.0, '1': 0.0, '2': 0.0, '3': 0.0, '4': ...  "
      ]
     },
     "metadata": {},
     "output_type": "display_data"
    }
   ],
   "source": [
    "display(results['re_id'], results['att_inf'])"
   ]
  },
  {
   "cell_type": "code",
   "execution_count": 13,
   "id": "c68195b8",
   "metadata": {},
   "outputs": [
    {
     "data": {
      "text/plain": [
       "2.2935516794532174e-06"
      ]
     },
     "metadata": {},
     "output_type": "display_data"
    },
    {
     "data": {
      "text/plain": [
       "2.2935516794532174e-06"
      ]
     },
     "metadata": {},
     "output_type": "display_data"
    }
   ],
   "source": [
    "# Prior Bayes vulnerability.\n",
    "display(results['re_id']['Prior'][0], results['att_inf']['Prior'][0])"
   ]
  },
  {
   "cell_type": "code",
   "execution_count": 14,
   "id": "da000a1e",
   "metadata": {},
   "outputs": [
    {
     "data": {
      "text/plain": [
       "1.0"
      ]
     },
     "metadata": {},
     "output_type": "display_data"
    },
    {
     "data": {
      "text/plain": [
       "1.0"
      ]
     },
     "metadata": {},
     "output_type": "display_data"
    }
   ],
   "source": [
    "# Posterior Bayes vulnerability.\n",
    "display(results['re_id']['Posterior'][0], results['att_inf']['Posterior'][0])"
   ]
  },
  {
   "cell_type": "code",
   "execution_count": 15,
   "id": "066373dc",
   "metadata": {},
   "outputs": [
    {
     "data": {
      "text/plain": [
       "436005.0"
      ]
     },
     "metadata": {},
     "output_type": "display_data"
    },
    {
     "data": {
      "text/plain": [
       "436005.0"
      ]
     },
     "metadata": {},
     "output_type": "display_data"
    }
   ],
   "source": [
    "# Bayes leakage.\n",
    "display(results['re_id']['Posterior'][0]/results['re_id']['Prior'][0], results['att_inf']['Posterior'][0]/results['att_inf']['Prior'][0])"
   ]
  }
 ],
 "metadata": {
  "kernelspec": {
   "display_name": "Python 3 (ipykernel)",
   "language": "python",
   "name": "python3"
  },
  "language_info": {
   "codemirror_mode": {
    "name": "ipython",
    "version": 3
   },
   "file_extension": ".py",
   "mimetype": "text/x-python",
   "name": "python",
   "nbconvert_exporter": "python",
   "pygments_lexer": "ipython3",
   "version": "3.11.9"
  }
 },
 "nbformat": 4,
 "nbformat_minor": 5
}
