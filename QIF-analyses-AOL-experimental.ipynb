{
 "cells": [
  {
   "cell_type": "markdown",
   "id": "e29e41ed",
   "metadata": {},
   "source": [
    "# QIF Analyses (AOL experimental dataset)"
   ]
  },
  {
   "cell_type": "code",
   "execution_count": 1,
   "id": "cd452df5",
   "metadata": {},
   "outputs": [],
   "source": [
    "import pandas\n",
    "from bvmlib.bvm import BVM"
   ]
  },
  {
   "cell_type": "markdown",
   "id": "ee576827",
   "metadata": {},
   "source": [
    "## AOL experimental dataset"
   ]
  },
  {
   "cell_type": "code",
   "execution_count": 2,
   "id": "ac96fb78",
   "metadata": {},
   "outputs": [
    {
     "name": "stdout",
     "output_type": "stream",
     "text": [
      "CPU times: user 13.5 s, sys: 1.34 s, total: 14.8 s\n",
      "Wall time: 14.8 s\n"
     ]
    }
   ],
   "source": [
    "%%time\n",
    "aol_experimental_browsing_history = pandas.read_csv('AOL-experimental.csv', low_memory=False, on_bad_lines='warn', index_col=0)"
   ]
  },
  {
   "cell_type": "code",
   "execution_count": 3,
   "id": "64230cdd",
   "metadata": {},
   "outputs": [
    {
     "data": {
      "text/html": [
       "<div>\n",
       "<style scoped>\n",
       "    .dataframe tbody tr th:only-of-type {\n",
       "        vertical-align: middle;\n",
       "    }\n",
       "\n",
       "    .dataframe tbody tr th {\n",
       "        vertical-align: top;\n",
       "    }\n",
       "\n",
       "    .dataframe thead th {\n",
       "        text-align: right;\n",
       "    }\n",
       "</style>\n",
       "<table border=\"1\" class=\"dataframe\">\n",
       "  <thead>\n",
       "    <tr style=\"text-align: right;\">\n",
       "      <th></th>\n",
       "      <th>RandID</th>\n",
       "      <th>BrowsingHistory</th>\n",
       "    </tr>\n",
       "  </thead>\n",
       "  <tbody>\n",
       "    <tr>\n",
       "      <th>0</th>\n",
       "      <td>0</td>\n",
       "      <td>[('about.com', Timestamp('2006-03-06 13:59:48'...</td>\n",
       "    </tr>\n",
       "    <tr>\n",
       "      <th>1</th>\n",
       "      <td>2</td>\n",
       "      <td>[('jr.com', Timestamp('2006-03-01 21:59:34')),...</td>\n",
       "    </tr>\n",
       "    <tr>\n",
       "      <th>2</th>\n",
       "      <td>3</td>\n",
       "      <td>[('webdate.com', Timestamp('2006-05-19 00:39:4...</td>\n",
       "    </tr>\n",
       "    <tr>\n",
       "      <th>3</th>\n",
       "      <td>4</td>\n",
       "      <td>[('microsoft.com', Timestamp('2006-03-29 22:32...</td>\n",
       "    </tr>\n",
       "    <tr>\n",
       "      <th>4</th>\n",
       "      <td>5</td>\n",
       "      <td>[('about.com', Timestamp('2006-05-30 21:58:47'...</td>\n",
       "    </tr>\n",
       "    <tr>\n",
       "      <th>...</th>\n",
       "      <td>...</td>\n",
       "      <td>...</td>\n",
       "    </tr>\n",
       "    <tr>\n",
       "      <th>451195</th>\n",
       "      <td>521687</td>\n",
       "      <td>[('1001freefonts.com', Timestamp('2006-04-08 1...</td>\n",
       "    </tr>\n",
       "    <tr>\n",
       "      <th>451196</th>\n",
       "      <td>521688</td>\n",
       "      <td>[('pluggedincleveland.com', Timestamp('2006-04...</td>\n",
       "    </tr>\n",
       "    <tr>\n",
       "      <th>451197</th>\n",
       "      <td>521689</td>\n",
       "      <td>[('arab2.com', Timestamp('2006-03-08 03:17:38'...</td>\n",
       "    </tr>\n",
       "    <tr>\n",
       "      <th>451198</th>\n",
       "      <td>521690</td>\n",
       "      <td>[('washingtonpost.com', Timestamp('2006-05-11 ...</td>\n",
       "    </tr>\n",
       "    <tr>\n",
       "      <th>451199</th>\n",
       "      <td>521691</td>\n",
       "      <td>[('mpg.de', Timestamp('2006-03-01 10:51:31')),...</td>\n",
       "    </tr>\n",
       "  </tbody>\n",
       "</table>\n",
       "<p>451200 rows × 2 columns</p>\n",
       "</div>"
      ],
      "text/plain": [
       "        RandID                                    BrowsingHistory\n",
       "0            0  [('about.com', Timestamp('2006-03-06 13:59:48'...\n",
       "1            2  [('jr.com', Timestamp('2006-03-01 21:59:34')),...\n",
       "2            3  [('webdate.com', Timestamp('2006-05-19 00:39:4...\n",
       "3            4  [('microsoft.com', Timestamp('2006-03-29 22:32...\n",
       "4            5  [('about.com', Timestamp('2006-05-30 21:58:47'...\n",
       "...        ...                                                ...\n",
       "451195  521687  [('1001freefonts.com', Timestamp('2006-04-08 1...\n",
       "451196  521688  [('pluggedincleveland.com', Timestamp('2006-04...\n",
       "451197  521689  [('arab2.com', Timestamp('2006-03-08 03:17:38'...\n",
       "451198  521690  [('washingtonpost.com', Timestamp('2006-05-11 ...\n",
       "451199  521691  [('mpg.de', Timestamp('2006-03-01 10:51:31')),...\n",
       "\n",
       "[451200 rows x 2 columns]"
      ]
     },
     "metadata": {},
     "output_type": "display_data"
    }
   ],
   "source": [
    "display(aol_experimental_browsing_history)"
   ]
  },
  {
   "cell_type": "markdown",
   "id": "c2d4f929",
   "metadata": {},
   "source": [
    "## Experiment 1: Third-party cookies on AOL experimental dataset"
   ]
  },
  {
   "cell_type": "markdown",
   "id": "b3390438",
   "metadata": {},
   "source": [
    "### Privacy"
   ]
  },
  {
   "cell_type": "code",
   "execution_count": 4,
   "id": "d89b760d",
   "metadata": {},
   "outputs": [
    {
     "data": {
      "text/html": [
       "<div>\n",
       "<style scoped>\n",
       "    .dataframe tbody tr th:only-of-type {\n",
       "        vertical-align: middle;\n",
       "    }\n",
       "\n",
       "    .dataframe tbody tr th {\n",
       "        vertical-align: top;\n",
       "    }\n",
       "\n",
       "    .dataframe thead th {\n",
       "        text-align: right;\n",
       "    }\n",
       "</style>\n",
       "<table border=\"1\" class=\"dataframe\">\n",
       "  <thead>\n",
       "    <tr style=\"text-align: right;\">\n",
       "      <th></th>\n",
       "      <th>RandID</th>\n",
       "      <th>UID</th>\n",
       "    </tr>\n",
       "  </thead>\n",
       "  <tbody>\n",
       "    <tr>\n",
       "      <th>0</th>\n",
       "      <td>0</td>\n",
       "      <td>0</td>\n",
       "    </tr>\n",
       "    <tr>\n",
       "      <th>1</th>\n",
       "      <td>2</td>\n",
       "      <td>2</td>\n",
       "    </tr>\n",
       "    <tr>\n",
       "      <th>2</th>\n",
       "      <td>3</td>\n",
       "      <td>3</td>\n",
       "    </tr>\n",
       "    <tr>\n",
       "      <th>3</th>\n",
       "      <td>4</td>\n",
       "      <td>4</td>\n",
       "    </tr>\n",
       "    <tr>\n",
       "      <th>4</th>\n",
       "      <td>5</td>\n",
       "      <td>5</td>\n",
       "    </tr>\n",
       "    <tr>\n",
       "      <th>...</th>\n",
       "      <td>...</td>\n",
       "      <td>...</td>\n",
       "    </tr>\n",
       "    <tr>\n",
       "      <th>451195</th>\n",
       "      <td>521687</td>\n",
       "      <td>521687</td>\n",
       "    </tr>\n",
       "    <tr>\n",
       "      <th>451196</th>\n",
       "      <td>521688</td>\n",
       "      <td>521688</td>\n",
       "    </tr>\n",
       "    <tr>\n",
       "      <th>451197</th>\n",
       "      <td>521689</td>\n",
       "      <td>521689</td>\n",
       "    </tr>\n",
       "    <tr>\n",
       "      <th>451198</th>\n",
       "      <td>521690</td>\n",
       "      <td>521690</td>\n",
       "    </tr>\n",
       "    <tr>\n",
       "      <th>451199</th>\n",
       "      <td>521691</td>\n",
       "      <td>521691</td>\n",
       "    </tr>\n",
       "  </tbody>\n",
       "</table>\n",
       "<p>451200 rows × 2 columns</p>\n",
       "</div>"
      ],
      "text/plain": [
       "        RandID     UID\n",
       "0            0       0\n",
       "1            2       2\n",
       "2            3       3\n",
       "3            4       4\n",
       "4            5       5\n",
       "...        ...     ...\n",
       "451195  521687  521687\n",
       "451196  521688  521688\n",
       "451197  521689  521689\n",
       "451198  521690  521690\n",
       "451199  521691  521691\n",
       "\n",
       "[451200 rows x 2 columns]"
      ]
     },
     "metadata": {},
     "output_type": "display_data"
    },
    {
     "data": {
      "text/plain": [
       "RandID    451200\n",
       "UID       451200\n",
       "dtype: int64"
      ]
     },
     "metadata": {},
     "output_type": "display_data"
    }
   ],
   "source": [
    "temp = aol_experimental_browsing_history.copy()\n",
    "temp['UID'] = temp['RandID']\n",
    "temp = temp.drop(columns=['BrowsingHistory'], inplace=False)\n",
    "display(temp, temp.nunique())"
   ]
  },
  {
   "cell_type": "code",
   "execution_count": 5,
   "id": "ee015086",
   "metadata": {},
   "outputs": [
    {
     "name": "stdout",
     "output_type": "stream",
     "text": [
      "CPU times: user 6.95 s, sys: 30.1 ms, total: 6.98 s\n",
      "Wall time: 6.99 s\n"
     ]
    }
   ],
   "source": [
    "%%time\n",
    "E1P = BVM(temp)\n",
    "E1P.qids(['UID'])\n",
    "E1P.sensitive(['RandID'])\n",
    "results = E1P.assess()"
   ]
  },
  {
   "cell_type": "code",
   "execution_count": 6,
   "id": "e90f1d69",
   "metadata": {},
   "outputs": [
    {
     "data": {
      "text/html": [
       "<div>\n",
       "<style scoped>\n",
       "    .dataframe tbody tr th:only-of-type {\n",
       "        vertical-align: middle;\n",
       "    }\n",
       "\n",
       "    .dataframe tbody tr th {\n",
       "        vertical-align: top;\n",
       "    }\n",
       "\n",
       "    .dataframe thead th {\n",
       "        text-align: right;\n",
       "    }\n",
       "</style>\n",
       "<table border=\"1\" class=\"dataframe\">\n",
       "  <thead>\n",
       "    <tr style=\"text-align: right;\">\n",
       "      <th></th>\n",
       "      <th>QID</th>\n",
       "      <th>dCR</th>\n",
       "      <th>pCR</th>\n",
       "      <th>Prior</th>\n",
       "      <th>Posterior</th>\n",
       "      <th>Histogram</th>\n",
       "    </tr>\n",
       "  </thead>\n",
       "  <tbody>\n",
       "    <tr>\n",
       "      <th>0</th>\n",
       "      <td>['UID']</td>\n",
       "      <td>1.0</td>\n",
       "      <td>451200</td>\n",
       "      <td>0.000002</td>\n",
       "      <td>1.0</td>\n",
       "      <td>{'0': 0.0, '1': 0.0, '2': 0.0, '3': 0.0, '4': ...</td>\n",
       "    </tr>\n",
       "  </tbody>\n",
       "</table>\n",
       "</div>"
      ],
      "text/plain": [
       "       QID  dCR     pCR     Prior  Posterior   \n",
       "0  ['UID']  1.0  451200  0.000002        1.0  \\\n",
       "\n",
       "                                           Histogram  \n",
       "0  {'0': 0.0, '1': 0.0, '2': 0.0, '3': 0.0, '4': ...  "
      ]
     },
     "metadata": {},
     "output_type": "display_data"
    },
    {
     "data": {
      "text/html": [
       "<div>\n",
       "<style scoped>\n",
       "    .dataframe tbody tr th:only-of-type {\n",
       "        vertical-align: middle;\n",
       "    }\n",
       "\n",
       "    .dataframe tbody tr th {\n",
       "        vertical-align: top;\n",
       "    }\n",
       "\n",
       "    .dataframe thead th {\n",
       "        text-align: right;\n",
       "    }\n",
       "</style>\n",
       "<table border=\"1\" class=\"dataframe\">\n",
       "  <thead>\n",
       "    <tr style=\"text-align: right;\">\n",
       "      <th></th>\n",
       "      <th>QID</th>\n",
       "      <th>Sensitive</th>\n",
       "      <th>dCA</th>\n",
       "      <th>pCA</th>\n",
       "      <th>Prior</th>\n",
       "      <th>Posterior</th>\n",
       "      <th>Histogram</th>\n",
       "    </tr>\n",
       "  </thead>\n",
       "  <tbody>\n",
       "    <tr>\n",
       "      <th>0</th>\n",
       "      <td>['UID']</td>\n",
       "      <td>RandID</td>\n",
       "      <td>0.0</td>\n",
       "      <td>451200.0</td>\n",
       "      <td>0.000002</td>\n",
       "      <td>1.0</td>\n",
       "      <td>{'0': 0.0, '1': 0.0, '2': 0.0, '3': 0.0, '4': ...</td>\n",
       "    </tr>\n",
       "  </tbody>\n",
       "</table>\n",
       "</div>"
      ],
      "text/plain": [
       "       QID Sensitive  dCA       pCA     Prior  Posterior   \n",
       "0  ['UID']    RandID  0.0  451200.0  0.000002        1.0  \\\n",
       "\n",
       "                                           Histogram  \n",
       "0  {'0': 0.0, '1': 0.0, '2': 0.0, '3': 0.0, '4': ...  "
      ]
     },
     "metadata": {},
     "output_type": "display_data"
    }
   ],
   "source": [
    "display(results['re_id'], results['att_inf'])"
   ]
  },
  {
   "cell_type": "code",
   "execution_count": 7,
   "id": "d0baf108",
   "metadata": {},
   "outputs": [
    {
     "data": {
      "text/plain": [
       "2.2163120567375886e-06"
      ]
     },
     "metadata": {},
     "output_type": "display_data"
    },
    {
     "data": {
      "text/plain": [
       "2.2163120567375886e-06"
      ]
     },
     "metadata": {},
     "output_type": "display_data"
    }
   ],
   "source": [
    "display(results['re_id']['Prior'][0], results['att_inf']['Prior'][0])"
   ]
  },
  {
   "cell_type": "code",
   "execution_count": 8,
   "id": "cd0efda0",
   "metadata": {},
   "outputs": [
    {
     "data": {
      "text/plain": [
       "1.0"
      ]
     },
     "metadata": {},
     "output_type": "display_data"
    },
    {
     "data": {
      "text/plain": [
       "1.0"
      ]
     },
     "metadata": {},
     "output_type": "display_data"
    }
   ],
   "source": [
    "display(results['re_id']['Posterior'][0], results['att_inf']['Posterior'][0])"
   ]
  },
  {
   "cell_type": "code",
   "execution_count": 9,
   "id": "b2549885",
   "metadata": {},
   "outputs": [
    {
     "data": {
      "text/plain": [
       "451200.0"
      ]
     },
     "metadata": {},
     "output_type": "display_data"
    },
    {
     "data": {
      "text/plain": [
       "451200.0"
      ]
     },
     "metadata": {},
     "output_type": "display_data"
    }
   ],
   "source": [
    "display(results['re_id']['Posterior'][0]/results['re_id']['Prior'][0], results['att_inf']['Posterior'][0]/results['att_inf']['Prior'][0])"
   ]
  },
  {
   "cell_type": "markdown",
   "id": "142fd7b0",
   "metadata": {},
   "source": [
    "### Utility"
   ]
  },
  {
   "cell_type": "code",
   "execution_count": 10,
   "id": "17042c56",
   "metadata": {
    "scrolled": false
   },
   "outputs": [
    {
     "data": {
      "text/html": [
       "<div>\n",
       "<style scoped>\n",
       "    .dataframe tbody tr th:only-of-type {\n",
       "        vertical-align: middle;\n",
       "    }\n",
       "\n",
       "    .dataframe tbody tr th {\n",
       "        vertical-align: top;\n",
       "    }\n",
       "\n",
       "    .dataframe thead th {\n",
       "        text-align: right;\n",
       "    }\n",
       "</style>\n",
       "<table border=\"1\" class=\"dataframe\">\n",
       "  <thead>\n",
       "    <tr style=\"text-align: right;\">\n",
       "      <th></th>\n",
       "      <th>UID</th>\n",
       "      <th>BrowsingHistory</th>\n",
       "    </tr>\n",
       "  </thead>\n",
       "  <tbody>\n",
       "    <tr>\n",
       "      <th>0</th>\n",
       "      <td>0</td>\n",
       "      <td>[('about.com', Timestamp('2006-03-06 13:59:48'...</td>\n",
       "    </tr>\n",
       "    <tr>\n",
       "      <th>1</th>\n",
       "      <td>2</td>\n",
       "      <td>[('jr.com', Timestamp('2006-03-01 21:59:34')),...</td>\n",
       "    </tr>\n",
       "    <tr>\n",
       "      <th>2</th>\n",
       "      <td>3</td>\n",
       "      <td>[('webdate.com', Timestamp('2006-05-19 00:39:4...</td>\n",
       "    </tr>\n",
       "    <tr>\n",
       "      <th>3</th>\n",
       "      <td>4</td>\n",
       "      <td>[('microsoft.com', Timestamp('2006-03-29 22:32...</td>\n",
       "    </tr>\n",
       "    <tr>\n",
       "      <th>4</th>\n",
       "      <td>5</td>\n",
       "      <td>[('about.com', Timestamp('2006-05-30 21:58:47'...</td>\n",
       "    </tr>\n",
       "    <tr>\n",
       "      <th>...</th>\n",
       "      <td>...</td>\n",
       "      <td>...</td>\n",
       "    </tr>\n",
       "    <tr>\n",
       "      <th>451195</th>\n",
       "      <td>521687</td>\n",
       "      <td>[('1001freefonts.com', Timestamp('2006-04-08 1...</td>\n",
       "    </tr>\n",
       "    <tr>\n",
       "      <th>451196</th>\n",
       "      <td>521688</td>\n",
       "      <td>[('pluggedincleveland.com', Timestamp('2006-04...</td>\n",
       "    </tr>\n",
       "    <tr>\n",
       "      <th>451197</th>\n",
       "      <td>521689</td>\n",
       "      <td>[('arab2.com', Timestamp('2006-03-08 03:17:38'...</td>\n",
       "    </tr>\n",
       "    <tr>\n",
       "      <th>451198</th>\n",
       "      <td>521690</td>\n",
       "      <td>[('washingtonpost.com', Timestamp('2006-05-11 ...</td>\n",
       "    </tr>\n",
       "    <tr>\n",
       "      <th>451199</th>\n",
       "      <td>521691</td>\n",
       "      <td>[('mpg.de', Timestamp('2006-03-01 10:51:31')),...</td>\n",
       "    </tr>\n",
       "  </tbody>\n",
       "</table>\n",
       "<p>451200 rows × 2 columns</p>\n",
       "</div>"
      ],
      "text/plain": [
       "           UID                                    BrowsingHistory\n",
       "0            0  [('about.com', Timestamp('2006-03-06 13:59:48'...\n",
       "1            2  [('jr.com', Timestamp('2006-03-01 21:59:34')),...\n",
       "2            3  [('webdate.com', Timestamp('2006-05-19 00:39:4...\n",
       "3            4  [('microsoft.com', Timestamp('2006-03-29 22:32...\n",
       "4            5  [('about.com', Timestamp('2006-05-30 21:58:47'...\n",
       "...        ...                                                ...\n",
       "451195  521687  [('1001freefonts.com', Timestamp('2006-04-08 1...\n",
       "451196  521688  [('pluggedincleveland.com', Timestamp('2006-04...\n",
       "451197  521689  [('arab2.com', Timestamp('2006-03-08 03:17:38'...\n",
       "451198  521690  [('washingtonpost.com', Timestamp('2006-05-11 ...\n",
       "451199  521691  [('mpg.de', Timestamp('2006-03-01 10:51:31')),...\n",
       "\n",
       "[451200 rows x 2 columns]"
      ]
     },
     "metadata": {},
     "output_type": "display_data"
    },
    {
     "data": {
      "text/plain": [
       "UID                451200\n",
       "BrowsingHistory    451200\n",
       "dtype: int64"
      ]
     },
     "metadata": {},
     "output_type": "display_data"
    }
   ],
   "source": [
    "temp = aol_experimental_browsing_history.copy()\n",
    "temp = temp.rename(columns={'RandID':'UID'}, inplace=False)\n",
    "display(temp, temp.nunique())"
   ]
  },
  {
   "cell_type": "code",
   "execution_count": 11,
   "id": "99e29ed1",
   "metadata": {},
   "outputs": [
    {
     "name": "stdout",
     "output_type": "stream",
     "text": [
      "CPU times: user 12.8 s, sys: 28.3 ms, total: 12.8 s\n",
      "Wall time: 12.8 s\n"
     ]
    }
   ],
   "source": [
    "%%time\n",
    "E1U = BVM(temp)\n",
    "E1U.qids(['UID'])\n",
    "E1U.sensitive(['BrowsingHistory'])\n",
    "results = E1U.assess()"
   ]
  },
  {
   "cell_type": "code",
   "execution_count": 12,
   "id": "ec2e4dae",
   "metadata": {},
   "outputs": [
    {
     "data": {
      "text/html": [
       "<div>\n",
       "<style scoped>\n",
       "    .dataframe tbody tr th:only-of-type {\n",
       "        vertical-align: middle;\n",
       "    }\n",
       "\n",
       "    .dataframe tbody tr th {\n",
       "        vertical-align: top;\n",
       "    }\n",
       "\n",
       "    .dataframe thead th {\n",
       "        text-align: right;\n",
       "    }\n",
       "</style>\n",
       "<table border=\"1\" class=\"dataframe\">\n",
       "  <thead>\n",
       "    <tr style=\"text-align: right;\">\n",
       "      <th></th>\n",
       "      <th>QID</th>\n",
       "      <th>dCR</th>\n",
       "      <th>pCR</th>\n",
       "      <th>Prior</th>\n",
       "      <th>Posterior</th>\n",
       "      <th>Histogram</th>\n",
       "    </tr>\n",
       "  </thead>\n",
       "  <tbody>\n",
       "    <tr>\n",
       "      <th>0</th>\n",
       "      <td>['UID']</td>\n",
       "      <td>1.0</td>\n",
       "      <td>451200</td>\n",
       "      <td>0.000002</td>\n",
       "      <td>1.0</td>\n",
       "      <td>{'0': 0.0, '1': 0.0, '2': 0.0, '3': 0.0, '4': ...</td>\n",
       "    </tr>\n",
       "  </tbody>\n",
       "</table>\n",
       "</div>"
      ],
      "text/plain": [
       "       QID  dCR     pCR     Prior  Posterior   \n",
       "0  ['UID']  1.0  451200  0.000002        1.0  \\\n",
       "\n",
       "                                           Histogram  \n",
       "0  {'0': 0.0, '1': 0.0, '2': 0.0, '3': 0.0, '4': ...  "
      ]
     },
     "metadata": {},
     "output_type": "display_data"
    },
    {
     "data": {
      "text/html": [
       "<div>\n",
       "<style scoped>\n",
       "    .dataframe tbody tr th:only-of-type {\n",
       "        vertical-align: middle;\n",
       "    }\n",
       "\n",
       "    .dataframe tbody tr th {\n",
       "        vertical-align: top;\n",
       "    }\n",
       "\n",
       "    .dataframe thead th {\n",
       "        text-align: right;\n",
       "    }\n",
       "</style>\n",
       "<table border=\"1\" class=\"dataframe\">\n",
       "  <thead>\n",
       "    <tr style=\"text-align: right;\">\n",
       "      <th></th>\n",
       "      <th>QID</th>\n",
       "      <th>Sensitive</th>\n",
       "      <th>dCA</th>\n",
       "      <th>pCA</th>\n",
       "      <th>Prior</th>\n",
       "      <th>Posterior</th>\n",
       "      <th>Histogram</th>\n",
       "    </tr>\n",
       "  </thead>\n",
       "  <tbody>\n",
       "    <tr>\n",
       "      <th>0</th>\n",
       "      <td>['UID']</td>\n",
       "      <td>BrowsingHistory</td>\n",
       "      <td>0.0</td>\n",
       "      <td>451200.0</td>\n",
       "      <td>0.000002</td>\n",
       "      <td>1.0</td>\n",
       "      <td>{'0': 0.0, '1': 0.0, '2': 0.0, '3': 0.0, '4': ...</td>\n",
       "    </tr>\n",
       "  </tbody>\n",
       "</table>\n",
       "</div>"
      ],
      "text/plain": [
       "       QID        Sensitive  dCA       pCA     Prior  Posterior   \n",
       "0  ['UID']  BrowsingHistory  0.0  451200.0  0.000002        1.0  \\\n",
       "\n",
       "                                           Histogram  \n",
       "0  {'0': 0.0, '1': 0.0, '2': 0.0, '3': 0.0, '4': ...  "
      ]
     },
     "metadata": {},
     "output_type": "display_data"
    }
   ],
   "source": [
    "display(results['re_id'], results['att_inf'])"
   ]
  },
  {
   "cell_type": "code",
   "execution_count": 13,
   "id": "c68195b8",
   "metadata": {},
   "outputs": [
    {
     "data": {
      "text/plain": [
       "2.2163120567375886e-06"
      ]
     },
     "metadata": {},
     "output_type": "display_data"
    },
    {
     "data": {
      "text/plain": [
       "2.2163120567375886e-06"
      ]
     },
     "metadata": {},
     "output_type": "display_data"
    }
   ],
   "source": [
    "display(results['re_id']['Prior'][0], results['att_inf']['Prior'][0])"
   ]
  },
  {
   "cell_type": "code",
   "execution_count": 14,
   "id": "da000a1e",
   "metadata": {},
   "outputs": [
    {
     "data": {
      "text/plain": [
       "1.0"
      ]
     },
     "metadata": {},
     "output_type": "display_data"
    },
    {
     "data": {
      "text/plain": [
       "1.0"
      ]
     },
     "metadata": {},
     "output_type": "display_data"
    }
   ],
   "source": [
    "display(results['re_id']['Posterior'][0], results['att_inf']['Posterior'][0])"
   ]
  },
  {
   "cell_type": "code",
   "execution_count": 15,
   "id": "066373dc",
   "metadata": {},
   "outputs": [
    {
     "data": {
      "text/plain": [
       "451200.0"
      ]
     },
     "metadata": {},
     "output_type": "display_data"
    },
    {
     "data": {
      "text/plain": [
       "451200.0"
      ]
     },
     "metadata": {},
     "output_type": "display_data"
    }
   ],
   "source": [
    "display(results['re_id']['Posterior'][0]/results['re_id']['Prior'][0], results['att_inf']['Posterior'][0]/results['att_inf']['Prior'][0])"
   ]
  }
 ],
 "metadata": {
  "kernelspec": {
   "display_name": "Python 3 (ipykernel)",
   "language": "python",
   "name": "python3"
  },
  "language_info": {
   "codemirror_mode": {
    "name": "ipython",
    "version": 3
   },
   "file_extension": ".py",
   "mimetype": "text/x-python",
   "name": "python",
   "nbconvert_exporter": "python",
   "pygments_lexer": "ipython3",
   "version": "3.11.8"
  }
 },
 "nbformat": 4,
 "nbformat_minor": 5
}
